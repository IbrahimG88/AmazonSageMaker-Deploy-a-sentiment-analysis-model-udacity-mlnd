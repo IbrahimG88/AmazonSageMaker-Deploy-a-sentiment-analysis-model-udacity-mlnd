{
 "cells": [
  {
   "cell_type": "markdown",
   "metadata": {},
   "source": [
    "# Creating a Sentiment Analysis Web App\n",
    "## Using PyTorch and SageMaker\n",
    "\n",
    "_Deep Learning Nanodegree Program | Deployment_\n",
    "\n",
    "---\n",
    "\n",
    "Now that we have a basic understanding of how SageMaker works we will try to use it to construct a complete project from end to end. Our goal will be to have a simple web page which a user can use to enter a movie review. The web page will then send the review off to our deployed model which will predict the sentiment of the entered review.\n",
    "\n",
    "## Instructions\n",
    "\n",
    "Some template code has already been provided for you, and you will need to implement additional functionality to successfully complete this notebook. You will not need to modify the included code beyond what is requested. Sections that begin with '**TODO**' in the header indicate that you need to complete or implement some portion within them. Instructions will be provided for each section and the specifics of the implementation are marked in the code block with a `# TODO: ...` comment. Please be sure to read the instructions carefully!\n",
    "\n",
    "In addition to implementing code, there will be questions for you to answer which relate to the task and your implementation. Each section where you will answer a question is preceded by a '**Question:**' header. Carefully read each question and provide your answer below the '**Answer:**' header by editing the Markdown cell.\n",
    "\n",
    "> **Note**: Code and Markdown cells can be executed using the **Shift+Enter** keyboard shortcut. In addition, a cell can be edited by typically clicking it (double-click for Markdown cells) or by pressing **Enter** while it is highlighted.\n",
    "\n",
    "## General Outline\n",
    "\n",
    "Recall the general outline for SageMaker projects using a notebook instance.\n",
    "\n",
    "1. Download or otherwise retrieve the data.\n",
    "2. Process / Prepare the data.\n",
    "3. Upload the processed data to S3.\n",
    "4. Train a chosen model.\n",
    "5. Test the trained model (typically using a batch transform job).\n",
    "6. Deploy the trained model.\n",
    "7. Use the deployed model.\n",
    "\n",
    "For this project, you will be following the steps in the general outline with some modifications. \n",
    "\n",
    "First, you will not be testing the model in its own step. You will still be testing the model, however, you will do it by deploying your model and then using the deployed model by sending the test data to it. One of the reasons for doing this is so that you can make sure that your deployed model is working correctly before moving forward.\n",
    "\n",
    "In addition, you will deploy and use your trained model a second time. In the second iteration you will customize the way that your trained model is deployed by including some of your own code. In addition, your newly deployed model will be used in the sentiment analysis web app."
   ]
  },
  {
   "cell_type": "markdown",
   "metadata": {},
   "source": [
    "## Step 1: Downloading the data\n",
    "\n",
    "As in the XGBoost in SageMaker notebook, we will be using the [IMDb dataset](http://ai.stanford.edu/~amaas/data/sentiment/)\n",
    "\n",
    "> Maas, Andrew L., et al. [Learning Word Vectors for Sentiment Analysis](http://ai.stanford.edu/~amaas/data/sentiment/). In _Proceedings of the 49th Annual Meeting of the Association for Computational Linguistics: Human Language Technologies_. Association for Computational Linguistics, 2011."
   ]
  },
  {
   "cell_type": "code",
   "execution_count": 5,
   "metadata": {},
   "outputs": [
    {
     "name": "stdout",
     "output_type": "stream",
     "text": [
      "mkdir: cannot create directory ‘../data’: File exists\n",
      "--2019-07-26 20:43:40--  http://ai.stanford.edu/~amaas/data/sentiment/aclImdb_v1.tar.gz\n",
      "Resolving ai.stanford.edu (ai.stanford.edu)... 171.64.68.10\n",
      "Connecting to ai.stanford.edu (ai.stanford.edu)|171.64.68.10|:80... connected.\n",
      "HTTP request sent, awaiting response... 200 OK\n",
      "Length: 84125825 (80M) [application/x-gzip]\n",
      "Saving to: ‘../data/aclImdb_v1.tar.gz’\n",
      "\n",
      "../data/aclImdb_v1. 100%[===================>]  80.23M  23.9MB/s    in 4.3s    \n",
      "\n",
      "2019-07-26 20:43:44 (18.6 MB/s) - ‘../data/aclImdb_v1.tar.gz’ saved [84125825/84125825]\n",
      "\n"
     ]
    }
   ],
   "source": [
    "%mkdir ../data\n",
    "!wget -O ../data/aclImdb_v1.tar.gz http://ai.stanford.edu/~amaas/data/sentiment/aclImdb_v1.tar.gz\n",
    "!tar -zxf ../data/aclImdb_v1.tar.gz -C ../data"
   ]
  },
  {
   "cell_type": "markdown",
   "metadata": {},
   "source": [
    "## Step 2: Preparing and Processing the data\n",
    "\n",
    "Also, as in the XGBoost notebook, we will be doing some initial data processing. The first few steps are the same as in the XGBoost example. To begin with, we will read in each of the reviews and combine them into a single input structure. Then, we will split the dataset into a training set and a testing set."
   ]
  },
  {
   "cell_type": "code",
   "execution_count": 4,
   "metadata": {},
   "outputs": [],
   "source": [
    "import os\n",
    "import glob\n",
    "\n",
    "def read_imdb_data(data_dir='../data/aclImdb'):\n",
    "    data = {}\n",
    "    labels = {}\n",
    "    \n",
    "    for data_type in ['train', 'test']:\n",
    "        data[data_type] = {}\n",
    "        labels[data_type] = {}\n",
    "        \n",
    "        for sentiment in ['pos', 'neg']:\n",
    "            data[data_type][sentiment] = []\n",
    "            labels[data_type][sentiment] = []\n",
    "            \n",
    "            path = os.path.join(data_dir, data_type, sentiment, '*.txt')\n",
    "            files = glob.glob(path)\n",
    "            \n",
    "            for f in files:\n",
    "                with open(f) as review:\n",
    "                    data[data_type][sentiment].append(review.read())\n",
    "                    # Here we represent a positive review by '1' and a negative review by '0'\n",
    "                    labels[data_type][sentiment].append(1 if sentiment == 'pos' else 0)\n",
    "                    \n",
    "            assert len(data[data_type][sentiment]) == len(labels[data_type][sentiment]), \\\n",
    "                    \"{}/{} data size does not match labels size\".format(data_type, sentiment)\n",
    "                \n",
    "    return data, labels"
   ]
  },
  {
   "cell_type": "code",
   "execution_count": 5,
   "metadata": {},
   "outputs": [
    {
     "name": "stdout",
     "output_type": "stream",
     "text": [
      "IMDB reviews: train = 12500 pos / 12500 neg, test = 12500 pos / 12500 neg\n"
     ]
    }
   ],
   "source": [
    "data, labels = read_imdb_data()\n",
    "print(\"IMDB reviews: train = {} pos / {} neg, test = {} pos / {} neg\".format(\n",
    "            len(data['train']['pos']), len(data['train']['neg']),\n",
    "            len(data['test']['pos']), len(data['test']['neg'])))"
   ]
  },
  {
   "cell_type": "markdown",
   "metadata": {},
   "source": [
    "Now that we've read the raw training and testing data from the downloaded dataset, we will combine the positive and negative reviews and shuffle the resulting records."
   ]
  },
  {
   "cell_type": "code",
   "execution_count": 6,
   "metadata": {},
   "outputs": [],
   "source": [
    "from sklearn.utils import shuffle\n",
    "\n",
    "def prepare_imdb_data(data, labels):\n",
    "    \"\"\"Prepare training and test sets from IMDb movie reviews.\"\"\"\n",
    "    \n",
    "    #Combine positive and negative reviews and labels\n",
    "    data_train = data['train']['pos'] + data['train']['neg']\n",
    "    data_test = data['test']['pos'] + data['test']['neg']\n",
    "    labels_train = labels['train']['pos'] + labels['train']['neg']\n",
    "    labels_test = labels['test']['pos'] + labels['test']['neg']\n",
    "    \n",
    "    #Shuffle reviews and corresponding labels within training and test sets\n",
    "    data_train, labels_train = shuffle(data_train, labels_train)\n",
    "    data_test, labels_test = shuffle(data_test, labels_test)\n",
    "    \n",
    "    # Return a unified training data, test data, training labels, test labets\n",
    "    return data_train, data_test, labels_train, labels_test"
   ]
  },
  {
   "cell_type": "code",
   "execution_count": 7,
   "metadata": {},
   "outputs": [
    {
     "name": "stdout",
     "output_type": "stream",
     "text": [
      "IMDb reviews (combined): train = 25000, test = 25000\n"
     ]
    }
   ],
   "source": [
    "train_X, test_X, train_y, test_y = prepare_imdb_data(data, labels)\n",
    "print(\"IMDb reviews (combined): train = {}, test = {}\".format(len(train_X), len(test_X)))"
   ]
  },
  {
   "cell_type": "markdown",
   "metadata": {},
   "source": [
    "Now that we have our training and testing sets unified and prepared, we should do a quick check and see an example of the data our model will be trained on. This is generally a good idea as it allows you to see how each of the further processing steps affects the reviews and it also ensures that the data has been loaded correctly."
   ]
  },
  {
   "cell_type": "code",
   "execution_count": 8,
   "metadata": {},
   "outputs": [
    {
     "name": "stdout",
     "output_type": "stream",
     "text": [
      "A team of archaeologists uncover a real treasure  the Crown of the Queen of Sheeba. From Egypt, the crown is to be transferred via steamship to San Francisco. But it won't be an easy journey. There are plenty of would-be thieves who would love to get their hands on the priceless jewels contained in the crown. Fortunately for all involved, Mr. Moto is on hand to guard the crown on its journey. However, that doesn't mean someone won't try to get their hands on the treasure.<br /><br />After the disappointment of Mr. Moto's Gamble, I went into Mr. Moto Takes a Vacation hoping for the best, but, admittedly, fearing the worst. But within the first 10 seconds of the film, I knew I would find it more enjoyable. I'm a sucker for a 1930s style mystery that features anything to do with archaeological digs in Egypt. And seeing Moto disguised as a German archaeologist (Imagine that, Peter Lorre playing a German?), the beginning scenes really drew me in. While the movie may have quickly shifted to the less exotic San Francisco, it remained just as enjoyable. Dark, sinister characters lurking in the rainy night; gunshots fired from open windows that narrowly miss the hero's head; sophisticated and supposed foolproof alarm systems just begging for someone to test them; and master criminals believed to be dead  these are the kind of elements found in a lot of the really good 1930s mysteries that I love. And Mr. Moto Takes a Vacation's got 'em all. A couple other bonuses for me included the always enjoyable Lionel Atwill in a nice little role, comic relief from G.P. Huntley that's actually funny, and a return to form for Mr. Moto. I've already mentioned his disguise in the movie's opening scenes, well the athletic Moto comes out near the film's finale. Moto is a like a Whirling Dervish of activity as he goes after his prey. All this and I haven't even mentioned the wonderful performance turned in by Lorre. Any way you look at it, Mr. Moto Takes a Vacation is a winner.<br /><br />As much as I hate that the Mr. Moto series had to end after this installment, it's understandable when you think about it. WWII was just around the corner. And after Pearl Harbor, a movie with a Japanese hero wouldn't have gone over very well. At least the Mr. Moto series ended on a very positive note.\n",
      "1\n"
     ]
    }
   ],
   "source": [
    "print(train_X[100])\n",
    "print(train_y[100])"
   ]
  },
  {
   "cell_type": "markdown",
   "metadata": {},
   "source": [
    "The first step in processing the reviews is to make sure that any html tags that appear should be removed. In addition we wish to tokenize our input, that way words such as *entertained* and *entertaining* are considered the same with regard to sentiment analysis."
   ]
  },
  {
   "cell_type": "code",
   "execution_count": 9,
   "metadata": {},
   "outputs": [],
   "source": [
    "import nltk\n",
    "from nltk.corpus import stopwords\n",
    "from nltk.stem.porter import *\n",
    "\n",
    "import re\n",
    "from bs4 import BeautifulSoup\n",
    "\n",
    "def review_to_words(review):\n",
    "    nltk.download(\"stopwords\", quiet=True)\n",
    "    stemmer = PorterStemmer()\n",
    "    \n",
    "    text = BeautifulSoup(review, \"html.parser\").get_text() # Remove HTML tags\n",
    "    text = re.sub(r\"[^a-zA-Z0-9]\", \" \", text.lower()) # Convert to lower case\n",
    "    words = text.split() # Split string into words\n",
    "    words = [w for w in words if w not in stopwords.words(\"english\")] # Remove stopwords\n",
    "    words = [PorterStemmer().stem(w) for w in words] # stem\n",
    "    \n",
    "    return words"
   ]
  },
  {
   "cell_type": "markdown",
   "metadata": {},
   "source": [
    "The `review_to_words` method defined above uses `BeautifulSoup` to remove any html tags that appear and uses the `nltk` package to tokenize the reviews. As a check to ensure we know how everything is working, try applying `review_to_words` to one of the reviews in the training set."
   ]
  },
  {
   "cell_type": "code",
   "execution_count": 10,
   "metadata": {},
   "outputs": [
    {
     "data": {
      "text/plain": [
       "['team',\n",
       " 'archaeologist',\n",
       " 'uncov',\n",
       " 'real',\n",
       " 'treasur',\n",
       " 'crown',\n",
       " 'queen',\n",
       " 'sheeba',\n",
       " 'egypt',\n",
       " 'crown',\n",
       " 'transfer',\n",
       " 'via',\n",
       " 'steamship',\n",
       " 'san',\n",
       " 'francisco',\n",
       " 'easi',\n",
       " 'journey',\n",
       " 'plenti',\n",
       " 'would',\n",
       " 'thiev',\n",
       " 'would',\n",
       " 'love',\n",
       " 'get',\n",
       " 'hand',\n",
       " 'priceless',\n",
       " 'jewel',\n",
       " 'contain',\n",
       " 'crown',\n",
       " 'fortun',\n",
       " 'involv',\n",
       " 'mr',\n",
       " 'moto',\n",
       " 'hand',\n",
       " 'guard',\n",
       " 'crown',\n",
       " 'journey',\n",
       " 'howev',\n",
       " 'mean',\n",
       " 'someon',\n",
       " 'tri',\n",
       " 'get',\n",
       " 'hand',\n",
       " 'treasur',\n",
       " 'disappoint',\n",
       " 'mr',\n",
       " 'moto',\n",
       " 'gambl',\n",
       " 'went',\n",
       " 'mr',\n",
       " 'moto',\n",
       " 'take',\n",
       " 'vacat',\n",
       " 'hope',\n",
       " 'best',\n",
       " 'admittedli',\n",
       " 'fear',\n",
       " 'worst',\n",
       " 'within',\n",
       " 'first',\n",
       " '10',\n",
       " 'second',\n",
       " 'film',\n",
       " 'knew',\n",
       " 'would',\n",
       " 'find',\n",
       " 'enjoy',\n",
       " 'sucker',\n",
       " '1930',\n",
       " 'style',\n",
       " 'mysteri',\n",
       " 'featur',\n",
       " 'anyth',\n",
       " 'archaeolog',\n",
       " 'dig',\n",
       " 'egypt',\n",
       " 'see',\n",
       " 'moto',\n",
       " 'disguis',\n",
       " 'german',\n",
       " 'archaeologist',\n",
       " 'imagin',\n",
       " 'peter',\n",
       " 'lorr',\n",
       " 'play',\n",
       " 'german',\n",
       " 'begin',\n",
       " 'scene',\n",
       " 'realli',\n",
       " 'drew',\n",
       " 'movi',\n",
       " 'may',\n",
       " 'quickli',\n",
       " 'shift',\n",
       " 'less',\n",
       " 'exot',\n",
       " 'san',\n",
       " 'francisco',\n",
       " 'remain',\n",
       " 'enjoy',\n",
       " 'dark',\n",
       " 'sinist',\n",
       " 'charact',\n",
       " 'lurk',\n",
       " 'raini',\n",
       " 'night',\n",
       " 'gunshot',\n",
       " 'fire',\n",
       " 'open',\n",
       " 'window',\n",
       " 'narrowli',\n",
       " 'miss',\n",
       " 'hero',\n",
       " 'head',\n",
       " 'sophist',\n",
       " 'suppos',\n",
       " 'foolproof',\n",
       " 'alarm',\n",
       " 'system',\n",
       " 'beg',\n",
       " 'someon',\n",
       " 'test',\n",
       " 'master',\n",
       " 'crimin',\n",
       " 'believ',\n",
       " 'dead',\n",
       " 'kind',\n",
       " 'element',\n",
       " 'found',\n",
       " 'lot',\n",
       " 'realli',\n",
       " 'good',\n",
       " '1930',\n",
       " 'mysteri',\n",
       " 'love',\n",
       " 'mr',\n",
       " 'moto',\n",
       " 'take',\n",
       " 'vacat',\n",
       " 'got',\n",
       " 'em',\n",
       " 'coupl',\n",
       " 'bonus',\n",
       " 'includ',\n",
       " 'alway',\n",
       " 'enjoy',\n",
       " 'lionel',\n",
       " 'atwil',\n",
       " 'nice',\n",
       " 'littl',\n",
       " 'role',\n",
       " 'comic',\n",
       " 'relief',\n",
       " 'g',\n",
       " 'p',\n",
       " 'huntley',\n",
       " 'actual',\n",
       " 'funni',\n",
       " 'return',\n",
       " 'form',\n",
       " 'mr',\n",
       " 'moto',\n",
       " 'alreadi',\n",
       " 'mention',\n",
       " 'disguis',\n",
       " 'movi',\n",
       " 'open',\n",
       " 'scene',\n",
       " 'well',\n",
       " 'athlet',\n",
       " 'moto',\n",
       " 'come',\n",
       " 'near',\n",
       " 'film',\n",
       " 'final',\n",
       " 'moto',\n",
       " 'like',\n",
       " 'whirl',\n",
       " 'dervish',\n",
       " 'activ',\n",
       " 'goe',\n",
       " 'prey',\n",
       " 'even',\n",
       " 'mention',\n",
       " 'wonder',\n",
       " 'perform',\n",
       " 'turn',\n",
       " 'lorr',\n",
       " 'way',\n",
       " 'look',\n",
       " 'mr',\n",
       " 'moto',\n",
       " 'take',\n",
       " 'vacat',\n",
       " 'winner',\n",
       " 'much',\n",
       " 'hate',\n",
       " 'mr',\n",
       " 'moto',\n",
       " 'seri',\n",
       " 'end',\n",
       " 'instal',\n",
       " 'understand',\n",
       " 'think',\n",
       " 'wwii',\n",
       " 'around',\n",
       " 'corner',\n",
       " 'pearl',\n",
       " 'harbor',\n",
       " 'movi',\n",
       " 'japanes',\n",
       " 'hero',\n",
       " 'gone',\n",
       " 'well',\n",
       " 'least',\n",
       " 'mr',\n",
       " 'moto',\n",
       " 'seri',\n",
       " 'end',\n",
       " 'posit',\n",
       " 'note']"
      ]
     },
     "execution_count": 10,
     "metadata": {},
     "output_type": "execute_result"
    }
   ],
   "source": [
    "# TODO: Apply review_to_words to a review (train_X[100] or any other review)\n",
    "review_to_words(train_X[100])"
   ]
  },
  {
   "cell_type": "markdown",
   "metadata": {},
   "source": [
    "**Question:** Above we mentioned that `review_to_words` method removes html formatting and allows us to tokenize the words found in a review, for example, converting *entertained* and *entertaining* into *entertain* so that they are treated as though they are the same word. What else, if anything, does this method do to the input?"
   ]
  },
  {
   "cell_type": "markdown",
   "metadata": {},
   "source": [
    "**Answer:**\n",
    "\n",
    "- It also converts all words to lowecase."
   ]
  },
  {
   "cell_type": "markdown",
   "metadata": {},
   "source": [
    "The method below applies the `review_to_words` method to each of the reviews in the training and testing datasets. In addition it caches the results. This is because performing this processing step can take a long time. This way if you are unable to complete the notebook in the current session, you can come back without needing to process the data a second time."
   ]
  },
  {
   "cell_type": "code",
   "execution_count": 11,
   "metadata": {},
   "outputs": [],
   "source": [
    "import pickle\n",
    "\n",
    "cache_dir = os.path.join(\"../cache\", \"sentiment_analysis\")  # where to store cache files\n",
    "os.makedirs(cache_dir, exist_ok=True)  # ensure cache directory exists\n",
    "\n",
    "def preprocess_data(data_train, data_test, labels_train, labels_test,\n",
    "                    cache_dir=cache_dir, cache_file=\"preprocessed_data.pkl\"):\n",
    "    \"\"\"Convert each review to words; read from cache if available.\"\"\"\n",
    "\n",
    "    # If cache_file is not None, try to read from it first\n",
    "    cache_data = None\n",
    "    if cache_file is not None:\n",
    "        try:\n",
    "            with open(os.path.join(cache_dir, cache_file), \"rb\") as f:\n",
    "                cache_data = pickle.load(f)\n",
    "            print(\"Read preprocessed data from cache file:\", cache_file)\n",
    "        except:\n",
    "            pass  # unable to read from cache, but that's okay\n",
    "    \n",
    "    # If cache is missing, then do the heavy lifting\n",
    "    if cache_data is None:\n",
    "        # Preprocess training and test data to obtain words for each review\n",
    "        #words_train = list(map(review_to_words, data_train))\n",
    "        #words_test = list(map(review_to_words, data_test))\n",
    "        words_train = [review_to_words(review) for review in data_train]\n",
    "        words_test = [review_to_words(review) for review in data_test]\n",
    "        \n",
    "        # Write to cache file for future runs\n",
    "        if cache_file is not None:\n",
    "            cache_data = dict(words_train=words_train, words_test=words_test,\n",
    "                              labels_train=labels_train, labels_test=labels_test)\n",
    "            with open(os.path.join(cache_dir, cache_file), \"wb\") as f:\n",
    "                pickle.dump(cache_data, f)\n",
    "            print(\"Wrote preprocessed data to cache file:\", cache_file)\n",
    "    else:\n",
    "        # Unpack data loaded from cache file\n",
    "        words_train, words_test, labels_train, labels_test = (cache_data['words_train'],\n",
    "                cache_data['words_test'], cache_data['labels_train'], cache_data['labels_test'])\n",
    "    \n",
    "    return words_train, words_test, labels_train, labels_test"
   ]
  },
  {
   "cell_type": "code",
   "execution_count": 12,
   "metadata": {},
   "outputs": [
    {
     "name": "stdout",
     "output_type": "stream",
     "text": [
      "Read preprocessed data from cache file: preprocessed_data.pkl\n"
     ]
    }
   ],
   "source": [
    "# Preprocess data\n",
    "train_X, test_X, train_y, test_y = preprocess_data(train_X, test_X, train_y, test_y)"
   ]
  },
  {
   "cell_type": "markdown",
   "metadata": {},
   "source": [
    "## Transform the data\n",
    "\n",
    "In the XGBoost notebook we transformed the data from its word representation to a bag-of-words feature representation. For the model we are going to construct in this notebook we will construct a feature representation which is very similar. To start, we will represent each word as an integer. Of course, some of the words that appear in the reviews occur very infrequently and so likely don't contain much information for the purposes of sentiment analysis. The way we will deal with this problem is that we will fix the size of our working vocabulary and we will only include the words that appear most frequently. We will then combine all of the infrequent words into a single category and, in our case, we will label it as `1`.\n",
    "\n",
    "Since we will be using a recurrent neural network, it will be convenient if the length of each review is the same. To do this, we will fix a size for our reviews and then pad short reviews with the category 'no word' (which we will label `0`) and truncate long reviews."
   ]
  },
  {
   "cell_type": "markdown",
   "metadata": {},
   "source": [
    "### (TODO) Create a word dictionary\n",
    "\n",
    "To begin with, we need to construct a way to map words that appear in the reviews to integers. Here we fix the size of our vocabulary (including the 'no word' and 'infrequent' categories) to be `5000` but you may wish to change this to see how it affects the model.\n",
    "\n",
    "> **TODO:** Complete the implementation for the `build_dict()` method below. Note that even though the vocab_size is set to `5000`, we only want to construct a mapping for the most frequently appearing `4998` words. This is because we want to reserve the special labels `0` for 'no word' and `1` for 'infrequent word'."
   ]
  },
  {
   "cell_type": "code",
   "execution_count": 13,
   "metadata": {},
   "outputs": [],
   "source": [
    "import numpy as np\n",
    "from collections import Counter\n",
    "def build_dict(data, vocab_size = 5000):\n",
    "    \"\"\"Construct and return a dictionary mapping each of the most frequently appearing words to a unique integer.\"\"\"\n",
    "    \n",
    "    # TODO: Determine how often each word appears in `data`. Note that `data` is a list of sentences and that a\n",
    "    #       sentence is a list of words.\n",
    "    \n",
    "    \n",
    "    # Counter object that returns a dictionary and the frequency of words appearance\n",
    "    cnt = Counter()\n",
    "    \n",
    "    \n",
    "    word_list = []\n",
    "    \n",
    "    # this function takes a list of words as a parameter and returns a dictionary with the frequency of occurrance for\n",
    "    # every word in the given list.\n",
    "    def counter (words):\n",
    "        for word in words:\n",
    "            cnt[word] += 1\n",
    "        return cnt\n",
    "    \n",
    "  \n",
    "    \n",
    "    # This function extracts all words from all lists in data, the sentences, and creates a single list. The single\n",
    "    # list is then passed as an argument to the counter() function.\n",
    "    def dict_creator ():\n",
    "        for list in data:\n",
    "            for word in list:\n",
    "                word_list.append(word)\n",
    "        counter(word_list)\n",
    "    \n",
    "    \n",
    "    dict_creator()\n",
    "\n",
    "    word_count = dict(cnt)\n",
    "    \n",
    "\n",
    "    \n",
    "    \n",
    "    # The words are sorted in a descending oreder, the first item is the most occurring.\n",
    "    sorted_words_frequency = sorted(word_count.items(), key = lambda x : x[1], reverse = True)\n",
    "   \n",
    "    # to extract the words sorted only without their frequency of occurrance:\n",
    "    n = 0\n",
    "    sorted_words = [x[n] for x in sorted_words_frequency]\n",
    "    \n",
    "   # word_count = {} # A dict storing the words that appear in the reviews along with how often they occur\n",
    "    \n",
    "    \n",
    "   \n",
    "    # TODO: Sort the words found in `data` so that sorted_words[0] is the most frequently appearing word and\n",
    "    #       sorted_words[-1] is the least frequently appearing word.\n",
    "    \n",
    " #   sorted_words = none\n",
    "    \n",
    "    # word_count = {}\n",
    "    word_dict = {} # This is what we are building, a dictionary that translates words into integers\n",
    "    for idx, word in enumerate(sorted_words[:vocab_size - 2]): # The -2 is so that we save room for the 'no word'\n",
    "        word_dict[word] = idx + 2                              # 'infrequent' labels    \n",
    "    return word_dict\n"
   ]
  },
  {
   "cell_type": "code",
   "execution_count": 14,
   "metadata": {},
   "outputs": [
    {
     "name": "stdout",
     "output_type": "stream",
     "text": [
      "{'movi': 2, 'film': 3, 'one': 4, 'like': 5, 'time': 6, 'good': 7, 'make': 8, 'charact': 9, 'get': 10, 'see': 11, 'watch': 12, 'stori': 13, 'even': 14, 'would': 15, 'realli': 16, 'well': 17, 'scene': 18, 'look': 19, 'show': 20, 'much': 21, 'end': 22, 'peopl': 23, 'bad': 24, 'go': 25, 'great': 26, 'also': 27, 'first': 28, 'love': 29, 'think': 30, 'way': 31, 'act': 32, 'play': 33, 'made': 34, 'thing': 35, 'could': 36, 'know': 37, 'say': 38, 'seem': 39, 'work': 40, 'plot': 41, 'two': 42, 'actor': 43, 'year': 44, 'come': 45, 'mani': 46, 'seen': 47, 'take': 48, 'want': 49, 'life': 50, 'never': 51, 'littl': 52, 'best': 53, 'tri': 54, 'man': 55, 'ever': 56, 'give': 57, 'better': 58, 'still': 59, 'perform': 60, 'find': 61, 'feel': 62, 'part': 63, 'back': 64, 'use': 65, 'someth': 66, 'director': 67, 'actual': 68, 'interest': 69, 'lot': 70, 'real': 71, 'old': 72, 'cast': 73, 'though': 74, 'live': 75, 'star': 76, 'enjoy': 77, 'guy': 78, 'anoth': 79, 'new': 80, 'role': 81, 'noth': 82, '10': 83, 'funni': 84, 'music': 85, 'point': 86, 'start': 87, 'set': 88, 'girl': 89, 'origin': 90, 'day': 91, 'world': 92, 'everi': 93, 'believ': 94, 'turn': 95, 'quit': 96, 'direct': 97, 'us': 98, 'thought': 99, 'fact': 100, 'minut': 101, 'horror': 102, 'kill': 103, 'action': 104, 'comedi': 105, 'pretti': 106, 'young': 107, 'wonder': 108, 'happen': 109, 'around': 110, 'got': 111, 'effect': 112, 'right': 113, 'long': 114, 'howev': 115, 'big': 116, 'line': 117, 'famili': 118, 'enough': 119, 'seri': 120, 'may': 121, 'need': 122, 'fan': 123, 'bit': 124, 'script': 125, 'beauti': 126, 'person': 127, 'becom': 128, 'without': 129, 'must': 130, 'alway': 131, 'friend': 132, 'tell': 133, 'reason': 134, 'saw': 135, 'last': 136, 'final': 137, 'kid': 138, 'almost': 139, 'put': 140, 'least': 141, 'sure': 142, 'done': 143, 'whole': 144, 'place': 145, 'complet': 146, 'kind': 147, 'expect': 148, 'differ': 149, 'shot': 150, 'far': 151, 'mean': 152, 'anyth': 153, 'book': 154, 'laugh': 155, 'might': 156, 'name': 157, 'sinc': 158, 'begin': 159, '2': 160, 'probabl': 161, 'woman': 162, 'help': 163, 'entertain': 164, 'let': 165, 'screen': 166, 'call': 167, 'tv': 168, 'moment': 169, 'away': 170, 'read': 171, 'yet': 172, 'rather': 173, 'worst': 174, 'run': 175, 'fun': 176, 'lead': 177, 'hard': 178, 'audienc': 179, 'idea': 180, 'anyon': 181, 'episod': 182, 'american': 183, 'found': 184, 'appear': 185, 'bore': 186, 'especi': 187, 'although': 188, 'hope': 189, 'keep': 190, 'cours': 191, 'anim': 192, 'job': 193, 'goe': 194, 'move': 195, 'sens': 196, 'dvd': 197, 'version': 198, 'war': 199, 'money': 200, 'someon': 201, 'mind': 202, 'mayb': 203, 'problem': 204, 'true': 205, 'hous': 206, 'everyth': 207, 'nice': 208, 'second': 209, 'rate': 210, 'three': 211, 'night': 212, 'face': 213, 'follow': 214, 'recommend': 215, 'product': 216, 'main': 217, 'worth': 218, 'leav': 219, 'human': 220, 'special': 221, 'excel': 222, 'togeth': 223, 'wast': 224, 'everyon': 225, 'sound': 226, 'john': 227, 'hand': 228, '1': 229, 'father': 230, 'later': 231, 'eye': 232, 'said': 233, 'view': 234, 'instead': 235, 'review': 236, 'boy': 237, 'high': 238, 'hour': 239, 'miss': 240, 'classic': 241, 'talk': 242, 'wife': 243, 'understand': 244, 'left': 245, 'care': 246, 'black': 247, 'death': 248, 'open': 249, 'murder': 250, 'write': 251, 'half': 252, 'head': 253, 'rememb': 254, 'chang': 255, 'viewer': 256, 'fight': 257, 'gener': 258, 'surpris': 259, 'short': 260, 'includ': 261, 'die': 262, 'fall': 263, 'less': 264, 'els': 265, 'entir': 266, 'piec': 267, 'involv': 268, 'pictur': 269, 'simpli': 270, 'power': 271, 'top': 272, 'home': 273, 'total': 274, 'usual': 275, 'budget': 276, 'attempt': 277, 'suppos': 278, 'releas': 279, 'hollywood': 280, 'terribl': 281, 'song': 282, 'men': 283, 'possibl': 284, 'featur': 285, 'portray': 286, 'disappoint': 287, 'poor': 288, '3': 289, 'coupl': 290, 'camera': 291, 'stupid': 292, 'dead': 293, 'wrong': 294, 'produc': 295, 'low': 296, 'either': 297, 'video': 298, 'aw': 299, 'definit': 300, 'except': 301, 'rest': 302, 'given': 303, 'absolut': 304, 'women': 305, 'lack': 306, 'word': 307, 'writer': 308, 'titl': 309, 'talent': 310, 'decid': 311, 'full': 312, 'perfect': 313, 'along': 314, 'style': 315, 'close': 316, 'truli': 317, 'school': 318, 'save': 319, 'emot': 320, 'sex': 321, 'age': 322, 'next': 323, 'bring': 324, 'mr': 325, 'case': 326, 'killer': 327, 'heart': 328, 'comment': 329, 'sort': 330, 'creat': 331, 'perhap': 332, 'came': 333, 'brother': 334, 'sever': 335, 'joke': 336, 'art': 337, 'dialogu': 338, 'game': 339, 'small': 340, 'base': 341, 'flick': 342, 'written': 343, 'sequenc': 344, 'meet': 345, 'earli': 346, 'often': 347, 'other': 348, 'mother': 349, 'develop': 350, 'humor': 351, 'actress': 352, 'consid': 353, 'dark': 354, 'guess': 355, 'amaz': 356, 'unfortun': 357, 'light': 358, 'lost': 359, 'exampl': 360, 'cinema': 361, 'drama': 362, 'ye': 363, 'white': 364, 'experi': 365, 'imagin': 366, 'mention': 367, 'stop': 368, 'natur': 369, 'forc': 370, 'manag': 371, 'felt': 372, 'present': 373, 'cut': 374, 'children': 375, 'fail': 376, 'son': 377, 'qualiti': 378, 'support': 379, 'car': 380, 'ask': 381, 'hit': 382, 'side': 383, 'voic': 384, 'extrem': 385, 'impress': 386, 'evil': 387, 'wors': 388, 'went': 389, 'stand': 390, 'certainli': 391, 'basic': 392, 'oh': 393, 'overal': 394, 'favorit': 395, 'horribl': 396, 'mysteri': 397, 'number': 398, 'type': 399, 'danc': 400, 'wait': 401, 'hero': 402, 'alreadi': 403, '5': 404, 'learn': 405, 'matter': 406, '4': 407, 'michael': 408, 'genr': 409, 'fine': 410, 'despit': 411, 'throughout': 412, 'walk': 413, 'success': 414, 'histori': 415, 'question': 416, 'zombi': 417, 'town': 418, 'relationship': 419, 'realiz': 420, 'past': 421, 'child': 422, 'daughter': 423, 'late': 424, 'b': 425, 'wish': 426, 'hate': 427, 'credit': 428, 'event': 429, 'theme': 430, 'touch': 431, 'citi': 432, 'today': 433, 'sometim': 434, 'behind': 435, 'god': 436, 'twist': 437, 'sit': 438, 'stay': 439, 'deal': 440, 'annoy': 441, 'abl': 442, 'rent': 443, 'pleas': 444, 'edit': 445, 'blood': 446, 'deserv': 447, 'anyway': 448, 'comic': 449, 'appar': 450, 'soon': 451, 'gave': 452, 'etc': 453, 'level': 454, 'slow': 455, 'chanc': 456, 'score': 457, 'bodi': 458, 'brilliant': 459, 'incred': 460, 'figur': 461, 'situat': 462, 'major': 463, 'self': 464, 'stuff': 465, 'decent': 466, 'element': 467, 'dream': 468, 'return': 469, 'obvious': 470, 'continu': 471, 'order': 472, 'pace': 473, 'ridicul': 474, 'happi': 475, 'group': 476, 'add': 477, 'highli': 478, 'thank': 479, 'ladi': 480, 'novel': 481, 'speak': 482, 'pain': 483, 'career': 484, 'shoot': 485, 'strang': 486, 'heard': 487, 'sad': 488, 'polic': 489, 'husband': 490, 'import': 491, 'break': 492, 'took': 493, 'cannot': 494, 'strong': 495, 'predict': 496, 'robert': 497, 'violenc': 498, 'hilari': 499, 'recent': 500, 'countri': 501, 'known': 502, 'particularli': 503, 'pick': 504, 'documentari': 505, 'season': 506, 'critic': 507, 'jame': 508, 'compar': 509, 'obviou': 510, 'alon': 511, 'told': 512, 'state': 513, 'visual': 514, 'rock': 515, 'offer': 516, 'theater': 517, 'exist': 518, 'opinion': 519, 'gore': 520, 'crap': 521, 'hold': 522, 'result': 523, 'realiti': 524, 'room': 525, 'hear': 526, 'clich': 527, 'effort': 528, 'thriller': 529, 'caus': 530, 'serious': 531, 'explain': 532, 'sequel': 533, 'king': 534, 'local': 535, 'ago': 536, 'none': 537, 'hell': 538, 'note': 539, 'allow': 540, 'david': 541, 'sister': 542, 'simpl': 543, 'femal': 544, 'deliv': 545, 'ok': 546, 'convinc': 547, 'class': 548, 'check': 549, 'suspens': 550, 'win': 551, 'oscar': 552, 'buy': 553, 'huge': 554, 'valu': 555, 'sexual': 556, 'cool': 557, 'scari': 558, 'similar': 559, 'excit': 560, 'apart': 561, 'provid': 562, 'exactli': 563, 'avoid': 564, 'shown': 565, 'seriou': 566, 'english': 567, 'taken': 568, 'whose': 569, 'cinematographi': 570, 'shock': 571, 'polit': 572, 'spoiler': 573, 'offic': 574, 'across': 575, 'middl': 576, 'pass': 577, 'street': 578, 'messag': 579, 'somewhat': 580, 'charm': 581, 'silli': 582, 'modern': 583, 'confus': 584, 'filmmak': 585, 'form': 586, 'tale': 587, 'singl': 588, 'jack': 589, 'mostli': 590, 'william': 591, 'carri': 592, 'attent': 593, 'sing': 594, 'five': 595, 'subject': 596, 'prove': 597, 'richard': 598, 'team': 599, 'stage': 600, 'unlik': 601, 'cop': 602, 'georg': 603, 'televis': 604, 'monster': 605, 'earth': 606, 'cover': 607, 'villain': 608, 'pay': 609, 'marri': 610, 'toward': 611, 'build': 612, 'pull': 613, 'parent': 614, 'due': 615, 'respect': 616, 'fill': 617, 'four': 618, 'dialog': 619, 'remind': 620, 'futur': 621, 'typic': 622, 'weak': 623, '7': 624, 'cheap': 625, 'intellig': 626, 'atmospher': 627, 'british': 628, 'clearli': 629, '80': 630, 'non': 631, 'dog': 632, 'paul': 633, 'fast': 634, '8': 635, 'artist': 636, 'knew': 637, 'crime': 638, 'easili': 639, 'escap': 640, 'adult': 641, 'doubt': 642, 'detail': 643, 'date': 644, 'romant': 645, 'member': 646, 'fire': 647, 'gun': 648, 'drive': 649, 'straight': 650, 'beyond': 651, 'fit': 652, 'attack': 653, 'imag': 654, 'upon': 655, 'posit': 656, 'whether': 657, 'peter': 658, 'fantast': 659, 'appreci': 660, 'captur': 661, 'aspect': 662, 'ten': 663, 'plan': 664, 'discov': 665, 'remain': 666, 'near': 667, 'period': 668, 'realist': 669, 'air': 670, 'mark': 671, 'red': 672, 'dull': 673, 'adapt': 674, 'within': 675, 'lose': 676, 'spend': 677, 'color': 678, 'materi': 679, 'chase': 680, 'mari': 681, 'storylin': 682, 'forget': 683, 'bunch': 684, 'clear': 685, 'lee': 686, 'victim': 687, 'nearli': 688, 'box': 689, 'york': 690, 'inspir': 691, 'match': 692, 'finish': 693, 'mess': 694, 'standard': 695, 'easi': 696, 'truth': 697, 'busi': 698, 'suffer': 699, 'space': 700, 'dramat': 701, 'bill': 702, 'western': 703, 'e': 704, 'list': 705, 'battl': 706, 'notic': 707, 'de': 708, 'french': 709, 'ad': 710, '9': 711, 'tom': 712, 'larg': 713, 'among': 714, 'eventu': 715, 'train': 716, 'accept': 717, 'agre': 718, 'spirit': 719, 'soundtrack': 720, 'third': 721, 'teenag': 722, 'soldier': 723, 'adventur': 724, 'sorri': 725, 'suggest': 726, 'famou': 727, 'drug': 728, 'normal': 729, 'cri': 730, 'babi': 731, 'troubl': 732, 'ultim': 733, 'contain': 734, 'certain': 735, 'cultur': 736, 'romanc': 737, 'rare': 738, 'lame': 739, 'somehow': 740, 'disney': 741, 'mix': 742, 'gone': 743, 'cartoon': 744, 'student': 745, 'fear': 746, 'reveal': 747, 'kept': 748, 'suck': 749, 'attract': 750, 'appeal': 751, 'premis': 752, 'greatest': 753, 'design': 754, 'secret': 755, 'shame': 756, 'throw': 757, 'scare': 758, 'copi': 759, 'wit': 760, 'america': 761, 'admit': 762, 'relat': 763, 'brought': 764, 'particular': 765, 'screenplay': 766, 'whatev': 767, 'pure': 768, '70': 769, 'averag': 770, 'harri': 771, 'master': 772, 'describ': 773, 'male': 774, 'treat': 775, '20': 776, 'issu': 777, 'fantasi': 778, 'warn': 779, 'inde': 780, 'forward': 781, 'background': 782, 'project': 783, 'free': 784, 'memor': 785, 'japanes': 786, 'poorli': 787, 'award': 788, 'locat': 789, 'potenti': 790, 'amus': 791, 'struggl': 792, 'weird': 793, 'magic': 794, 'societi': 795, 'okay': 796, 'imdb': 797, 'accent': 798, 'doctor': 799, 'hot': 800, 'water': 801, '30': 802, 'alien': 803, 'express': 804, 'dr': 805, 'odd': 806, 'crazi': 807, 'choic': 808, 'studio': 809, 'fiction': 810, 'control': 811, 'becam': 812, 'masterpiec': 813, 'fli': 814, 'difficult': 815, 'joe': 816, 'scream': 817, 'costum': 818, 'lover': 819, 'refer': 820, 'uniqu': 821, 'remak': 822, 'vampir': 823, 'girlfriend': 824, 'prison': 825, 'execut': 826, 'wear': 827, 'jump': 828, 'unless': 829, 'wood': 830, 'creepi': 831, 'cheesi': 832, 'superb': 833, 'otherwis': 834, 'parti': 835, 'roll': 836, 'ghost': 837, 'mad': 838, 'public': 839, 'depict': 840, 'earlier': 841, 'badli': 842, 'moral': 843, 'week': 844, 'jane': 845, 'dumb': 846, 'fi': 847, 'flaw': 848, 'grow': 849, 'deep': 850, 'sci': 851, 'cat': 852, 'maker': 853, 'connect': 854, 'older': 855, 'footag': 856, 'bother': 857, 'plenti': 858, 'outsid': 859, 'stick': 860, 'gay': 861, 'catch': 862, 'co': 863, 'plu': 864, 'popular': 865, 'equal': 866, 'social': 867, 'disturb': 868, 'quickli': 869, 'perfectli': 870, 'dress': 871, '90': 872, 'era': 873, 'mistak': 874, 'lie': 875, 'ride': 876, 'previou': 877, 'combin': 878, 'concept': 879, 'band': 880, 'surviv': 881, 'answer': 882, 'rich': 883, 'front': 884, 'sweet': 885, 'christma': 886, 'insid': 887, 'eat': 888, 'concern': 889, 'bare': 890, 'listen': 891, 'beat': 892, 'ben': 893, 'c': 894, 'serv': 895, 'term': 896, 'german': 897, 'meant': 898, 'la': 899, 'stereotyp': 900, 'hardli': 901, 'innoc': 902, 'law': 903, 'desper': 904, 'memori': 905, 'promis': 906, 'intent': 907, 'cute': 908, 'inform': 909, 'variou': 910, 'steal': 911, 'brain': 912, 'post': 913, 'tone': 914, 'island': 915, 'amount': 916, 'nuditi': 917, 'track': 918, 'compani': 919, 'store': 920, 'claim': 921, 'hair': 922, '50': 923, 'flat': 924, 'univers': 925, 'land': 926, 'kick': 927, 'fairli': 928, 'scott': 929, 'danger': 930, 'player': 931, 'crew': 932, 'step': 933, 'plain': 934, 'toni': 935, 'share': 936, 'tast': 937, 'centuri': 938, 'engag': 939, 'achiev': 940, 'cold': 941, 'travel': 942, 'rip': 943, 'suit': 944, 'record': 945, 'sadli': 946, 'manner': 947, 'wrote': 948, 'spot': 949, 'tension': 950, 'intens': 951, 'fascin': 952, 'familiar': 953, 'depth': 954, 'remark': 955, 'burn': 956, 'destroy': 957, 'histor': 958, 'sleep': 959, 'purpos': 960, 'languag': 961, 'ignor': 962, 'ruin': 963, 'delight': 964, 'unbeliev': 965, 'italian': 966, 'collect': 967, 'abil': 968, 'soul': 969, 'clever': 970, 'detect': 971, 'violent': 972, 'rape': 973, 'reach': 974, 'door': 975, 'liter': 976, 'trash': 977, 'scienc': 978, 'commun': 979, 'caught': 980, 'reveng': 981, 'creatur': 982, 'trip': 983, 'approach': 984, 'fashion': 985, 'intrigu': 986, 'skill': 987, 'introduc': 988, 'paint': 989, 'channel': 990, 'complex': 991, 'camp': 992, 'christian': 993, 'extra': 994, 'hole': 995, 'immedi': 996, 'mental': 997, 'ann': 998, 'limit': 999, 'mere': 1000, '6': 1001, 'million': 1002, 'comput': 1003, 'slightli': 1004, 'conclus': 1005, 'slasher': 1006, 'suddenli': 1007, 'imposs': 1008, 'neither': 1009, 'teen': 1010, 'crimin': 1011, 'nation': 1012, 'physic': 1013, 'spent': 1014, 'respons': 1015, 'planet': 1016, 'fake': 1017, 'receiv': 1018, 'blue': 1019, 'sick': 1020, 'bizarr': 1021, 'embarrass': 1022, 'indian': 1023, '15': 1024, 'ring': 1025, 'pop': 1026, 'drop': 1027, 'drag': 1028, 'haunt': 1029, 'suspect': 1030, 'pointless': 1031, 'search': 1032, 'edg': 1033, 'handl': 1034, 'biggest': 1035, 'common': 1036, 'faith': 1037, 'arriv': 1038, 'hurt': 1039, 'technic': 1040, 'angel': 1041, 'genuin': 1042, 'dad': 1043, 'f': 1044, 'solid': 1045, 'awesom': 1046, 'colleg': 1047, 'van': 1048, 'former': 1049, 'focu': 1050, 'count': 1051, 'tear': 1052, 'heavi': 1053, 'wall': 1054, 'rais': 1055, 'visit': 1056, 'younger': 1057, 'laughabl': 1058, 'fair': 1059, 'sign': 1060, 'excus': 1061, 'cult': 1062, 'tough': 1063, 'key': 1064, 'motion': 1065, 'desir': 1066, 'super': 1067, 'addit': 1068, 'stun': 1069, 'exploit': 1070, 'cloth': 1071, 'smith': 1072, 'tortur': 1073, 'davi': 1074, 'race': 1075, 'author': 1076, 'cross': 1077, 'jim': 1078, 'minor': 1079, 'compel': 1080, 'consist': 1081, 'focus': 1082, 'commit': 1083, 'chemistri': 1084, 'pathet': 1085, 'park': 1086, 'frank': 1087, 'obsess': 1088, 'tradit': 1089, 'grade': 1090, '60': 1091, 'asid': 1092, 'brutal': 1093, 'steve': 1094, 'somewher': 1095, 'grant': 1096, 'opportun': 1097, 'depress': 1098, 'u': 1099, 'rule': 1100, 'explor': 1101, 'honest': 1102, 'besid': 1103, 'anti': 1104, 'dub': 1105, 'trailer': 1106, 'intend': 1107, 'bar': 1108, 'longer': 1109, 'regard': 1110, 'west': 1111, 'scientist': 1112, 'decad': 1113, 'judg': 1114, 'silent': 1115, 'armi': 1116, 'creativ': 1117, 'wild': 1118, 'south': 1119, 'g': 1120, 'stewart': 1121, 'draw': 1122, 'road': 1123, 'govern': 1124, 'boss': 1125, 'ex': 1126, 'practic': 1127, 'club': 1128, 'festiv': 1129, 'motiv': 1130, 'surprisingli': 1131, 'gang': 1132, 'page': 1133, 'redeem': 1134, 'london': 1135, 'green': 1136, 'militari': 1137, 'machin': 1138, 'display': 1139, 'idiot': 1140, 'aliv': 1141, 'thrill': 1142, 'repeat': 1143, 'folk': 1144, 'nobodi': 1145, 'yeah': 1146, '100': 1147, '40': 1148, 'journey': 1149, 'garbag': 1150, 'smile': 1151, 'ground': 1152, 'tire': 1153, 'bought': 1154, 'mood': 1155, 'cost': 1156, 'sam': 1157, 'stone': 1158, 'mouth': 1159, 'noir': 1160, 'agent': 1161, 'terrif': 1162, 'utterli': 1163, 'requir': 1164, 'area': 1165, 'sexi': 1166, 'honestli': 1167, 'report': 1168, 'geniu': 1169, 'enter': 1170, 'investig': 1171, 'humour': 1172, 'glad': 1173, 'serial': 1174, 'narr': 1175, 'occasion': 1176, 'passion': 1177, 'marriag': 1178, 'climax': 1179, 'industri': 1180, 'studi': 1181, 'nowher': 1182, 'center': 1183, 'demon': 1184, 'charli': 1185, 'ship': 1186, 'loos': 1187, 'hors': 1188, 'bear': 1189, 'wow': 1190, 'hang': 1191, 'graphic': 1192, 'giant': 1193, 'admir': 1194, 'send': 1195, 'loud': 1196, 'damn': 1197, 'rel': 1198, 'subtl': 1199, 'profession': 1200, 'nake': 1201, 'blow': 1202, 'bottom': 1203, 'batman': 1204, 'insult': 1205, 'r': 1206, 'boyfriend': 1207, 'kelli': 1208, 'doubl': 1209, 'initi': 1210, 'frame': 1211, 'opera': 1212, 'gem': 1213, 'church': 1214, 'challeng': 1215, 'affect': 1216, 'cinemat': 1217, 'drawn': 1218, 'fulli': 1219, 'seek': 1220, 'j': 1221, 'evid': 1222, 'l': 1223, 'nightmar': 1224, 'conflict': 1225, 'arm': 1226, 'essenti': 1227, 'christoph': 1228, 'grace': 1229, 'wind': 1230, 'henri': 1231, 'narrat': 1232, 'assum': 1233, 'witch': 1234, 'push': 1235, 'hunt': 1236, 'wise': 1237, 'chri': 1238, 'nomin': 1239, 'month': 1240, 'repres': 1241, 'avail': 1242, 'affair': 1243, 'sceneri': 1244, 'hide': 1245, 'justic': 1246, 'smart': 1247, 'thu': 1248, 'bond': 1249, 'interview': 1250, 'outstand': 1251, 'flashback': 1252, 'constantli': 1253, 'satisfi': 1254, 'presenc': 1255, 'bed': 1256, 'central': 1257, 'iron': 1258, 'sell': 1259, 'content': 1260, 'gag': 1261, 'everybodi': 1262, 'slowli': 1263, 'hotel': 1264, 'hire': 1265, 'system': 1266, 'adam': 1267, 'thrown': 1268, 'individu': 1269, 'hey': 1270, 'charl': 1271, 'jone': 1272, 'mediocr': 1273, 'allen': 1274, 'ray': 1275, 'lesson': 1276, 'billi': 1277, 'photographi': 1278, 'cameo': 1279, 'fellow': 1280, 'pari': 1281, 'strike': 1282, 'rise': 1283, 'brief': 1284, 'absurd': 1285, 'independ': 1286, 'neg': 1287, 'phone': 1288, 'impact': 1289, 'model': 1290, 'ill': 1291, 'born': 1292, 'fresh': 1293, 'spoil': 1294, 'angl': 1295, 'abus': 1296, 'likabl': 1297, 'hill': 1298, 'discuss': 1299, 'ahead': 1300, 'sight': 1301, 'photograph': 1302, 'sent': 1303, 'blame': 1304, 'logic': 1305, 'shine': 1306, 'occur': 1307, 'mainli': 1308, 'bruce': 1309, 'forev': 1310, 'commerci': 1311, 'skip': 1312, 'surround': 1313, 'teacher': 1314, 'held': 1315, 'segment': 1316, 'blond': 1317, 'zero': 1318, 'satir': 1319, 'trap': 1320, 'resembl': 1321, 'summer': 1322, 'six': 1323, 'ball': 1324, 'fool': 1325, 'queen': 1326, 'twice': 1327, 'tragedi': 1328, 'sub': 1329, 'pack': 1330, 'reaction': 1331, 'bomb': 1332, 'will': 1333, 'protagonist': 1334, 'hospit': 1335, 'sport': 1336, 'mile': 1337, 'jerri': 1338, 'trust': 1339, 'vote': 1340, 'mom': 1341, 'drink': 1342, 'encount': 1343, 'plane': 1344, 'program': 1345, 'current': 1346, 'al': 1347, 'station': 1348, 'martin': 1349, 'celebr': 1350, 'choos': 1351, 'join': 1352, 'lord': 1353, 'field': 1354, 'favourit': 1355, 'tragic': 1356, 'round': 1357, 'jean': 1358, 'vision': 1359, 'robot': 1360, 'tie': 1361, 'arthur': 1362, 'random': 1363, 'fortun': 1364, 'roger': 1365, 'dread': 1366, 'intern': 1367, 'psycholog': 1368, 'nonsens': 1369, 'improv': 1370, 'epic': 1371, 'prefer': 1372, 'pleasur': 1373, 'formula': 1374, 'legend': 1375, 'highlight': 1376, 'dollar': 1377, '11': 1378, 'tape': 1379, 'object': 1380, 'porn': 1381, 'thin': 1382, 'fox': 1383, 'gorgeou': 1384, 'wide': 1385, 'ugli': 1386, 'buddi': 1387, 'influenc': 1388, 'prepar': 1389, 'ii': 1390, 'nasti': 1391, 'supposedli': 1392, 'reflect': 1393, 'warm': 1394, 'progress': 1395, 'youth': 1396, 'worthi': 1397, 'unusu': 1398, 'latter': 1399, 'length': 1400, 'crash': 1401, 'childhood': 1402, 'superior': 1403, 'shop': 1404, 'seven': 1405, 'remot': 1406, 'theatr': 1407, 'pilot': 1408, 'funniest': 1409, 'paid': 1410, 'disgust': 1411, 'convers': 1412, 'fell': 1413, 'castl': 1414, 'trick': 1415, 'gangster': 1416, 'disast': 1417, 'establish': 1418, 'rob': 1419, 'ident': 1420, 'mine': 1421, 'suicid': 1422, 'heaven': 1423, 'disappear': 1424, 'singer': 1425, 'forgotten': 1426, 'decis': 1427, 'tend': 1428, 'heroin': 1429, 'mask': 1430, 'partner': 1431, 'brian': 1432, 'desert': 1433, 'alan': 1434, 'recogn': 1435, 'thoroughli': 1436, 'stuck': 1437, 'sky': 1438, 'ms': 1439, 'p': 1440, 'replac': 1441, 'accur': 1442, 'market': 1443, 'clue': 1444, 'commentari': 1445, 'seemingli': 1446, 'danni': 1447, 'eddi': 1448, 'andi': 1449, 'uncl': 1450, 'devil': 1451, 'jackson': 1452, 'that': 1453, 'therefor': 1454, 'refus': 1455, 'pair': 1456, 'unit': 1457, 'ed': 1458, 'fault': 1459, 'accid': 1460, 'fate': 1461, 'river': 1462, 'tune': 1463, 'afraid': 1464, 'clean': 1465, 'stephen': 1466, 'hidden': 1467, 'russian': 1468, 'test': 1469, 'captain': 1470, 'instanc': 1471, 'irrit': 1472, 'convey': 1473, 'readi': 1474, 'quick': 1475, 'european': 1476, 'frustrat': 1477, 'insan': 1478, 'daniel': 1479, 'wed': 1480, 'food': 1481, '1950': 1482, 'rescu': 1483, 'chines': 1484, 'lock': 1485, 'angri': 1486, 'dirti': 1487, 'joy': 1488, 'price': 1489, 'steven': 1490, 'cage': 1491, 'bland': 1492, 'rang': 1493, 'anymor': 1494, 'wooden': 1495, 'n': 1496, 'jason': 1497, 'rush': 1498, 'news': 1499, 'worri': 1500, 'led': 1501, 'board': 1502, '12': 1503, 'twenti': 1504, 'martial': 1505, 'transform': 1506, 'cgi': 1507, 'hunter': 1508, 'symbol': 1509, 'x': 1510, 'onto': 1511, 'sentiment': 1512, 'johnni': 1513, 'piti': 1514, 'invent': 1515, 'process': 1516, 'explan': 1517, 'attitud': 1518, 'awar': 1519, 'owner': 1520, 'aim': 1521, 'energi': 1522, 'necessari': 1523, 'floor': 1524, 'favor': 1525, 'target': 1526, 'opposit': 1527, 'religi': 1528, 'blind': 1529, 'chick': 1530, 'window': 1531, 'insight': 1532, 'movement': 1533, 'comparison': 1534, 'deepli': 1535, 'mountain': 1536, 'possess': 1537, 'research': 1538, 'grand': 1539, 'whatsoev': 1540, 'comed': 1541, 'rain': 1542, 'bank': 1543, 'mid': 1544, 'shadow': 1545, 'began': 1546, 'parodi': 1547, 'princ': 1548, 'weapon': 1549, 'taylor': 1550, 'friendship': 1551, 'credibl': 1552, 'pre': 1553, 'dougla': 1554, 'teach': 1555, 'flesh': 1556, 'bloodi': 1557, 'terror': 1558, 'hint': 1559, 'protect': 1560, 'marvel': 1561, 'leader': 1562, 'anybodi': 1563, 'accord': 1564, 'superman': 1565, 'watchabl': 1566, 'load': 1567, 'drunk': 1568, 'brown': 1569, 'freddi': 1570, 'hitler': 1571, 'tim': 1572, 'seat': 1573, 'appropri': 1574, 'jeff': 1575, 'knock': 1576, 'charg': 1577, 'unknown': 1578, 'keaton': 1579, 'villag': 1580, 'unnecessari': 1581, 'england': 1582, 'empti': 1583, 'media': 1584, 'enemi': 1585, 'craft': 1586, 'wave': 1587, 'dare': 1588, 'buck': 1589, 'strength': 1590, 'perspect': 1591, 'utter': 1592, 'kiss': 1593, 'nativ': 1594, 'correct': 1595, 'contrast': 1596, 'ford': 1597, 'nazi': 1598, 'anywher': 1599, 'magnific': 1600, 'speed': 1601, 'distract': 1602, 'soap': 1603, 'chill': 1604, 'knowledg': 1605, '1980': 1606, 'breath': 1607, 'mission': 1608, 'fred': 1609, 'ice': 1610, 'jr': 1611, 'crowd': 1612, 'moon': 1613, 'joan': 1614, 'kate': 1615, '000': 1616, 'soft': 1617, 'frighten': 1618, 'hundr': 1619, 'dan': 1620, 'nick': 1621, 'dick': 1622, 'radio': 1623, 'somebodi': 1624, 'dozen': 1625, 'simon': 1626, 'loss': 1627, 'academi': 1628, 'thousand': 1629, 'shakespear': 1630, 'andrew': 1631, 'sum': 1632, 'account': 1633, 'root': 1634, 'quot': 1635, 'vehicl': 1636, '1970': 1637, 'behavior': 1638, 'convent': 1639, 'leg': 1640, 'regular': 1641, 'gold': 1642, 'pretenti': 1643, 'compet': 1644, 'demand': 1645, 'worker': 1646, 'explos': 1647, 'candi': 1648, 'stretch': 1649, 'interpret': 1650, 'privat': 1651, 'lynch': 1652, 'notabl': 1653, 'japan': 1654, 'debut': 1655, 'tarzan': 1656, 'constant': 1657, 'spi': 1658, 'prais': 1659, 'sea': 1660, 'revolv': 1661, 'translat': 1662, 'sat': 1663, 'technolog': 1664, 'ass': 1665, 'failur': 1666, 'threaten': 1667, 'franc': 1668, 'jesu': 1669, 'quiet': 1670, 'higher': 1671, 'kevin': 1672, 'punch': 1673, 'met': 1674, 'aid': 1675, 'toy': 1676, 'vh': 1677, 'mike': 1678, 'interact': 1679, 'abandon': 1680, 'command': 1681, 'separ': 1682, 'bet': 1683, 'confront': 1684, 'gotten': 1685, 'techniqu': 1686, 'servic': 1687, 'site': 1688, 'belong': 1689, 'stunt': 1690, 'recal': 1691, 'foot': 1692, 'freak': 1693, 'cabl': 1694, 'bug': 1695, 'capabl': 1696, 'fu': 1697, 'bright': 1698, 'african': 1699, 'jimmi': 1700, 'presid': 1701, 'stock': 1702, 'succeed': 1703, 'boat': 1704, 'fat': 1705, 'clark': 1706, 'structur': 1707, 'spanish': 1708, 'gene': 1709, 'paper': 1710, 'kidnap': 1711, 'factor': 1712, 'whilst': 1713, 'belief': 1714, 'educ': 1715, 'complic': 1716, 'attend': 1717, 'bob': 1718, 'realism': 1719, 'witti': 1720, 'realis': 1721, 'tree': 1722, 'assist': 1723, 'finest': 1724, 'santa': 1725, 'broken': 1726, 'observ': 1727, 'depart': 1728, 'determin': 1729, 'smoke': 1730, 'up': 1731, 'v': 1732, 'rubbish': 1733, 'routin': 1734, 'hat': 1735, 'fame': 1736, 'lewi': 1737, 'oper': 1738, 'domin': 1739, 'foreign': 1740, 'morgan': 1741, 'safe': 1742, 'lone': 1743, 'advanc': 1744, 'hook': 1745, 'kinda': 1746, 'rank': 1747, 'numer': 1748, 'shallow': 1749, 'rose': 1750, 'werewolf': 1751, 'vs': 1752, 'washington': 1753, 'shape': 1754, 'civil': 1755, 'morn': 1756, 'gari': 1757, 'winner': 1758, 'accomplish': 1759, 'ordinari': 1760, 'kong': 1761, 'grab': 1762, 'peac': 1763, 'whenev': 1764, 'virtual': 1765, 'offens': 1766, 'h': 1767, 'luck': 1768, 'contriv': 1769, 'unfunni': 1770, 'bigger': 1771, 'welcom': 1772, 'activ': 1773, 'patient': 1774, 'complain': 1775, 'dimension': 1776, 'pretend': 1777, 'con': 1778, 'trek': 1779, 'lesbian': 1780, 'dri': 1781, 'flash': 1782, 'wake': 1783, 'cain': 1784, 'code': 1785, 'eric': 1786, 'manipul': 1787, 'statu': 1788, 'corrupt': 1789, 'dancer': 1790, 'guard': 1791, 'albert': 1792, 'gain': 1793, 'context': 1794, 'signific': 1795, 'speech': 1796, 'awkward': 1797, 'sourc': 1798, 'corni': 1799, 'anthoni': 1800, 'clip': 1801, 'psycho': 1802, 'sean': 1803, '13': 1804, 'theatric': 1805, 'w': 1806, 'religion': 1807, 'priest': 1808, 'reli': 1809, 'advic': 1810, 'curiou': 1811, 'addict': 1812, 'flow': 1813, 'howard': 1814, 'secur': 1815, 'jennif': 1816, 'asian': 1817, 'skin': 1818, 'specif': 1819, 'comfort': 1820, 'core': 1821, 'promot': 1822, 'luke': 1823, 'organ': 1824, 'golden': 1825, 'lucki': 1826, 'cash': 1827, 'cheat': 1828, 'associ': 1829, 'lower': 1830, 'dislik': 1831, 'devic': 1832, 'degre': 1833, 'balanc': 1834, 'frequent': 1835, 'wing': 1836, 'spell': 1837, 'regret': 1838, 'contribut': 1839, 'frankli': 1840, 'print': 1841, 'sake': 1842, 'forgiv': 1843, 'lake': 1844, 'thoma': 1845, 'mass': 1846, 'betti': 1847, 'unexpect': 1848, 'crack': 1849, 'gordon': 1850, 'unfold': 1851, 'invit': 1852, 'amateur': 1853, 'depend': 1854, 'construct': 1855, 'categori': 1856, 'grown': 1857, 'anna': 1858, 'condit': 1859, 'grew': 1860, 'matur': 1861, 'honor': 1862, 'intellectu': 1863, 'walter': 1864, 'mirror': 1865, 'sudden': 1866, 'spectacular': 1867, 'sole': 1868, 'veteran': 1869, 'demonstr': 1870, 'grip': 1871, 'experienc': 1872, 'gift': 1873, 'overli': 1874, 'liner': 1875, 'meanwhil': 1876, 'robin': 1877, 'card': 1878, 'freedom': 1879, 'theori': 1880, 'section': 1881, 'crappi': 1882, 'circumst': 1883, 'subtitl': 1884, 'drew': 1885, 'sheriff': 1886, 'brilliantli': 1887, 'colour': 1888, 'unabl': 1889, 'oliv': 1890, 'path': 1891, 'pile': 1892, 'sheer': 1893, 'matt': 1894, 'laughter': 1895, 'parker': 1896, 'cook': 1897, 'altern': 1898, 'hall': 1899, 'relief': 1900, 'sinatra': 1901, 'accident': 1902, 'treatment': 1903, 'lawyer': 1904, 'defin': 1905, 'wander': 1906, 'captiv': 1907, 'dragon': 1908, 'hank': 1909, 'moor': 1910, 'halloween': 1911, 'gratuit': 1912, 'wayn': 1913, 'broadway': 1914, 'unintent': 1915, 'kung': 1916, 'cowboy': 1917, 'jacki': 1918, 'barbara': 1919, 'wound': 1920, 'k': 1921, 'statement': 1922, 'spoof': 1923, 'surreal': 1924, 'canadian': 1925, 'winter': 1926, 'fare': 1927, 'gonna': 1928, 'compos': 1929, 'fish': 1930, 'treasur': 1931, 'cheer': 1932, 'victor': 1933, 'sensit': 1934, 'unrealist': 1935, 'woodi': 1936, 'emerg': 1937, 'driven': 1938, 'ran': 1939, 'sympathet': 1940, 'neighbor': 1941, 'glass': 1942, 'expos': 1943, 'overlook': 1944, 'topic': 1945, 'menac': 1946, 'authent': 1947, 'ancient': 1948, 'gross': 1949, 'handsom': 1950, 'michel': 1951, 'chief': 1952, 'pleasant': 1953, 'contemporari': 1954, 'stranger': 1955, 'russel': 1956, 'built': 1957, 'feet': 1958, 'cinderella': 1959, 'network': 1960, 'comedian': 1961, 'nevertheless': 1962, 'blockbust': 1963, 'consider': 1964, 'letter': 1965, 'earn': 1966, 'miser': 1967, 'gori': 1968, 'endless': 1969, 'underr': 1970, 'brook': 1971, 'switch': 1972, 'solv': 1973, 'bullet': 1974, 'joseph': 1975, 'edward': 1976, 'convict': 1977, 'virgin': 1978, 'victoria': 1979, 'scenario': 1980, 'cynic': 1981, 'chosen': 1982, 'scale': 1983, '0': 1984, 'alex': 1985, 'com': 1986, 'curs': 1987, 'sword': 1988, 'gut': 1989, 'outrag': 1990, 'wrap': 1991, 'substanc': 1992, 'driver': 1993, 'proper': 1994, 'uk': 1995, 'juli': 1996, 'screenwrit': 1997, 'monkey': 1998, 'court': 1999, 'remov': 2000, 'bird': 2001, 'indic': 2002, 'par': 2003, 'inevit': 2004, 'roy': 2005, 'grave': 2006, 'rental': 2007, 'nanci': 2008, 'consequ': 2009, 'loser': 2010, 'naiv': 2011, 'advertis': 2012, 'brave': 2013, 'germani': 2014, 'le': 2015, 'fatal': 2016, 'invis': 2017, 'slap': 2018, 'bridg': 2019, 'footbal': 2020, 'provok': 2021, 'anger': 2022, 'ador': 2023, 'loui': 2024, 'alcohol': 2025, 'anderson': 2026, 'chan': 2027, 'stumbl': 2028, 'willi': 2029, 'professor': 2030, 'ryan': 2031, 'sharp': 2032, 'assassin': 2033, 'australian': 2034, 'bat': 2035, '1930': 2036, 'patrick': 2037, 'liber': 2038, 'saturday': 2039, 'ape': 2040, 'lousi': 2041, 'trilog': 2042, 'refresh': 2043, 'amateurish': 2044, 'eight': 2045, 'cell': 2046, 'deni': 2047, 'heck': 2048, 'strongli': 2049, 'sin': 2050, 'justifi': 2051, 'vagu': 2052, 'san': 2053, 'resid': 2054, 'defeat': 2055, 'terrifi': 2056, 'mini': 2057, 'reput': 2058, 'indi': 2059, 'creator': 2060, 'sympathi': 2061, 'endur': 2062, 'expert': 2063, 'task': 2064, 'tediou': 2065, 'prevent': 2066, 'tabl': 2067, 'employ': 2068, 'offend': 2069, 'trial': 2070, 'basebal': 2071, 'imit': 2072, 'che': 2073, 'rival': 2074, 'weekend': 2075, 'complaint': 2076, 'dig': 2077, 'pitch': 2078, 'europ': 2079, 'fairi': 2080, 'beach': 2081, 'max': 2082, 'purchas': 2083, 'risk': 2084, 'format': 2085, 'murphi': 2086, 'hype': 2087, 'reminisc': 2088, 'glimps': 2089, 'bite': 2090, 'harsh': 2091, 'tini': 2092, 'nois': 2093, 'powel': 2094, 'titan': 2095, '14': 2096, 'till': 2097, 'prime': 2098, 'strip': 2099, 'asleep': 2100, 'north': 2101, 'fals': 2102, 'descript': 2103, 'destruct': 2104, 'texa': 2105, 'revel': 2106, 'africa': 2107, 'sitcom': 2108, 'arrest': 2109, 'semi': 2110, 'surfac': 2111, 'spin': 2112, 'uninterest': 2113, 'excess': 2114, 'inner': 2115, 'twin': 2116, 'makeup': 2117, 'hitchcock': 2118, 'argu': 2119, 'controversi': 2120, 'massiv': 2121, 'maintain': 2122, 'dinosaur': 2123, 'melodrama': 2124, 'stare': 2125, 'expens': 2126, 'ludicr': 2127, 'kim': 2128, 'reject': 2129, 'ideal': 2130, 'insist': 2131, 'erot': 2132, 'press': 2133, 'host': 2134, 'atroci': 2135, 'ga': 2136, 'ala': 2137, 'nail': 2138, 'columbo': 2139, 'subplot': 2140, 'supernatur': 2141, 'forest': 2142, 'identifi': 2143, 'notch': 2144, 'cant': 2145, 'presum': 2146, 'dude': 2147, 'forgett': 2148, 'closer': 2149, 'crude': 2150, 'guest': 2151, 'character': 2152, 'method': 2153, 'plagu': 2154, 'lion': 2155, 'landscap': 2156, 'border': 2157, 'foster': 2158, 'beast': 2159, 'ear': 2160, 'princess': 2161, 'previous': 2162, 'birth': 2163, 'jungl': 2164, 'storytel': 2165, 'aunt': 2166, 'pacino': 2167, 'bound': 2168, 'damag': 2169, 'accus': 2170, 'urban': 2171, 'guid': 2172, 'nude': 2173, 'emma': 2174, 'chose': 2175, 'jess': 2176, 'doll': 2177, 'propaganda': 2178, 'thirti': 2179, 'whoever': 2180, 'warrior': 2181, 'mainstream': 2182, 'mate': 2183, 'pet': 2184, '25': 2185, 'cooper': 2186, 'poster': 2187, 'merit': 2188, 'upset': 2189, 'gritti': 2190, 'exact': 2191, 'deadli': 2192, 'latest': 2193, 'friday': 2194, 'size': 2195, 'sun': 2196, 'blend': 2197, '1990': 2198, 'citizen': 2199, 'rough': 2200, 'contest': 2201, 'settl': 2202, 'corps': 2203, 'warner': 2204, 'ton': 2205, 'contact': 2206, 'popul': 2207, 'buff': 2208, 'wilson': 2209, 'pitt': 2210, 'select': 2211, 'environ': 2212, 'rat': 2213, 'mgm': 2214, 'alic': 2215, 'overcom': 2216, 'widow': 2217, 'bu': 2218, 'metal': 2219, 'particip': 2220, 'ted': 2221, 'lift': 2222, 'link': 2223, 'guilti': 2224, 'revolut': 2225, 'prostitut': 2226, 'afternoon': 2227, 'corner': 2228, '1960': 2229, 'moron': 2230, 'accompani': 2231, 'matrix': 2232, 'exagger': 2233, 'johnson': 2234, 'corpor': 2235, 'hood': 2236, 'holm': 2237, 'leagu': 2238, 'clair': 2239, 'sincer': 2240, 'friendli': 2241, 'doom': 2242, 'instal': 2243, 'multipl': 2244, 'irish': 2245, 'blah': 2246, 'junk': 2247, 'grim': 2248, 'aka': 2249, 'advis': 2250, 'string': 2251, 'examin': 2252, 'sunday': 2253, 'defend': 2254, 'campi': 2255, 'hip': 2256, 'lugosi': 2257, 'pro': 2258, 'confid': 2259, 'shut': 2260, 'rachel': 2261, 'varieti': 2262, 'tight': 2263, 'shake': 2264, 'icon': 2265, 'goal': 2266, 'mexican': 2267, 'sullivan': 2268, 'jaw': 2269, 'denni': 2270, 'medic': 2271, 'directli': 2272, 'attach': 2273, 'prior': 2274, 'courag': 2275, 'truck': 2276, 'vietnam': 2277, 'dean': 2278, 'legendari': 2279, 'sentenc': 2280, 'bourn': 2281, 'breast': 2282, 'duke': 2283, 'terrorist': 2284, 'sarah': 2285, 'entri': 2286, 'donald': 2287, 'un': 2288, 'proceed': 2289, 'behav': 2290, 'hong': 2291, 'split': 2292, 'yell': 2293, 'nose': 2294, 'confess': 2295, 'buri': 2296, 'everywher': 2297, 'concentr': 2298, 'borrow': 2299, 'jerk': 2300, 'forth': 2301, 'lifetim': 2302, 'swim': 2303, 'unconvinc': 2304, 'crush': 2305, 'stolen': 2306, 'gather': 2307, 'turkey': 2308, 'julia': 2309, 'pan': 2310, 'deliveri': 2311, 'lip': 2312, 'spite': 2313, 'california': 2314, 'quest': 2315, 'freeman': 2316, 'hoffman': 2317, 'reward': 2318, 'offici': 2319, 'proud': 2320, 'flight': 2321, 'china': 2322, 'downright': 2323, 'lazi': 2324, 'inept': 2325, 'fade': 2326, 'sink': 2327, 'worthwhil': 2328, 'notori': 2329, 'jail': 2330, 'encourag': 2331, 'jon': 2332, 'sir': 2333, 'betray': 2334, 'fabul': 2335, 'shower': 2336, 'relev': 2337, 'susan': 2338, 'bell': 2339, 'lisa': 2340, 'survivor': 2341, 'branagh': 2342, 'storm': 2343, 'teeth': 2344, 'imageri': 2345, 'bag': 2346, 'cousin': 2347, 'retard': 2348, 'facial': 2349, 'tremend': 2350, 'bride': 2351, 'quirki': 2352, 'finger': 2353, 'mexico': 2354, 'toler': 2355, 'summari': 2356, 'hugh': 2357, 'stab': 2358, 'alright': 2359, 'trade': 2360, 'shark': 2361, 'bitter': 2362, 'ha': 2363, 'blown': 2364, 'pose': 2365, 'von': 2366, 'hyster': 2367, 'address': 2368, 'afterward': 2369, 'christ': 2370, 'bone': 2371, 'scheme': 2372, 'cruel': 2373, 'larri': 2374, 'ned': 2375, 'ron': 2376, 'screw': 2377, 'swear': 2378, 'pursu': 2379, 'feed': 2380, 'distinct': 2381, 'thumb': 2382, 'snake': 2383, 'beg': 2384, 'traci': 2385, 'tour': 2386, 'occas': 2387, 'stomach': 2388, 'chair': 2389, 'mechan': 2390, 'photo': 2391, 'obscur': 2392, 'raw': 2393, 'necessarili': 2394, 'heavili': 2395, 'cabin': 2396, 'holiday': 2397, 'southern': 2398, 'resist': 2399, 'argument': 2400, 'render': 2401, 'chain': 2402, 'sidney': 2403, 'gruesom': 2404, 'hardi': 2405, 'satan': 2406, 'understood': 2407, 'philip': 2408, 'india': 2409, 'racist': 2410, 'indulg': 2411, 'midnight': 2412, 'pregnant': 2413, 'fourth': 2414, 'belov': 2415, 'obnoxi': 2416, 'forgot': 2417, 'stalk': 2418, 'integr': 2419, 'lay': 2420, 'outfit': 2421, 'tongu': 2422, 'deeper': 2423, 'restor': 2424, 'ticket': 2425, '17': 2426, 'magazin': 2427, 'inhabit': 2428, 'garden': 2429, 'slapstick': 2430, 'carol': 2431, 'devot': 2432, 'incid': 2433, 'shoe': 2434, 'lincoln': 2435, 'brad': 2436, 'underground': 2437, 'lili': 2438, 'divorc': 2439, 'benefit': 2440, 'maria': 2441, 'guarante': 2442, 'sandler': 2443, 'elizabeth': 2444, 'disbelief': 2445, 'anticip': 2446, 'mildli': 2447, 'bbc': 2448, 'princip': 2449, 'capit': 2450, 'greater': 2451, 'amazingli': 2452, 'explod': 2453, 'slave': 2454, 'cring': 2455, 'creation': 2456, 'introduct': 2457, 'lesli': 2458, 'extraordinari': 2459, 'halfway': 2460, 'funnier': 2461, 'punish': 2462, 'tap': 2463, 'advantag': 2464, 'extent': 2465, 'enhanc': 2466, 'wreck': 2467, 'transfer': 2468, 'overwhelm': 2469, 'text': 2470, 'east': 2471, 'preview': 2472, 'lo': 2473, 'horrif': 2474, 'lane': 2475, 'plant': 2476, 'deliber': 2477, 'dynam': 2478, 'error': 2479, 'jessica': 2480, 'appli': 2481, '2000': 2482, 'ensu': 2483, 'vincent': 2484, 'basi': 2485, 'miscast': 2486, 'miller': 2487, 'homosexu': 2488, 'sophist': 2489, 'vacat': 2490, 'elev': 2491, 'spoken': 2492, 'measur': 2493, 'bollywood': 2494, 'uncomfort': 2495, 'sleazi': 2496, 'mansion': 2497, 'extend': 2498, 'steel': 2499, 'via': 2500, 'reed': 2501, 'breathtak': 2502, 'assign': 2503, 'savag': 2504, 'conceiv': 2505, 'stanley': 2506, 'overact': 2507, 'melt': 2508, 'hippi': 2509, 'goofi': 2510, 'beer': 2511, 'fix': 2512, 'alter': 2513, 'dentist': 2514, 'daili': 2515, 'blair': 2516, 'mous': 2517, 'cathol': 2518, 'burt': 2519, 'sacrific': 2520, 'properli': 2521, 'subsequ': 2522, 'everyday': 2523, 'nowaday': 2524, 'carpent': 2525, 'succe': 2526, 'inspector': 2527, 'oppos': 2528, 'massacr': 2529, 'circl': 2530, 'laura': 2531, 'block': 2532, 'neck': 2533, 'access': 2534, 'fallen': 2535, 'seagal': 2536, 'christi': 2537, 'fay': 2538, 'concert': 2539, 'pool': 2540, 'grey': 2541, 'mob': 2542, 'portrait': 2543, 'lesser': 2544, 'sinist': 2545, 'jake': 2546, 'jewish': 2547, 'competit': 2548, 'isol': 2549, 'usa': 2550, 'react': 2551, 'chees': 2552, 'relax': 2553, 'immens': 2554, 'suitabl': 2555, 'chop': 2556, 'spiritu': 2557, 'lyric': 2558, '2006': 2559, 'creep': 2560, 'nonetheless': 2561, 'stink': 2562, 'ironi': 2563, 'nine': 2564, 'appal': 2565, 'user': 2566, 'retir': 2567, 'rage': 2568, 'needless': 2569, 'franchis': 2570, 'sold': 2571, 'showcas': 2572, 'adopt': 2573, 'reduc': 2574, 'nut': 2575, 'spring': 2576, 'navi': 2577, 'shirt': 2578, 'luci': 2579, 'bath': 2580, 'uninspir': 2581, 'per': 2582, 'zone': 2583, 'jay': 2584, 'asham': 2585, 'digit': 2586, 'nurs': 2587, 'bulli': 2588, 'stanwyck': 2589, 'broadcast': 2590, 'laid': 2591, 'sutherland': 2592, 'amongst': 2593, '2001': 2594, 'upper': 2595, 'illustr': 2596, 'oddli': 2597, '1940': 2598, 'aspir': 2599, 'fulfil': 2600, 'disguis': 2601, 'stylish': 2602, 'throat': 2603, 'brando': 2604, 'baker': 2605, 'wanna': 2606, '18': 2607, 'nobl': 2608, 'pride': 2609, 'neighborhood': 2610, 'thief': 2611, 'wwii': 2612, 'em': 2613, 'impli': 2614, 'endear': 2615, 'pound': 2616, 'bett': 2617, 'tens': 2618, 'distribut': 2619, 'coher': 2620, 'shoulder': 2621, 'prop': 2622, 'shift': 2623, '16': 2624, 'dawn': 2625, 'cinematograph': 2626, 'bo': 2627, 'diseas': 2628, 'albeit': 2629, 'dinner': 2630, 'rochest': 2631, 'shout': 2632, 'knife': 2633, 'forti': 2634, 'contract': 2635, 'snow': 2636, 'poignant': 2637, 'wash': 2638, 'function': 2639, 'rebel': 2640, 'silenc': 2641, 'surf': 2642, 'matthau': 2643, 'internet': 2644, 'proof': 2645, 'henc': 2646, 'reunion': 2647, 'eeri': 2648, 'cancel': 2649, 'elvira': 2650, 'duti': 2651, 'heat': 2652, 'horrend': 2653, 'mindless': 2654, 'height': 2655, 'silver': 2656, 'derek': 2657, 'cannib': 2658, 'widmark': 2659, 'instinct': 2660, 'chuck': 2661, 'musician': 2662, 'innov': 2663, 'incoher': 2664, 'absorb': 2665, 'alik': 2666, 'greatli': 2667, 'glori': 2668, 'mill': 2669, 'repetit': 2670, 'elvi': 2671, 'neat': 2672, 'etern': 2673, 'spielberg': 2674, 'torn': 2675, 'premier': 2676, 'pie': 2677, 'racism': 2678, 'infam': 2679, 'burton': 2680, 'diamond': 2681, 'lovabl': 2682, 'horrifi': 2683, 'homag': 2684, 'bang': 2685, 'announc': 2686, 'crisi': 2687, 'itali': 2688, 'precis': 2689, 'redempt': 2690, 'britain': 2691, 'nelson': 2692, 'wealthi': 2693, 'blank': 2694, 'trite': 2695, 'fbi': 2696, 'hammer': 2697, 'streisand': 2698, 'happili': 2699, 'parallel': 2700, 'dedic': 2701, 'flop': 2702, 'chaplin': 2703, 'resolut': 2704, 'ensembl': 2705, 'wilder': 2706, 'pat': 2707, 'helen': 2708, 'disagre': 2709, 'carter': 2710, 'triumph': 2711, 'mar': 2712, 'broke': 2713, 'cube': 2714, 'plastic': 2715, 'factori': 2716, 'st': 2717, 'conclud': 2718, 'oil': 2719, 'bush': 2720, 'row': 2721, 'climb': 2722, 'chuckl': 2723, 'rocket': 2724, 'fighter': 2725, 'own': 2726, 'march': 2727, 'weight': 2728, 'vega': 2729, 'dane': 2730, 'sensibl': 2731, 'kurt': 2732, 'meaning': 2733, 'wherea': 2734, 'dump': 2735, 'enorm': 2736, 'mst3k': 2737, 'luca': 2738, 'lust': 2739, 'unforgett': 2740, 'boot': 2741, 'spare': 2742, 'thug': 2743, 'bobbi': 2744, 'adequ': 2745, 'engin': 2746, 'caricatur': 2747, 'arnold': 2748, 'brand': 2749, 'butt': 2750, 'stress': 2751, 'difficulti': 2752, 'dear': 2753, 'threat': 2754, 'rap': 2755, 'karloff': 2756, 'fifti': 2757, 'elabor': 2758, 'journalist': 2759, 'polish': 2760, 'secretari': 2761, 'fest': 2762, 'homeless': 2763, 'flynn': 2764, 'ego': 2765, 'barri': 2766, 'ralph': 2767, 'hamlet': 2768, 'arrog': 2769, 'swing': 2770, 'conspiraci': 2771, 'arrang': 2772, 'induc': 2773, 'simpson': 2774, 'tool': 2775, 'resort': 2776, 'fanci': 2777, 'puppet': 2778, 'float': 2779, 'grate': 2780, 'unbear': 2781, 'spike': 2782, 'exercis': 2783, 'choreograph': 2784, 'cruis': 2785, 'guilt': 2786, 'tribut': 2787, 'basement': 2788, 'pig': 2789, 'boll': 2790, 'phillip': 2791, 'muppet': 2792, 'fianc': 2793, 'layer': 2794, 'document': 2795, 'medium': 2796, 'babe': 2797, 'file': 2798, 'ward': 2799, 'editor': 2800, 'ham': 2801, '24': 2802, 'slip': 2803, 'tower': 2804, 'toilet': 2805, 'korean': 2806, 'item': 2807, 'puzzl': 2808, 'stan': 2809, 'scarecrow': 2810, 'denzel': 2811, 'orient': 2812, 'transit': 2813, 'librari': 2814, 'superfici': 2815, 'spark': 2816, 'glover': 2817, 'slaughter': 2818, 'inexplic': 2819, 'persona': 2820, 'larger': 2821, 'minim': 2822, 'assur': 2823, 'portion': 2824, 'doc': 2825, 'territori': 2826, 'philosoph': 2827, 'catherin': 2828, 'wolf': 2829, 'financi': 2830, 'curti': 2831, 'walken': 2832, 'shi': 2833, 'ban': 2834, 'jet': 2835, 'jeremi': 2836, 'pg': 2837, 'dorothi': 2838, 'owe': 2839, 'sneak': 2840, 'boredom': 2841, 'multi': 2842, 'backdrop': 2843, 'profound': 2844, 'whale': 2845, 'ambigu': 2846, 'hudson': 2847, 'eleph': 2848, 'cusack': 2849, 'metaphor': 2850, 'hack': 2851, 'notion': 2852, 'union': 2853, 'rave': 2854, 'stiff': 2855, 'ultra': 2856, 'implaus': 2857, 'viru': 2858, 'elsewher': 2859, 'gadget': 2860, '2005': 2861, 'birthday': 2862, 'newspap': 2863, 'bibl': 2864, 'eva': 2865, 'deriv': 2866, '1st': 2867, 'distanc': 2868, 'pad': 2869, 'superhero': 2870, 'hawk': 2871, 'urg': 2872, 'squar': 2873, 'disc': 2874, 'lloyd': 2875, 'reader': 2876, 'slight': 2877, 'afford': 2878, 'canada': 2879, 'eastwood': 2880, 'poison': 2881, 'button': 2882, 'cure': 2883, 'charisma': 2884, 'health': 2885, 'huh': 2886, 'drown': 2887, 'spread': 2888, 'restaur': 2889, 'heston': 2890, 'montag': 2891, 'skit': 2892, 'essenc': 2893, 'sadist': 2894, 'dealt': 2895, 'peak': 2896, 'godfath': 2897, 'invest': 2898, 'fetch': 2899, 'lab': 2900, 'maniac': 2901, 'gradual': 2902, 'companion': 2903, 'muslim': 2904, 'estat': 2905, 'scoobi': 2906, 'servant': 2907, 'cup': 2908, 'alli': 2909, 'subtleti': 2910, 'tea': 2911, 'kane': 2912, 'countless': 2913, 'ritter': 2914, 'gothic': 2915, 'miik': 2916, 'elect': 2917, 'heroic': 2918, 'charismat': 2919, 'salli': 2920, 'electr': 2921, 'briefli': 2922, 'iii': 2923, 'resourc': 2924, 'toss': 2925, 'grandmoth': 2926, 'nuanc': 2927, 'admittedli': 2928, 'wannab': 2929, 'ingredi': 2930, 'cole': 2931, 'tender': 2932, 'reel': 2933, 'neil': 2934, 'bud': 2935, 'stood': 2936, 'kubrick': 2937, 'mild': 2938, 'dawson': 2939, 'carrey': 2940, 'mafia': 2941, 'poverti': 2942, 'pit': 2943, 'gate': 2944, 'reev': 2945, 'punk': 2946, 'pauli': 2947, 'shall': 2948, 'stronger': 2949, 'label': 2950, 'ian': 2951, 'easier': 2952, 'cardboard': 2953, 'updat': 2954, 'tag': 2955, 'cox': 2956, 'smooth': 2957, 'assault': 2958, 'fond': 2959, 'useless': 2960, 'outcom': 2961, 'bakshi': 2962, 'burst': 2963, 'terri': 2964, 'astair': 2965, 'smash': 2966, 'divers': 2967, 'vulner': 2968, 'fist': 2969, 'rex': 2970, 'exchang': 2971, 'coincid': 2972, 'resolv': 2973, '2002': 2974, 'melodramat': 2975, 'samurai': 2976, 'qualifi': 2977, 'vari': 2978, 'increasingli': 2979, 'sketch': 2980, 'be': 2981, 'conveni': 2982, 'tame': 2983, 'luckili': 2984, 'blast': 2985, 'brillianc': 2986, 'reynold': 2987, 'scratch': 2988, 'insert': 2989, 'templ': 2990, 'suspend': 2991, 'coach': 2992, 'meat': 2993, 'seventi': 2994, 'walker': 2995, 'matthew': 2996, 'fisher': 2997, 'soprano': 2998, 'strictli': 2999, 'farm': 3000, 'jami': 3001, 'nuclear': 3002, 'hamilton': 3003, 'pin': 3004, 'gotta': 3005, 'ambiti': 3006, 'monk': 3007, 'kudo': 3008, 'instantli': 3009, 'grasp': 3010, 'butcher': 3011, 'recreat': 3012, 'closet': 3013, 'eccentr': 3014, 'empir': 3015, 'timeless': 3016, 'clock': 3017, 'joey': 3018, 'struck': 3019, 'spooki': 3020, 'revers': 3021, 'brosnan': 3022, 'discoveri': 3023, 'cave': 3024, 'worthless': 3025, 'convolut': 3026, 'ninja': 3027, 'norman': 3028, 'gray': 3029, 'miracl': 3030, 'selfish': 3031, 'seller': 3032, 'wipe': 3033, 'cliff': 3034, 'mitchel': 3035, 'sidekick': 3036, 'sloppi': 3037, 'pal': 3038, 'bleak': 3039, 'fifteen': 3040, 'eighti': 3041, 'evok': 3042, 'inconsist': 3043, 'partli': 3044, 'declar': 3045, 'clown': 3046, 'importantli': 3047, 'communist': 3048, 'websit': 3049, 'ho': 3050, 'destin': 3051, 'enthusiast': 3052, 'superbl': 3053, 'farc': 3054, 'piano': 3055, 'psychiatrist': 3056, 'flawless': 3057, 'cheek': 3058, 'chew': 3059, 'debat': 3060, '45': 3061, 'aforement': 3062, 'australia': 3063, 'seed': 3064, 'lifestyl': 3065, 'stoog': 3066, 'incompet': 3067, 'soviet': 3068, 'emili': 3069, 'regardless': 3070, 'bash': 3071, 'drivel': 3072, 'kitchen': 3073, 'splatter': 3074, 'akshay': 3075, 'directori': 3076, 'dash': 3077, 'wick': 3078, 'dire': 3079, 'slice': 3080, 'pressur': 3081, 'wrestl': 3082, 'anni': 3083, 'abc': 3084, 'lou': 3085, 'prize': 3086, 'judi': 3087, 'beaten': 3088, 'increas': 3089, 'cameron': 3090, 'jar': 3091, 'suppli': 3092, 'helicopt': 3093, 'cia': 3094, 'recov': 3095, 'pleasantli': 3096, 'seduc': 3097, 'chapter': 3098, 'dave': 3099, 'duo': 3100, 'glow': 3101, 'ken': 3102, 'mann': 3103, 'curios': 3104, 'boil': 3105, 'artifici': 3106, 'blob': 3107, 'flower': 3108, 'distant': 3109, 'doo': 3110, 'cagney': 3111, 'web': 3112, 'craven': 3113, 'perri': 3114, 'goldberg': 3115, 'francisco': 3116, 'splendid': 3117, 'craig': 3118, 'drunken': 3119, 'panic': 3120, 'favour': 3121, 'combat': 3122, 'psychot': 3123, 'glenn': 3124, 'eleg': 3125, 'turner': 3126, 'ellen': 3127, 'hop': 3128, 'ranger': 3129, 'laurel': 3130, 'hatr': 3131, 'flip': 3132, 'min': 3133, 'shortli': 3134, 'fx': 3135, 'wizard': 3136, 'philosophi': 3137, 'slightest': 3138, 'plausibl': 3139, 'gentl': 3140, 'greek': 3141, 'modesti': 3142, 'alexand': 3143, 'rid': 3144, 'graduat': 3145, 'falk': 3146, '20th': 3147, 'ruth': 3148, 'gandhi': 3149, 'knight': 3150, 'preciou': 3151, 'harm': 3152, 'futurist': 3153, 'tall': 3154, 'felix': 3155, 'dracula': 3156, 'ocean': 3157, 'fund': 3158, 'we': 3159, 'holi': 3160, 'jealou': 3161, 'lend': 3162, 'legal': 3163, 'unpleas': 3164, 'manhattan': 3165, 'bless': 3166, 'reviv': 3167, 'tank': 3168, 'mock': 3169, 'overdon': 3170, 'explicit': 3171, 'scientif': 3172, 'nod': 3173, 'childish': 3174, 'forbidden': 3175, 'giallo': 3176, 'digniti': 3177, 'thread': 3178, 'ami': 3179, 'yesterday': 3180, 'mel': 3181, 'broad': 3182, 'awaken': 3183, 'elderli': 3184, 'pirat': 3185, 'fever': 3186, 'repeatedli': 3187, '2004': 3188, '99': 3189, 'torment': 3190, 'thick': 3191, 'nerv': 3192, 'unwatch': 3193, 'eve': 3194, 'awe': 3195, 'verhoeven': 3196, 'margaret': 3197, 'automat': 3198, 'romero': 3199, 'ah': 3200, 'rivet': 3201, 'acclaim': 3202, 'bin': 3203, 'roman': 3204, 'absenc': 3205, 'eas': 3206, 'uniform': 3207, 'stiller': 3208, 'lean': 3209, 'politician': 3210, 'timothi': 3211, 'griffith': 3212, 'launch': 3213, 'publish': 3214, 'custom': 3215, 'royal': 3216, 'ambit': 3217, 'kay': 3218, 'foul': 3219, 'termin': 3220, 'phrase': 3221, 'pierc': 3222, 'transport': 3223, 'darker': 3224, 'sunshin': 3225, 'pulp': 3226, 'bathroom': 3227, 'warren': 3228, 'antic': 3229, 'wallac': 3230, 'gabriel': 3231, 'homicid': 3232, 'crook': 3233, 'stinker': 3234, 'tomato': 3235, 'purpl': 3236, 'saint': 3237, 'contrari': 3238, 'ought': 3239, 'coloni': 3240, 'choreographi': 3241, 'sixti': 3242, 'pray': 3243, 'packag': 3244, 'kenneth': 3245, 'marin': 3246, 'prom': 3247, 'donna': 3248, 'horrid': 3249, 'karen': 3250, 'brazil': 3251, '2003': 3252, 'li': 3253, 'hollow': 3254, 'eyr': 3255, 'album': 3256, 'viciou': 3257, 'evolv': 3258, 'revolutionari': 3259, 'juvenil': 3260, 'q': 3261, 'rambo': 3262, 'awak': 3263, 'conserv': 3264, 'candid': 3265, 'mummi': 3266, 'beatti': 3267, 'kapoor': 3268, 'defi': 3269, 'dose': 3270, 'overr': 3271, 'option': 3272, 'twelv': 3273, 'ireland': 3274, 'ramon': 3275, 'blade': 3276, 'nerd': 3277, 'boast': 3278, 'stole': 3279, 'mildr': 3280, 'detract': 3281, 'trio': 3282, 'global': 3283, 'jazz': 3284, 'funer': 3285, 'protest': 3286, 'natali': 3287, 'confirm': 3288, 'collabor': 3289, 'astonish': 3290, 'flame': 3291, 'kirk': 3292, 'altman': 3293, 'fulci': 3294, 'mystic': 3295, 'whip': 3296, 'racial': 3297, 'delici': 3298, 'nicholson': 3299, 'audio': 3300, 'enterpris': 3301, 'bottl': 3302, 'tommi': 3303, 'leap': 3304, 'spit': 3305, 'destini': 3306, 'yellow': 3307, 'bull': 3308, 'shade': 3309, 'blake': 3310, 'reunit': 3311, 'vivid': 3312, 'harder': 3313, 'adolesc': 3314, 'threw': 3315, 'todd': 3316, 'bedroom': 3317, 'merci': 3318, 'popcorn': 3319, 'enchant': 3320, 'visibl': 3321, 'altogeth': 3322, 'pseudo': 3323, 'neo': 3324, 'staff': 3325, 'inherit': 3326, 'swedish': 3327, 'fonda': 3328, 'meaningless': 3329, 'wire': 3330, 'decor': 3331, 'roommat': 3332, 'bust': 3333, 'kennedi': 3334, 'await': 3335, 'atlanti': 3336, 'suspici': 3337, 'moodi': 3338, 'madonna': 3339, 'tip': 3340, 'fanat': 3341, 'synopsi': 3342, 'reserv': 3343, 'voight': 3344, 'leonard': 3345, 'befriend': 3346, 'exhibit': 3347, 'lawrenc': 3348, 'edi': 3349, 'jew': 3350, 'ruthless': 3351, 'uneven': 3352, 'crocodil': 3353, 'respond': 3354, 'lemmon': 3355, 'bargain': 3356, 'bradi': 3357, 'voyag': 3358, 'audit': 3359, 'bold': 3360, 'rural': 3361, 'carl': 3362, 'chao': 3363, 'dimens': 3364, 'ventur': 3365, 'holli': 3366, 'centr': 3367, 'clint': 3368, 'abysm': 3369, 'palma': 3370, 'unsettl': 3371, 'garner': 3372, '2007': 3373, 'clumsi': 3374, 'incident': 3375, 'characterist': 3376, 'hart': 3377, 'trail': 3378, 'immigr': 3379, 'acknowledg': 3380, 'humili': 3381, 'cd': 3382, 'tiger': 3383, 'troop': 3384, 'versu': 3385, 'lit': 3386, 'poetic': 3387, 'imperson': 3388, 'mall': 3389, 'cuba': 3390, 'nearbi': 3391, 'elimin': 3392, 'neglect': 3393, 'cari': 3394, '2nd': 3395, 'echo': 3396, 'ant': 3397, 'daddi': 3398, 'wealth': 3399, 'timon': 3400, 'homer': 3401, 'collaps': 3402, 'mistaken': 3403, 'mickey': 3404, 'repuls': 3405, 'jeffrey': 3406, 'prejudic': 3407, 'domest': 3408, 'celluloid': 3409, 'pun': 3410, 'saga': 3411, 'solo': 3412, 'paus': 3413, 'marshal': 3414, 'infect': 3415, 'gear': 3416, 'apolog': 3417, 'chest': 3418, 'equip': 3419, 'sore': 3420, 'coffe': 3421, 'hbo': 3422, 'interrupt': 3423, 'olivi': 3424, 'inan': 3425, 'assembl': 3426, 'promin': 3427, 'coat': 3428, '1996': 3429, 'milk': 3430, 'cake': 3431, 'inappropri': 3432, 'pant': 3433, 'tribe': 3434, 'undoubtedli': 3435, 'ginger': 3436, 'leon': 3437, 'harvey': 3438, 'humbl': 3439, 'furthermor': 3440, 'retain': 3441, 'maggi': 3442, 'devast': 3443, 'embrac': 3444, 'airplan': 3445, 'pot': 3446, 'primari': 3447, 'polanski': 3448, 'aveng': 3449, 'instant': 3450, 'solut': 3451, 'jenni': 3452, 'colonel': 3453, 'trace': 3454, 'highest': 3455, 'exot': 3456, 'pen': 3457, 'florida': 3458, 'consum': 3459, 'colleagu': 3460, 'brooklyn': 3461, 'institut': 3462, 'vulgar': 3463, 'outer': 3464, 'principl': 3465, '1999': 3466, 'illog': 3467, 'seduct': 3468, 'poke': 3469, 'dutch': 3470, 'dian': 3471, 'gender': 3472, 'rick': 3473, 'descend': 3474, 'godzilla': 3475, 'bowl': 3476, 'cope': 3477, 'strain': 3478, 'disabl': 3479, '3rd': 3480, 'wive': 3481, 'linda': 3482, 'sale': 3483, 'smaller': 3484, 'ya': 3485, 'devoid': 3486, 'hal': 3487, 'dud': 3488, 'secondli': 3489, 'vast': 3490, 'beneath': 3491, 'glamor': 3492, 'cue': 3493, 'rabbit': 3494, 'dive': 3495, 'lol': 3496, 'predecessor': 3497, 'scope': 3498, 'inferior': 3499, 'primarili': 3500, 'gloriou': 3501, 'blatant': 3502, 'mixtur': 3503, 'yard': 3504, 'gundam': 3505, 'bubbl': 3506, 'talki': 3507, 'z': 3508, 'et': 3509, 'hideou': 3510, 'myer': 3511, 'shelf': 3512, 'aggress': 3513, 'senseless': 3514, 'domino': 3515, 'april': 3516, 'alfr': 3517, 'garbo': 3518, 'breed': 3519, 'pearl': 3520, 'disjoint': 3521, 'grinch': 3522, 'countrysid': 3523, 'trademark': 3524, 'alert': 3525, 'invas': 3526, 'streep': 3527, 'simplist': 3528, 'shirley': 3529, 'museum': 3530, 'casual': 3531, 'arab': 3532, 'hopeless': 3533, 'rendit': 3534, 'hardcor': 3535, 'illeg': 3536, 'khan': 3537, 'stack': 3538, 'applaud': 3539, 'vanish': 3540, 'stir': 3541, 'sh': 3542, 'stellar': 3543, 'maci': 3544, 'obtain': 3545, 'experiment': 3546, 'acid': 3547, 'defens': 3548, 'robinson': 3549, 'mayor': 3550, 'disgrac': 3551, 'loyal': 3552, 'mail': 3553, 'slide': 3554, 'unhappi': 3555, 'oz': 3556, 'uwe': 3557, 'robberi': 3558, 'boom': 3559, 'blew': 3560, 'declin': 3561, 'berlin': 3562, 'rifl': 3563, 'diana': 3564, 'span': 3565, 'hartley': 3566, 'emphasi': 3567, 'tempt': 3568, 'fri': 3569, 'counter': 3570, 'tenant': 3571, 'topless': 3572, 'incomprehens': 3573, 'spider': 3574, 'dismiss': 3575, 'wont': 3576, 'grandfath': 3577, 'psychic': 3578, 'soccer': 3579, 'craze': 3580, 'recruit': 3581, 'amanda': 3582, 'scroog': 3583, 'dicken': 3584, 'ration': 3585, 'justin': 3586, 'resurrect': 3587, 'revolt': 3588, 'goer': 3589, 'shed': 3590, 'riot': 3591, 'sibl': 3592, 'trashi': 3593, 'niro': 3594, 'faster': 3595, 'intim': 3596, 'parad': 3597, 'woo': 3598, 'lumet': 3599, 'wet': 3600, 'bitch': 3601, 'porno': 3602, 'shaw': 3603, 'ethnic': 3604, 'sympath': 3605, 'dealer': 3606, 'steam': 3607, 'jonathan': 3608, 'partial': 3609, 'wheel': 3610, 'honesti': 3611, 'weakest': 3612, 'ballet': 3613, 'slick': 3614, 'mario': 3615, 'enlighten': 3616, 'gap': 3617, 'feminist': 3618, 'ensur': 3619, 'hopper': 3620, 'farmer': 3621, 'andr': 3622, 'wendi': 3623, 'hesit': 3624, 'unreal': 3625, 'patriot': 3626, 'biographi': 3627, 'immort': 3628, 'commend': 3629, 'worm': 3630, 'rider': 3631, 'eager': 3632, '00': 3633, 'choru': 3634, 'region': 3635, 'nephew': 3636, 'lena': 3637, 'snap': 3638, 'mutant': 3639, 'morri': 3640, 'prequel': 3641, 'vice': 3642, 'kingdom': 3643, 'hung': 3644, 'psychopath': 3645, 'sandra': 3646, 'confin': 3647, 'properti': 3648, 'safeti': 3649, 'owen': 3650, 'skull': 3651, 'util': 3652, 'charlott': 3653, 'sappi': 3654, 'victori': 3655, 'macarthur': 3656, 'similarli': 3657, 'blunt': 3658, 'wore': 3659, 'nostalg': 3660, 'franco': 3661, 'repress': 3662, 'leo': 3663, 'composit': 3664, 'repli': 3665, 'bonu': 3666, 'valuabl': 3667, 'heartbreak': 3668, 'drain': 3669, 'deed': 3670, 'montana': 3671, 'whoopi': 3672, 'acquir': 3673, '1972': 3674, 'compens': 3675, 'cg': 3676, 'tad': 3677, 'drum': 3678, 'dust': 3679, 'speci': 3680, 'compass': 3681, 'bow': 3682, 'latin': 3683, 'rambl': 3684, 'miseri': 3685, 'farrel': 3686, 'exit': 3687, 'thru': 3688, 'campbel': 3689, 'emperor': 3690, 'dalton': 3691, 'nervou': 3692, 'despair': 3693, 'recycl': 3694, 'bergman': 3695, 'rope': 3696, 'snl': 3697, 'rocki': 3698, 'bumbl': 3699, 'pattern': 3700, 'strand': 3701, 'kyle': 3702, 'hyde': 3703, 'tail': 3704, 'del': 3705, 'orson': 3706, '35': 3707, 'pour': 3708, 'roth': 3709, 'tonight': 3710, 'chess': 3711, 'airport': 3712, 'downhil': 3713, 'romp': 3714, 'oppress': 3715, 'rapist': 3716, 'gimmick': 3717, 'mistress': 3718, 'percept': 3719, 'slug': 3720, 'martian': 3721, 'carradin': 3722, 'gal': 3723, 'wacki': 3724, 'bleed': 3725, 'da': 3726, 'olli': 3727, 'rotten': 3728, 'contempl': 3729, 'radic': 3730, 'preach': 3731, 'belt': 3732, 'champion': 3733, 'taught': 3734, 'tackl': 3735, 'paltrow': 3736, 'attorney': 3737, 'stilt': 3738, 'tooth': 3739, 'melodi': 3740, 'pervers': 3741, 'pervert': 3742, 'banal': 3743, 'arc': 3744, 'heal': 3745, 'pursuit': 3746, '1983': 3747, 'shelley': 3748, 'edgar': 3749, 'mislead': 3750, 'dazzl': 3751, 'programm': 3752, 'unpredict': 3753, 'slash': 3754, 'arguabl': 3755, 'vengeanc': 3756, 'maid': 3757, 'sensat': 3758, 'duval': 3759, 'poem': 3760, 'uplift': 3761, 'gambl': 3762, 'tiresom': 3763, 'closest': 3764, 'passeng': 3765, 'dixon': 3766, 'cleverli': 3767, 'orang': 3768, 'plight': 3769, 'chicken': 3770, 'employe': 3771, 'conneri': 3772, 'mesmer': 3773, 'franki': 3774, 'vocal': 3775, 'virginia': 3776, 'graham': 3777, 'bela': 3778, 'marti': 3779, 'rubi': 3780, 'raymond': 3781, '1968': 3782, 'swallow': 3783, 'whine': 3784, 'secretli': 3785, 'inject': 3786, 'profan': 3787, 'lundgren': 3788, 'giggl': 3789, 'clone': 3790, 'yawn': 3791, 'scottish': 3792, 'numb': 3793, 'calm': 3794, 'outing': 3795, 'convincingli': 3796, 'engross': 3797, 'volum': 3798, 'extens': 3799, 'suffic': 3800, 'paranoia': 3801, 'crystal': 3802, 'quarter': 3803, 'pokemon': 3804, 'bay': 3805, 'tube': 3806, 'climact': 3807, 'monologu': 3808, 'habit': 3809, 'mute': 3810, 'abraham': 3811, 'iran': 3812, 'gerard': 3813, 'amitabh': 3814, 'sirk': 3815, 'richardson': 3816, 'dispos': 3817, 'chicago': 3818, 'septemb': 3819, 'grotesqu': 3820, 'fed': 3821, 'poetri': 3822, 'trend': 3823, 'expand': 3824, 'taxi': 3825, 'ethan': 3826, 'plod': 3827, 'frankenstein': 3828, 'austen': 3829, 'spock': 3830, 'franci': 3831, 'im': 3832, 'bend': 3833, 'abort': 3834, 'linger': 3835, 'backward': 3836, 'earl': 3837, 'lowest': 3838, 'junior': 3839, 'meander': 3840, 'profess': 3841, 'nichola': 3842, 'surpass': 3843, 'underst': 3844, 'household': 3845, 'waitress': 3846, 'descent': 3847, 'mundan': 3848, 'dysfunct': 3849, 'hum': 3850, 'econom': 3851, 'sue': 3852, 'catchi': 3853, 'literatur': 3854, 'instrument': 3855, 'myth': 3856, 'rant': 3857, 'rubber': 3858, 'compliment': 3859, 'nostalgia': 3860, 'spoke': 3861, 'der': 3862, 'cannon': 3863, 'greedi': 3864, 'tourist': 3865, 'stallon': 3866, 'eugen': 3867, 'muddl': 3868, 'lure': 3869, 'simplic': 3870, 'duck': 3871, 'molli': 3872, 'carel': 3873, 'flee': 3874, 'insur': 3875, 'randi': 3876, 'irrelev': 3877, 'damon': 3878, 'phantom': 3879, 'equival': 3880, 'map': 3881, 'omen': 3882, 'coast': 3883, 'june': 3884, 'deaf': 3885, 'recognis': 3886, 'alongsid': 3887, 'dement': 3888, 'crucial': 3889, 'firstli': 3890, 'lang': 3891, 'stale': 3892, 'bacal': 3893, 'cent': 3894, 'mortal': 3895, 'mankind': 3896, 'recognit': 3897, 'hello': 3898, 'dictat': 3899, 'louis': 3900, 'phoni': 3901, 'eaten': 3902, 'occupi': 3903, 'furi': 3904, 'sissi': 3905, 'bump': 3906, 'blackmail': 3907, 'newli': 3908, 'heel': 3909, 'onlin': 3910, 'lengthi': 3911, 'rude': 3912, 'ashley': 3913, '1973': 3914, 'distinguish': 3915, 'buffalo': 3916, 'wisdom': 3917, 'likewis': 3918, 'drake': 3919, 'labor': 3920, 'twilight': 3921, 'reign': 3922, 'grayson': 3923, 'rooney': 3924, 'freez': 3925, 'daisi': 3926, 'dreari': 3927, 'bike': 3928, 'cyborg': 3929, 'loyalti': 3930, 'damm': 3931, 'biko': 3932, 'antwon': 3933, 'inher': 3934, 'worn': 3935, 'emphas': 3936, 'attribut': 3937, 'ridden': 3938, 'unorigin': 3939, 'prey': 3940, 'butler': 3941, 'keith': 3942, 'barrymor': 3943, 'approv': 3944, 'pink': 3945, 'startl': 3946, 'exposur': 3947, 'boxer': 3948, 'incorpor': 3949, 'analysi': 3950, 'proce': 3951, 'vein': 3952, 'chronicl': 3953, 'nineti': 3954, 'baddi': 3955, 'sailor': 3956, 'basketbal': 3957, 'interior': 3958, 'tunnel': 3959, 'provoc': 3960, 'underli': 3961, 'er': 3962, 'barrel': 3963, 'bunni': 3964, 'mormon': 3965, 'stalker': 3966, 'nicol': 3967, 'predat': 3968, 'meyer': 3969, 'walsh': 3970, 'degrad': 3971, 'drift': 3972, 'indiffer': 3973, 'improvis': 3974, 'undeni': 3975, 'mighti': 3976, 'hypnot': 3977, 'unrel': 3978, 'meg': 3979, 'substitut': 3980, 'robbin': 3981, 'fleet': 3982, 'millionair': 3983, 'julian': 3984, 'condemn': 3985, 'simmon': 3986, 'carla': 3987, 'othello': 3988, 'elm': 3989, 'belushi': 3990, 'dolph': 3991, 'watson': 3992, 'nyc': 3993, 'roof': 3994, 'vital': 3995, 'shove': 3996, 'unawar': 3997, 'warmth': 3998, 'enthusiasm': 3999, 'lampoon': 4000, 'hay': 4001, 'edgi': 4002, 'exquisit': 4003, 'firm': 4004, 'greed': 4005, 'disord': 4006, 'palac': 4007, 'alison': 4008, 'errol': 4009, 'novak': 4010, 'alarm': 4011, 'priceless': 4012, 'marion': 4013, 'mtv': 4014, 'reid': 4015, 'rukh': 4016, 'agenda': 4017, '3d': 4018, 'showdown': 4019, 'iraq': 4020, 'what': 4021, 'gestur': 4022, 'championship': 4023, 'peril': 4024, 'sergeant': 4025, 'preserv': 4026, 'spain': 4027, 'session': 4028, 'nun': 4029, 'unleash': 4030, 'profit': 4031, 'glanc': 4032, 'campaign': 4033, 'orlean': 4034, 'pamela': 4035, 'minimum': 4036, 'testament': 4037, 'israel': 4038, 'randomli': 4039, 'petti': 4040, 'peck': 4041, 'ponder': 4042, 'cassidi': 4043, 'angela': 4044, 'distort': 4045, '1933': 4046, 'beatl': 4047, 'crown': 4048, 'simultan': 4049, '13th': 4050, 'coup': 4051, 'drip': 4052, 'valentin': 4053, 'eastern': 4054, 'thompson': 4055, 'zizek': 4056, 'empathi': 4057, 'scotland': 4058, 'climat': 4059, 'han': 4060, 'jan': 4061, 'represent': 4062, 'gentleman': 4063, 'reson': 4064, 'shootout': 4065, 'exposit': 4066, 'mon': 4067, 'travesti': 4068, 'calib': 4069, 'crow': 4070, 'perpetu': 4071, 'cooki': 4072, 'crawl': 4073, 'rout': 4074, 'bro': 4075, 'brenda': 4076, 'miyazaki': 4077, 'valley': 4078, 'stake': 4079, '1984': 4080, 'regist': 4081, 'cream': 4082, 'buster': 4083, 'contradict': 4084, 'unimagin': 4085, 'restrain': 4086, 'quinn': 4087, 'kurosawa': 4088, 'realm': 4089, 'stroke': 4090, 'wig': 4091, 'din': 4092, 'fido': 4093, 'sabrina': 4094, 'spacey': 4095, 'ustinov': 4096, 'wax': 4097, 'femm': 4098, 'sammi': 4099, 'sucker': 4100, 'tacki': 4101, 'baldwin': 4102, 'passabl': 4103, 'ross': 4104, 'painter': 4105, 'delic': 4106, 'monoton': 4107, 'traumat': 4108, 'mclaglen': 4109, 'abomin': 4110, 'fuller': 4111, 'shoddi': 4112, '1987': 4113, 'shaki': 4114, 'crawford': 4115, 'distress': 4116, '1997': 4117, 'unseen': 4118, 'compromis': 4119, 'geek': 4120, 'dana': 4121, 'cloud': 4122, 'censor': 4123, 'derang': 4124, 'perceiv': 4125, 'warrant': 4126, 'demis': 4127, 'greg': 4128, 'pretens': 4129, 'darren': 4130, 'pole': 4131, 'unsatisfi': 4132, 'businessman': 4133, 'absent': 4134, 'meryl': 4135, 'stargat': 4136, 'josh': 4137, 'soderbergh': 4138, 'valid': 4139, 'accuraci': 4140, 'unravel': 4141, 'expedit': 4142, 'anchor': 4143, 'verbal': 4144, 'deniro': 4145, 'fog': 4146, 'wholli': 4147, 'click': 4148, 'correctli': 4149, 'primit': 4150, 'seal': 4151, 'judgment': 4152, 'antonioni': 4153, 'polici': 4154, '1993': 4155, 'deceas': 4156, 'austin': 4157, 'furiou': 4158, 'tech': 4159, 'tarantino': 4160, 'norm': 4161, 'clash': 4162, 'exclus': 4163, 'kumar': 4164, 'jewel': 4165, 'uncov': 4166, 'sid': 4167, 'nathan': 4168, 'fenc': 4169, 'dee': 4170, 'reluct': 4171, 'crippl': 4172, 'shanghai': 4173, 'sand': 4174, 'slam': 4175, 'darn': 4176, 'patienc': 4177, 'ritual': 4178, 'murray': 4179, 'joel': 4180, 'sheet': 4181, 'sustain': 4182, 'hallucin': 4183, 'pocket': 4184, 'mode': 4185, '1971': 4186, '1995': 4187, 'logan': 4188, 'trait': 4189, 'conduct': 4190, 'roller': 4191, 'enforc': 4192, 'unfair': 4193, 'vanc': 4194, '2008': 4195, 'wretch': 4196, 'tax': 4197, 'fought': 4198, 'seldom': 4199, 'wang': 4200, 'fabric': 4201, 'alec': 4202, 'temper': 4203, '3000': 4204, 'behold': 4205, 'nicola': 4206, 'fart': 4207, 'debt': 4208, 'sunni': 4209, 'dreck': 4210, 'bake': 4211, 'malon': 4212, 'clerk': 4213, 'schedul': 4214, 'rita': 4215, 'grief': 4216, 'conscious': 4217, 'pete': 4218, 'canyon': 4219, 'penni': 4220, 'squad': 4221, 'critiqu': 4222, 'runner': 4223, 'isabel': 4224, 'clau': 4225, 'fundament': 4226, 'helpless': 4227, 'preposter': 4228, 'legaci': 4229, 'guitar': 4230, 'outlin': 4231, 'scriptwrit': 4232, 'despis': 4233, 'stuart': 4234, 'exhaust': 4235, 'bridget': 4236, 'phil': 4237, 'robber': 4238, 'shell': 4239, 'technicolor': 4240, 'bias': 4241, 'stark': 4242, 'tactic': 4243, 'preston': 4244, 'sweep': 4245, 'soup': 4246, 'divid': 4247, 'propos': 4248, 'unexpectedli': 4249, 'liberti': 4250, 'connor': 4251, 'russia': 4252, 'downey': 4253, 'invad': 4254, 'flair': 4255, 'boyl': 4256, 'restrict': 4257, 'marc': 4258, 'vomit': 4259, 'jodi': 4260, 'sniper': 4261, 'rehash': 4262, 'bloom': 4263, 'consciou': 4264, 'jacket': 4265, 'gregori': 4266, 'passag': 4267, 'cigarett': 4268, 'alley': 4269, 'drove': 4270, 'inabl': 4271, 'kansa': 4272, 'alicia': 4273, 'rear': 4274, 'sugar': 4275, 'lacklust': 4276, 'agenc': 4277, 'sentinel': 4278, 'culmin': 4279, 'palanc': 4280, 'delv': 4281, 'implic': 4282, 'newman': 4283, 'tripe': 4284, 'vet': 4285, 'karl': 4286, 'behaviour': 4287, 'awhil': 4288, 'tendenc': 4289, 'wrench': 4290, '22': 4291, 'delet': 4292, 'horn': 4293, 'aesthet': 4294, 'cap': 4295, 'pale': 4296, 'bacon': 4297, 'sharon': 4298, '1936': 4299, 'lush': 4300, 'improb': 4301, 'chainsaw': 4302, 'ladder': 4303, 'feat': 4304, 'foxx': 4305, 'rampag': 4306, 'rehears': 4307, 'mccoy': 4308, 'rod': 4309, 'arrow': 4310, 'kolchak': 4311, 'asylum': 4312, 'yeti': 4313, 'prank': 4314, 'suspicion': 4315, 'weav': 4316, 'hackney': 4317, 'underneath': 4318, 'rhythm': 4319, '1920': 4320, '1988': 4321, 'globe': 4322, 'spice': 4323, 'newcom': 4324, 'tomorrow': 4325, '1978': 4326, 'stream': 4327, 'paramount': 4328, 'financ': 4329, 'suffici': 4330, 'conscienc': 4331, 'aristocrat': 4332, 'fright': 4333, 'elit': 4334, 'hungri': 4335, 'visitor': 4336, 'hulk': 4337, 'el': 4338, 'minu': 4339, 'loneli': 4340, '19th': 4341, 'tasteless': 4342, 'filler': 4343, 'amazon': 4344, 'coaster': 4345, 'wildli': 4346, 'basing': 4347, 'scoop': 4348, 'rumor': 4349, 'sung': 4350, 'shortcom': 4351, 'paradis': 4352, 'lurk': 4353, 'wagner': 4354, 'thunderbird': 4355, 'worship': 4356, 'teas': 4357, 'smell': 4358, 'en': 4359, 'hopkin': 4360, 'posey': 4361, 'standout': 4362, 'brit': 4363, 'iv': 4364, 'impos': 4365, 'choppi': 4366, 'counterpart': 4367, 'dirt': 4368, '75': 4369, 'springer': 4370, '1989': 4371, 'couch': 4372, 'tierney': 4373, 'abrupt': 4374, 'lectur': 4375, 'quietli': 4376, 'secondari': 4377, 'heist': 4378, 'penn': 4379, 'literari': 4380, 'grudg': 4381, 'ingeni': 4382, 'leigh': 4383, 'rub': 4384, 'recogniz': 4385, 'straightforward': 4386, '1939': 4387, 'cancer': 4388, 'chavez': 4389, 'inmat': 4390, 'minist': 4391, 'curli': 4392, 'bread': 4393, 'beverli': 4394, 'chamberlain': 4395, 'immers': 4396, 'entranc': 4397, 'atroc': 4398, 'wwe': 4399, 'naughti': 4400, 'paxton': 4401, 'ram': 4402, 'bernard': 4403, 'esther': 4404, 'geni': 4405, 'skeptic': 4406, 'laurenc': 4407, 'watcher': 4408, 'duel': 4409, 'sublim': 4410, 'yearn': 4411, 'heartfelt': 4412, 'entitl': 4413, 'moreov': 4414, 'nemesi': 4415, 'sassi': 4416, 'net': 4417, 'morbid': 4418, 'quaid': 4419, '1986': 4420, 'enthral': 4421, 'variat': 4422, 'lindsay': 4423, 'ace': 4424, 'policeman': 4425, 'nolan': 4426, 'missil': 4427, 'misguid': 4428, 'clan': 4429, 'attenborough': 4430, 'injuri': 4431, 'transcend': 4432, 'cattl': 4433, 'convert': 4434, 'ratso': 4435, 'characteris': 4436, 'uncut': 4437, 'obstacl': 4438, 'mytholog': 4439, '1979': 4440, 'buzz': 4441, 'tyler': 4442, 'kidman': 4443, 'grin': 4444, 'reliabl': 4445, 'bean': 4446, 'cruelti': 4447, 'puppi': 4448, 'artsi': 4449, 'youngest': 4450, 'vader': 4451, 'enabl': 4452, 'bye': 4453, 'carlito': 4454, 'moder': 4455, 'kitti': 4456, 'unexplain': 4457, 'egg': 4458, 'diari': 4459, 'brood': 4460, 'hopelessli': 4461, 'poe': 4462, 'graini': 4463, 'steadi': 4464, 'facil': 4465, 'rosemari': 4466, 'setup': 4467, 'out': 4468, 'dont': 4469, 'spiral': 4470, 'hk': 4471, 'despic': 4472, 'weather': 4473, 'patricia': 4474, 'niec': 4475, 'kline': 4476, 'gina': 4477, 'hammi': 4478, '1969': 4479, 'martha': 4480, 'bewar': 4481, 'exterior': 4482, 'oblig': 4483, 'acquaint': 4484, 'sweat': 4485, 'athlet': 4486, 'baffl': 4487, 'bronson': 4488, 'gillian': 4489, 'decept': 4490, 'brendan': 4491, 'heap': 4492, 'christin': 4493, 'hain': 4494, 'clueless': 4495, 'spontan': 4496, 'bounc': 4497, 'effici': 4498, 'disastr': 4499, 'preming': 4500, 'fuel': 4501, 'narrow': 4502, 'underworld': 4503, 'suprem': 4504, 'insipid': 4505, 'headach': 4506, 'housewif': 4507, 'virtu': 4508, 'injur': 4509, 'lester': 4510, 'mayhem': 4511, 'trigger': 4512, 'astound': 4513, 'taboo': 4514, 'preachi': 4515, 'analyz': 4516, 'angst': 4517, 'loath': 4518, '73': 4519, 'outlaw': 4520, 'viewpoint': 4521, 'shatter': 4522, 'sooner': 4523, 'goof': 4524, '19': 4525, 'scar': 4526, 'dilemma': 4527, 'fontain': 4528, 'rome': 4529, 'circu': 4530, 'biker': 4531, 'candl': 4532, 'tick': 4533, 'loi': 4534, 'harmless': 4535, 'enlist': 4536, 'dandi': 4537, 'mermaid': 4538, 'hepburn': 4539, 'uh': 4540, 'renaiss': 4541, 'sleepwalk': 4542, 'scorses': 4543, 'gere': 4544, 'boston': 4545, 'hostag': 4546, 'macho': 4547, 'stimul': 4548, 'phenomenon': 4549, 'redund': 4550, 'tripl': 4551, 'idol': 4552, 'steer': 4553, 'contempt': 4554, 'oldest': 4555, 'spade': 4556, 'sox': 4557, 'surgeri': 4558, 'ebert': 4559, 'stair': 4560, 'immatur': 4561, 'intric': 4562, 'corbett': 4563, 'salt': 4564, 'camcord': 4565, 'hokey': 4566, 'slimi': 4567, 'bent': 4568, 'amor': 4569, 'foolish': 4570, 'hooker': 4571, 'overlong': 4572, 'guin': 4573, 'whore': 4574, 'fluff': 4575, 'cassavet': 4576, 'zoom': 4577, 'filth': 4578, 'dismal': 4579, 'glorifi': 4580, 'dish': 4581, 'ariel': 4582, 'claustrophob': 4583, 'shred': 4584, 'messi': 4585, 'mount': 4586, 'joker': 4587, 'conquer': 4588, 'remad': 4589, 'mutual': 4590, 'alvin': 4591, 'down': 4592, 'harold': 4593, '1976': 4594, 'schlock': 4595, 'zane': 4596, 'cow': 4597, 'antagonist': 4598, 'flashi': 4599, 'beard': 4600, 'rhyme': 4601, 'flag': 4602, 'transplant': 4603, 'strongest': 4604, 'muscl': 4605, 'keen': 4606, 'cohen': 4607, 'fascist': 4608, 'preced': 4609, 'spree': 4610, 'frantic': 4611, 'assert': 4612, 'radiat': 4613, 'spinal': 4614, 'faint': 4615, 'widescreen': 4616, 'dwarf': 4617, 'cush': 4618, 'perman': 4619, 'shield': 4620, 'proport': 4621, 'obligatori': 4622, 'gasp': 4623, 'trivia': 4624, 'gabl': 4625, 'astronaut': 4626, '1981': 4627, 'flirt': 4628, 'margin': 4629, 'nolt': 4630, 'corman': 4631, 'naschi': 4632, 'scandal': 4633, 'flock': 4634, 'bachelor': 4635, 'carey': 4636, 'boob': 4637, 'archiv': 4638, 'wield': 4639, 'neurot': 4640, 'ritchi': 4641, 'www': 4642, 'discern': 4643, 'off': 4644, 'fishburn': 4645, 'repris': 4646, '1945': 4647, '95': 4648, 'resum': 4649, 'triangl': 4650, '28': 4651, 'departur': 4652, 'interestingli': 4653, 'vaniti': 4654, 'inflict': 4655, 'barn': 4656, 'sensual': 4657, 'persuad': 4658, 'danish': 4659, 'hara': 4660, 'divin': 4661, 'deer': 4662, 'instruct': 4663, 'strive': 4664, 'brush': 4665, 'bitten': 4666, 'mobil': 4667, 'info': 4668, 'someday': 4669, 'raj': 4670, 'mol': 4671, 'claud': 4672, 'aborigin': 4673, 'timberlak': 4674, 'dylan': 4675, 'axe': 4676, 'pickford': 4677, 'luka': 4678, 'fragil': 4679, 'artwork': 4680, 'biblic': 4681, 'wendigo': 4682, 'helm': 4683, 'mobster': 4684, 'dame': 4685, 'miracul': 4686, 'ish': 4687, 'clad': 4688, 'neill': 4689, 'prophet': 4690, 'pacif': 4691, 'hilar': 4692, 'rot': 4693, 'frontier': 4694, 'submit': 4695, 'colin': 4696, 'bate': 4697, 'heartwarm': 4698, 'proclaim': 4699, 'casino': 4700, 'earnest': 4701, 'jade': 4702, 'cb': 4703, 'banter': 4704, 'kathryn': 4705, 'dim': 4706, 'cher': 4707, 'harrison': 4708, 'hapless': 4709, 'vibrant': 4710, 'hug': 4711, 'cliffhang': 4712, 'recit': 4713, 'pixar': 4714, 'europa': 4715, 'melissa': 4716, 'parson': 4717, 'senior': 4718, 'undermin': 4719, 'anton': 4720, 'loretta': 4721, 'cycl': 4722, 'carlo': 4723, 'traffic': 4724, 'jordan': 4725, 'toronto': 4726, 'alexandr': 4727, 'marlon': 4728, 'vanessa': 4729, 'sicken': 4730, 'winchest': 4731, 'milo': 4732, 'http': 4733, 'seedi': 4734, 'feast': 4735, 'wardrob': 4736, 'bikini': 4737, 'token': 4738, 'jo': 4739, 'shepherd': 4740, 'flavor': 4741, 'venom': 4742, 'misfortun': 4743, 'redneck': 4744, 'mason': 4745, 'isra': 4746, 'static': 4747, 'razor': 4748, 'pc': 4749, 'legitim': 4750, 'breakfast': 4751, 'vile': 4752, 'rooki': 4753, 'mathieu': 4754, 'blatantli': 4755, 'foil': 4756, 'akin': 4757, 'choke': 4758, 'nope': 4759, 'cerebr': 4760, 'antholog': 4761, 'lui': 4762, 'trier': 4763, 'articl': 4764, 'aris': 4765, 'estrang': 4766, 'holocaust': 4767, 'bondag': 4768, 'electron': 4769, 'illus': 4770, 'orphan': 4771, 'uma': 4772, 'eli': 4773, 'lucil': 4774, 'northern': 4775, 'glare': 4776, 'abund': 4777, 'smack': 4778, 'turd': 4779, 'audrey': 4780, 'ideolog': 4781, 'psych': 4782, 'huston': 4783, 'nightclub': 4784, 'boyer': 4785, 'howl': 4786, 'feminin': 4787, 'charlton': 4788, 'deem': 4789, 'shorter': 4790, 'clinic': 4791, 'retriev': 4792, 'tack': 4793, 'gilbert': 4794, 'outdat': 4795, 'peer': 4796, 'dudley': 4797, 'frog': 4798, 'linear': 4799, 'affleck': 4800, 'comprehend': 4801, 'disregard': 4802, 'swept': 4803, 'wrestler': 4804, 'oppon': 4805, 'ceremoni': 4806, 'highway': 4807, 'knightley': 4808, 'fifth': 4809, 'magician': 4810, 'leather': 4811, 'gunga': 4812, 'cartoonish': 4813, 'styliz': 4814, 'bastard': 4815, 'sleaz': 4816, 'bogu': 4817, '1994': 4818, 'newer': 4819, 'lifeless': 4820, 'whack': 4821, 'conrad': 4822, 'corn': 4823, 'snatch': 4824, 'mitch': 4825, 'chip': 4826, 'monument': 4827, 'toe': 4828, '1991': 4829, 'deliver': 4830, '4th': 4831, 'spine': 4832, 'btw': 4833, 'summar': 4834, 'greet': 4835, 'collector': 4836, 'compris': 4837, 'cemeteri': 4838, 'client': 4839, 'uniformli': 4840, 'spawn': 4841, 'senat': 4842, 'evolut': 4843, 'energet': 4844, 'phenomen': 4845, 'plate': 4846, 'breakdown': 4847, 'boo': 4848, 'moe': 4849, 'braveheart': 4850, 'cuban': 4851, 'lighter': 4852, 'potter': 4853, 'lavish': 4854, 'durat': 4855, 'salman': 4856, 'einstein': 4857, 'goldsworthi': 4858, 'tara': 4859, 'alleg': 4860, 'inaccuraci': 4861, 'wtf': 4862, 'embark': 4863, 'pronounc': 4864, 'nina': 4865, 'jule': 4866, 'replay': 4867, '1977': 4868, 'jare': 4869, 'spectacl': 4870, 'ol': 4871, 'luxuri': 4872, 'appl': 4873, 'jam': 4874, 'trauma': 4875, 'evelyn': 4876, 'fluid': 4877, 'neatli': 4878, 'clara': 4879, 'bulk': 4880, 'jedi': 4881, 'firmli': 4882, 'outright': 4883, 'mcqueen': 4884, 'belli': 4885, 'constitut': 4886, 'sorrow': 4887, 'creek': 4888, 'bori': 4889, 'undertak': 4890, 'cecil': 4891, 'gilliam': 4892, 'ie': 4893, 'occup': 4894, 'historian': 4895, 'judd': 4896, 'signal': 4897, 'kent': 4898, 'healthi': 4899, '1974': 4900, 'liu': 4901, 'eleven': 4902, 'undead': 4903, 'kazan': 4904, 'armstrong': 4905, 'randolph': 4906, 'lex': 4907, 'capot': 4908, 'sacrif': 4909, 'pepper': 4910, 'groan': 4911, 'roar': 4912, 'propheci': 4913, 'decapit': 4914, 'comprehens': 4915, 'rosario': 4916, 'congratul': 4917, 'cape': 4918, 'genet': 4919, 'aussi': 4920, 'unsuspect': 4921, 'conan': 4922, 'knee': 4923, 'comb': 4924, 'blur': 4925, 'bait': 4926, 'id': 4927, 'antonio': 4928, 'sidewalk': 4929, 'vain': 4930, 'tokyo': 4931, 'meal': 4932, 'forgiven': 4933, 'inaccur': 4934, 'spray': 4935, 'curtain': 4936, 'miniseri': 4937, 'walt': 4938, 'lauren': 4939, '1985': 4940, 'vignett': 4941, 'carmen': 4942, 'abound': 4943, 'truman': 4944, 'paula': 4945, 'mum': 4946, 'bsg': 4947, 'galaxi': 4948, 'palm': 4949, 'relentless': 4950, 'kiddi': 4951, 'lanc': 4952, 'subtli': 4953, 'fruit': 4954, 'inclus': 4955, 'porter': 4956, 'pioneer': 4957, 'ash': 4958, 'poker': 4959, 'miami': 4960, 'unattract': 4961, 'goldblum': 4962, 'basket': 4963, 'frontal': 4964, 'epitom': 4965, 'substanti': 4966, 'scariest': 4967, 'casper': 4968, 'scarfac': 4969, 'sparkl': 4970, 'growth': 4971, 'drone': 4972, 'assort': 4973, 'omin': 4974, 'jill': 4975, 'orchestr': 4976, 'masterson': 4977, 'reincarn': 4978, 'vastli': 4979, 'dubiou': 4980, 'mice': 4981, 'victorian': 4982, 'cypher': 4983, 'optimist': 4984, 'detach': 4985, 'weaker': 4986, 'modest': 4987, 'asset': 4988, 'ghetto': 4989, 'rapidli': 4990, 'profil': 4991, 'weari': 4992, 'verg': 4993, 'sophi': 4994, '21st': 4995, 'incorrect': 4996, 'bach': 4997, 'bravo': 4998, 'handicap': 4999}\n"
     ]
    }
   ],
   "source": [
    "word_dict = build_dict(train_X)\n",
    "\n",
    "print(word_dict)"
   ]
  },
  {
   "cell_type": "code",
   "execution_count": null,
   "metadata": {},
   "outputs": [],
   "source": []
  },
  {
   "cell_type": "markdown",
   "metadata": {},
   "source": [
    "**Question:** What are the five most frequently appearing (tokenized) words in the training set? Does it makes sense that these words appear frequently in the training set?"
   ]
  },
  {
   "cell_type": "markdown",
   "metadata": {},
   "source": [
    "**Answer:**\n",
    "\n",
    "* `movi`, `film`, `one`, `like`, `time`. Yes, it makes sense that these appear frequently, but I wonder why movie is misspelled and some other words, too like: `realli` with index 16."
   ]
  },
  {
   "cell_type": "code",
   "execution_count": 15,
   "metadata": {},
   "outputs": [
    {
     "data": {
      "text/plain": [
       "{'movi': 2, 'film': 3, 'one': 4, 'like': 5, 'time': 6}"
      ]
     },
     "execution_count": 15,
     "metadata": {},
     "output_type": "execute_result"
    }
   ],
   "source": [
    "# TODO: Use this space to determine the five most frequently appearing words in the training set.\n",
    "\n",
    "{'movi': 2, 'film': 3, 'one': 4, 'like': 5, 'time': 6}"
   ]
  },
  {
   "cell_type": "markdown",
   "metadata": {},
   "source": [
    "### Save `word_dict`\n",
    "\n",
    "Later on when we construct an endpoint which processes a submitted review we will need to make use of the `word_dict` which we have created. As such, we will save it to a file now for future use."
   ]
  },
  {
   "cell_type": "code",
   "execution_count": 16,
   "metadata": {},
   "outputs": [],
   "source": [
    "data_dir = '../data/pytorch' # The folder we will use for storing data\n",
    "if not os.path.exists(data_dir): # Make sure that the folder exists\n",
    "    os.makedirs(data_dir)"
   ]
  },
  {
   "cell_type": "code",
   "execution_count": 17,
   "metadata": {},
   "outputs": [],
   "source": [
    "with open(os.path.join(data_dir, 'word_dict.pkl'), \"wb\") as f:\n",
    "    pickle.dump(word_dict, f)"
   ]
  },
  {
   "cell_type": "markdown",
   "metadata": {},
   "source": [
    "### Transform the reviews\n",
    "\n",
    "Now that we have our word dictionary which allows us to transform the words appearing in the reviews into integers, it is time to make use of it and convert our reviews to their integer sequence representation, making sure to pad or truncate to a fixed length, which in our case is `500`."
   ]
  },
  {
   "cell_type": "code",
   "execution_count": 18,
   "metadata": {},
   "outputs": [],
   "source": [
    "def convert_and_pad(word_dict, sentence, pad=500):\n",
    "    NOWORD = 0 # We will use 0 to represent the 'no word' category\n",
    "    INFREQ = 1 # and we use 1 to represent the infrequent words, i.e., words not appearing in word_dict\n",
    "    \n",
    "    working_sentence = [NOWORD] * pad\n",
    "    \n",
    "    for word_index, word in enumerate(sentence[:pad]):\n",
    "        if word in word_dict:\n",
    "            working_sentence[word_index] = word_dict[word]\n",
    "        else:\n",
    "            working_sentence[word_index] = INFREQ\n",
    "            \n",
    "    return working_sentence, min(len(sentence), pad)\n",
    "\n",
    "def convert_and_pad_data(word_dict, data, pad=500):\n",
    "    result = []\n",
    "    lengths = []\n",
    "    \n",
    "    for sentence in data:\n",
    "        converted, leng = convert_and_pad(word_dict, sentence, pad)\n",
    "        result.append(converted)\n",
    "        lengths.append(leng)\n",
    "        \n",
    "    return np.array(result), np.array(lengths)"
   ]
  },
  {
   "cell_type": "code",
   "execution_count": 19,
   "metadata": {},
   "outputs": [],
   "source": [
    "train_X, train_X_len = convert_and_pad_data(word_dict, train_X)\n",
    "test_X, test_X_len = convert_and_pad_data(word_dict, test_X)"
   ]
  },
  {
   "cell_type": "markdown",
   "metadata": {},
   "source": [
    "As a quick check to make sure that things are working as intended, check to see what one of the reviews in the training set looks like after having been processeed. Does this look reasonable? What is the length of a review in the training set?"
   ]
  },
  {
   "cell_type": "code",
   "execution_count": 20,
   "metadata": {},
   "outputs": [
    {
     "name": "stdout",
     "output_type": "stream",
     "text": [
      "[1079  573   17 1663  424   12    3 1308   77  210    1  841   40    5\n",
      "    1 1496 2236  115   38  463  287  207  427 1769  527  167  579    2\n",
      "   32 1308  288 1026   76 1290 2394    8    7   43   48  539  462  178\n",
      " 3783  973  687  128    1 1780  444  174    1   93 2377  900   30  209\n",
      "  252    3  128  744    5 4436    8  676 4584 4057  121    4 1776  931\n",
      " 4139   86   34 3934  530 2678  736  556  572  962  523 1000   22    1\n",
      "  523  204  579    1  523  196  584  258  306   41    1    3 1005  184\n",
      "  496 1022 1070 2447 1766    3  167 1671  405   38  405  564   11   56\n",
      "   49  205  329  430    3  146  376 2758  655   25 1265  183  415 1510\n",
      "  829   12    1 1543   25 1265   50    0    0    0    0    0    0    0\n",
      "    0    0    0    0    0    0    0    0    0    0    0    0    0    0\n",
      "    0    0    0    0    0    0    0    0    0    0    0    0    0    0\n",
      "    0    0    0    0    0    0    0    0    0    0    0    0    0    0\n",
      "    0    0    0    0    0    0    0    0    0    0    0    0    0    0\n",
      "    0    0    0    0    0    0    0    0    0    0    0    0    0    0\n",
      "    0    0    0    0    0    0    0    0    0    0    0    0    0    0\n",
      "    0    0    0    0    0    0    0    0    0    0    0    0    0    0\n",
      "    0    0    0    0    0    0    0    0    0    0    0    0    0    0\n",
      "    0    0    0    0    0    0    0    0    0    0    0    0    0    0\n",
      "    0    0    0    0    0    0    0    0    0    0    0    0    0    0\n",
      "    0    0    0    0    0    0    0    0    0    0    0    0    0    0\n",
      "    0    0    0    0    0    0    0    0    0    0    0    0    0    0\n",
      "    0    0    0    0    0    0    0    0    0    0    0    0    0    0\n",
      "    0    0    0    0    0    0    0    0    0    0    0    0    0    0\n",
      "    0    0    0    0    0    0    0    0    0    0    0    0    0    0\n",
      "    0    0    0    0    0    0    0    0    0    0    0    0    0    0\n",
      "    0    0    0    0    0    0    0    0    0    0    0    0    0    0\n",
      "    0    0    0    0    0    0    0    0    0    0    0    0    0    0\n",
      "    0    0    0    0    0    0    0    0    0    0    0    0    0    0\n",
      "    0    0    0    0    0    0    0    0    0    0    0    0    0    0\n",
      "    0    0    0    0    0    0    0    0    0    0    0    0    0    0\n",
      "    0    0    0    0    0    0    0    0    0    0    0    0    0    0\n",
      "    0    0    0    0    0    0    0    0    0    0    0    0    0    0\n",
      "    0    0    0    0    0    0    0    0    0    0    0    0    0    0\n",
      "    0    0    0    0    0    0    0    0    0    0    0    0    0    0\n",
      "    0    0    0    0    0    0    0    0    0    0]\n"
     ]
    }
   ],
   "source": [
    "# Use this cell to examine one of the processed reviews to make sure everything is working as intended.\n",
    "print(train_X[3])"
   ]
  },
  {
   "cell_type": "markdown",
   "metadata": {},
   "source": [
    "**Question:** In the cells above we use the `preprocess_data` and `convert_and_pad_data` methods to process both the training and testing set. Why or why not might this be a problem?"
   ]
  },
  {
   "cell_type": "markdown",
   "metadata": {},
   "source": [
    "**Answer:**\n",
    "\n",
    "* I don't see there is a problem using both methods. If the word is from the 4998 words of our vocabulary `word_dict` it will be given a value of its index and if the word is outside the vocabulary it will be given the value 1 and if the review is shorter than 500 words, the word index from the end of the review word index, till the 500th word it will be given a value of 0, which means no word represents this position of the created list."
   ]
  },
  {
   "cell_type": "markdown",
   "metadata": {},
   "source": [
    "## Step 3: Upload the data to S3\n",
    "\n",
    "As in the XGBoost notebook, we will need to upload the training dataset to S3 in order for our training code to access it. For now we will save it locally and we will upload to S3 later on.\n",
    "\n",
    "### Save the processed training dataset locally\n",
    "\n",
    "It is important to note the format of the data that we are saving as we will need to know it when we write the training code. In our case, each row of the dataset has the form `label`, `length`, `review[500]` where `review[500]` is a sequence of `500` integers representing the words in the review."
   ]
  },
  {
   "cell_type": "code",
   "execution_count": 21,
   "metadata": {},
   "outputs": [],
   "source": [
    "import pandas as pd\n",
    "    \n",
    "pd.concat([pd.DataFrame(train_y), pd.DataFrame(train_X_len), pd.DataFrame(train_X)], axis=1) \\\n",
    "        .to_csv(os.path.join(data_dir, 'train.csv'), header=False, index=False)"
   ]
  },
  {
   "cell_type": "markdown",
   "metadata": {},
   "source": [
    "### Uploading the training data\n",
    "\n",
    "\n",
    "Next, we need to upload the training data to the SageMaker default S3 bucket so that we can provide access to it while training our model."
   ]
  },
  {
   "cell_type": "code",
   "execution_count": 22,
   "metadata": {},
   "outputs": [],
   "source": [
    "import sagemaker\n",
    "\n",
    "sagemaker_session = sagemaker.Session()\n",
    "\n",
    "bucket = sagemaker_session.default_bucket()\n",
    "prefix = 'sagemaker/sentiment_rnn'\n",
    "\n",
    "role = sagemaker.get_execution_role()"
   ]
  },
  {
   "cell_type": "code",
   "execution_count": 23,
   "metadata": {},
   "outputs": [],
   "source": [
    "input_data = sagemaker_session.upload_data(path=data_dir, bucket=bucket, key_prefix=prefix)"
   ]
  },
  {
   "cell_type": "markdown",
   "metadata": {},
   "source": [
    "**NOTE:** The cell above uploads the entire contents of our data directory. This includes the `word_dict.pkl` file. This is fortunate as we will need this later on when we create an endpoint that accepts an arbitrary review. For now, we will just take note of the fact that it resides in the data directory (and so also in the S3 training bucket) and that we will need to make sure it gets saved in the model directory."
   ]
  },
  {
   "cell_type": "markdown",
   "metadata": {},
   "source": [
    "## Step 4: Build and Train the PyTorch Model\n",
    "\n",
    "In the XGBoost notebook we discussed what a model is in the SageMaker framework. In particular, a model comprises three objects\n",
    "\n",
    " - Model Artifacts,\n",
    " - Training Code, and\n",
    " - Inference Code,\n",
    " \n",
    "each of which interact with one another. In the XGBoost example we used training and inference code that was provided by Amazon. Here we will still be using containers provided by Amazon with the added benefit of being able to include our own custom code.\n",
    "\n",
    "We will start by implementing our own neural network in PyTorch along with a training script. For the purposes of this project we have provided the necessary model object in the `model.py` file, inside of the `train` folder. You can see the provided implementation by running the cell below."
   ]
  },
  {
   "cell_type": "code",
   "execution_count": 24,
   "metadata": {},
   "outputs": [
    {
     "name": "stdout",
     "output_type": "stream",
     "text": [
      "\u001b[34mimport\u001b[39;49;00m \u001b[04m\u001b[36mtorch.nn\u001b[39;49;00m \u001b[34mas\u001b[39;49;00m \u001b[04m\u001b[36mnn\u001b[39;49;00m\r\n",
      "\r\n",
      "\u001b[34mclass\u001b[39;49;00m \u001b[04m\u001b[32mLSTMClassifier\u001b[39;49;00m(nn.Module):\r\n",
      "    \u001b[33m\"\"\"\u001b[39;49;00m\r\n",
      "\u001b[33m    This is the simple RNN model we will be using to perform Sentiment Analysis.\u001b[39;49;00m\r\n",
      "\u001b[33m    \"\"\"\u001b[39;49;00m\r\n",
      "\r\n",
      "    \u001b[34mdef\u001b[39;49;00m \u001b[32m__init__\u001b[39;49;00m(\u001b[36mself\u001b[39;49;00m, embedding_dim, hidden_dim, vocab_size):\r\n",
      "        \u001b[33m\"\"\"\u001b[39;49;00m\r\n",
      "\u001b[33m        Initialize the model by settingg up the various layers.\u001b[39;49;00m\r\n",
      "\u001b[33m        \"\"\"\u001b[39;49;00m\r\n",
      "        \u001b[36msuper\u001b[39;49;00m(LSTMClassifier, \u001b[36mself\u001b[39;49;00m).\u001b[32m__init__\u001b[39;49;00m()\r\n",
      "\r\n",
      "        \u001b[36mself\u001b[39;49;00m.embedding = nn.Embedding(vocab_size, embedding_dim, padding_idx=\u001b[34m0\u001b[39;49;00m)\r\n",
      "        \u001b[36mself\u001b[39;49;00m.lstm = nn.LSTM(embedding_dim, hidden_dim)\r\n",
      "        \u001b[36mself\u001b[39;49;00m.dense = nn.Linear(in_features=hidden_dim, out_features=\u001b[34m1\u001b[39;49;00m)\r\n",
      "        \u001b[36mself\u001b[39;49;00m.sig = nn.Sigmoid()\r\n",
      "        \r\n",
      "        \u001b[36mself\u001b[39;49;00m.word_dict = \u001b[36mNone\u001b[39;49;00m\r\n",
      "\r\n",
      "    \u001b[34mdef\u001b[39;49;00m \u001b[32mforward\u001b[39;49;00m(\u001b[36mself\u001b[39;49;00m, x):\r\n",
      "        \u001b[33m\"\"\"\u001b[39;49;00m\r\n",
      "\u001b[33m        Perform a forward pass of our model on some input.\u001b[39;49;00m\r\n",
      "\u001b[33m        \"\"\"\u001b[39;49;00m\r\n",
      "        x = x.t()\r\n",
      "        lengths = x[\u001b[34m0\u001b[39;49;00m,:]\r\n",
      "        reviews = x[\u001b[34m1\u001b[39;49;00m:,:]\r\n",
      "        embeds = \u001b[36mself\u001b[39;49;00m.embedding(reviews)\r\n",
      "        lstm_out, _ = \u001b[36mself\u001b[39;49;00m.lstm(embeds)\r\n",
      "        out = \u001b[36mself\u001b[39;49;00m.dense(lstm_out)\r\n",
      "        out = out[lengths - \u001b[34m1\u001b[39;49;00m, \u001b[36mrange\u001b[39;49;00m(\u001b[36mlen\u001b[39;49;00m(lengths))]\r\n",
      "        \u001b[34mreturn\u001b[39;49;00m \u001b[36mself\u001b[39;49;00m.sig(out.squeeze())\r\n"
     ]
    }
   ],
   "source": [
    "!pygmentize train/model.py"
   ]
  },
  {
   "cell_type": "markdown",
   "metadata": {},
   "source": [
    "The important takeaway from the implementation provided is that there are three parameters that we may wish to tweak to improve the performance of our model. These are the embedding dimension, the hidden dimension and the size of the vocabulary. We will likely want to make these parameters configurable in the training script so that if we wish to modify them we do not need to modify the script itself. We will see how to do this later on. To start we will write some of the training code in the notebook so that we can more easily diagnose any issues that arise.\n",
    "\n",
    "First we will load a small portion of the training data set to use as a sample. It would be very time consuming to try and train the model completely in the notebook as we do not have access to a gpu and the compute instance that we are using is not particularly powerful. However, we can work on a small bit of the data to get a feel for how our training script is behaving."
   ]
  },
  {
   "cell_type": "code",
   "execution_count": 25,
   "metadata": {},
   "outputs": [],
   "source": [
    "import torch\n",
    "import torch.utils.data\n",
    "\n",
    "# Read in only the first 250 rows\n",
    "train_sample = pd.read_csv(os.path.join(data_dir, 'train.csv'), header=None, names=None, nrows=250)\n",
    "\n",
    "# Turn the input pandas dataframe into tensors\n",
    "train_sample_y = torch.from_numpy(train_sample[[0]].values).float().squeeze()\n",
    "train_sample_X = torch.from_numpy(train_sample.drop([0], axis=1).values).long()\n",
    "\n",
    "# Build the dataset\n",
    "train_sample_ds = torch.utils.data.TensorDataset(train_sample_X, train_sample_y)\n",
    "# Build the dataloader\n",
    "train_sample_dl = torch.utils.data.DataLoader(train_sample_ds, batch_size=50)"
   ]
  },
  {
   "cell_type": "markdown",
   "metadata": {},
   "source": [
    "### (TODO) Writing the training method\n",
    "\n",
    "Next we need to write the training code itself. This should be very similar to training methods that you have written before to train PyTorch models. We will leave any difficult aspects such as model saving / loading and parameter loading until a little later."
   ]
  },
  {
   "cell_type": "code",
   "execution_count": 26,
   "metadata": {},
   "outputs": [],
   "source": [
    "def train(model, train_loader, epochs, optimizer, loss_fn, device):\n",
    "    for epoch in range(1, epochs + 1):\n",
    "        model.train()\n",
    "        total_loss = 0\n",
    "        for batch in train_loader:         \n",
    "            batch_X, batch_y = batch\n",
    "            \n",
    "            batch_X = batch_X.to(device)\n",
    "            batch_y = batch_y.to(device)\n",
    "            \n",
    "            # TODO: Complete this train method to train the model provided.\n",
    "            optimizer.zero_grad()\n",
    "            out = model.forward(batch_X)\n",
    "            loss = loss_fn(out, batch_y)\n",
    "            loss.backward()\n",
    "            optimizer.step()\n",
    "            \n",
    "            total_loss += loss.data.item()\n",
    "        print(\"Epoch: {}, BCELoss: {}\".format(epoch, total_loss / len(train_loader)))"
   ]
  },
  {
   "cell_type": "markdown",
   "metadata": {},
   "source": [
    "Supposing we have the training method above, we will test that it is working by writing a bit of code in the notebook that executes our training method on the small sample training set that we loaded earlier. The reason for doing this in the notebook is so that we have an opportunity to fix any errors that arise early when they are easier to diagnose."
   ]
  },
  {
   "cell_type": "code",
   "execution_count": 27,
   "metadata": {},
   "outputs": [
    {
     "name": "stdout",
     "output_type": "stream",
     "text": [
      "Epoch: 1, BCELoss: 0.6923577189445496\n",
      "Epoch: 2, BCELoss: 0.6825461387634277\n",
      "Epoch: 3, BCELoss: 0.6737672805786132\n",
      "Epoch: 4, BCELoss: 0.6636521935462951\n",
      "Epoch: 5, BCELoss: 0.6506919622421264\n"
     ]
    }
   ],
   "source": [
    "import torch.optim as optim\n",
    "from train.model import LSTMClassifier\n",
    "\n",
    "device = torch.device(\"cuda\" if torch.cuda.is_available() else \"cpu\")\n",
    "model = LSTMClassifier(32, 100, 5000).to(device)\n",
    "optimizer = optim.Adam(model.parameters())\n",
    "loss_fn = torch.nn.BCELoss()\n",
    "\n",
    "train(model, train_sample_dl, 5, optimizer, loss_fn, device)"
   ]
  },
  {
   "cell_type": "markdown",
   "metadata": {},
   "source": [
    "In order to construct a PyTorch model using SageMaker we must provide SageMaker with a training script. We may optionally include a directory which will be copied to the container and from which our training code will be run. When the training container is executed it will check the uploaded directory (if there is one) for a `requirements.txt` file and install any required Python libraries, after which the training script will be run."
   ]
  },
  {
   "cell_type": "markdown",
   "metadata": {},
   "source": [
    "### (TODO) Training the model\n",
    "\n",
    "When a PyTorch model is constructed in SageMaker, an entry point must be specified. This is the Python file which will be executed when the model is trained. Inside of the `train` directory is a file called `train.py` which has been provided and which contains most of the necessary code to train our model. The only thing that is missing is the implementation of the `train()` method which you wrote earlier in this notebook.\n",
    "\n",
    "**TODO**: Copy the `train()` method written above and paste it into the `train/train.py` file where required.\n",
    "\n",
    "The way that SageMaker passes hyperparameters to the training script is by way of arguments. These arguments can then be parsed and used in the training script. To see how this is done take a look at the provided `train/train.py` file."
   ]
  },
  {
   "cell_type": "code",
   "execution_count": 28,
   "metadata": {},
   "outputs": [],
   "source": [
    "from sagemaker.pytorch import PyTorch\n",
    "\n",
    "estimator = PyTorch(entry_point=\"train.py\",\n",
    "                    source_dir=\"train\",\n",
    "                    role=role,\n",
    "                    framework_version='0.4.0',\n",
    "                    train_instance_count=1,\n",
    "                    train_instance_type='ml.p2.xlarge',\n",
    "                    hyperparameters={\n",
    "                        'epochs': 10,\n",
    "                        'hidden_dim': 200,\n",
    "                    })"
   ]
  },
  {
   "cell_type": "code",
   "execution_count": 29,
   "metadata": {},
   "outputs": [
    {
     "name": "stdout",
     "output_type": "stream",
     "text": [
      "2019-07-29 19:12:42 Starting - Starting the training job...\n",
      "2019-07-29 19:12:43 Starting - Launching requested ML instances......\n",
      "2019-07-29 19:13:47 Starting - Preparing the instances for training......\n",
      "2019-07-29 19:15:03 Downloading - Downloading input data...\n",
      "2019-07-29 19:15:30 Training - Downloading the training image...\n",
      "2019-07-29 19:16:02 Training - Training image download completed. Training in progress.\n",
      "\u001b[31mbash: cannot set terminal process group (-1): Inappropriate ioctl for device\u001b[0m\n",
      "\u001b[31mbash: no job control in this shell\u001b[0m\n",
      "\u001b[31m2019-07-29 19:16:03,144 sagemaker-containers INFO     Imported framework sagemaker_pytorch_container.training\u001b[0m\n",
      "\u001b[31m2019-07-29 19:16:03,169 sagemaker_pytorch_container.training INFO     Block until all host DNS lookups succeed.\u001b[0m\n",
      "\u001b[31m2019-07-29 19:16:03,173 sagemaker_pytorch_container.training INFO     Invoking user training script.\u001b[0m\n",
      "\u001b[31m2019-07-29 19:16:03,398 sagemaker-containers INFO     Module train does not provide a setup.py. \u001b[0m\n",
      "\u001b[31mGenerating setup.py\u001b[0m\n",
      "\u001b[31m2019-07-29 19:16:03,398 sagemaker-containers INFO     Generating setup.cfg\u001b[0m\n",
      "\u001b[31m2019-07-29 19:16:03,398 sagemaker-containers INFO     Generating MANIFEST.in\u001b[0m\n",
      "\u001b[31m2019-07-29 19:16:03,399 sagemaker-containers INFO     Installing module with the following command:\u001b[0m\n",
      "\u001b[31m/usr/bin/python -m pip install -U . -r requirements.txt\u001b[0m\n",
      "\u001b[31mProcessing /opt/ml/code\u001b[0m\n",
      "\u001b[31mCollecting pandas (from -r requirements.txt (line 1))\n",
      "  Downloading https://files.pythonhosted.org/packages/74/24/0cdbf8907e1e3bc5a8da03345c23cbed7044330bb8f73bb12e711a640a00/pandas-0.24.2-cp35-cp35m-manylinux1_x86_64.whl (10.0MB)\u001b[0m\n",
      "\u001b[31mCollecting numpy (from -r requirements.txt (line 2))\n",
      "  Downloading https://files.pythonhosted.org/packages/69/25/eef8d362bd216b11e7d005331a3cca3d19b0aa57569bde680070109b745c/numpy-1.17.0-cp35-cp35m-manylinux1_x86_64.whl (20.2MB)\u001b[0m\n",
      "\u001b[31mCollecting nltk (from -r requirements.txt (line 3))\n",
      "  Downloading https://files.pythonhosted.org/packages/87/16/4d247e27c55a7b6412e7c4c86f2500ae61afcbf5932b9e3491f8462f8d9e/nltk-3.4.4.zip (1.5MB)\u001b[0m\n",
      "\u001b[31mCollecting beautifulsoup4 (from -r requirements.txt (line 4))\n",
      "  Downloading https://files.pythonhosted.org/packages/1a/b7/34eec2fe5a49718944e215fde81288eec1fa04638aa3fb57c1c6cd0f98c3/beautifulsoup4-4.8.0-py3-none-any.whl (97kB)\u001b[0m\n",
      "\u001b[31mCollecting html5lib (from -r requirements.txt (line 5))\n",
      "  Downloading https://files.pythonhosted.org/packages/a5/62/bbd2be0e7943ec8504b517e62bab011b4946e1258842bc159e5dfde15b96/html5lib-1.0.1-py2.py3-none-any.whl (117kB)\u001b[0m\n",
      "\u001b[31mCollecting pytz>=2011k (from pandas->-r requirements.txt (line 1))\n",
      "  Downloading https://files.pythonhosted.org/packages/3d/73/fe30c2daaaa0713420d0382b16fbb761409f532c56bdcc514bf7b6262bb6/pytz-2019.1-py2.py3-none-any.whl (510kB)\u001b[0m\n",
      "\u001b[31mRequirement already satisfied, skipping upgrade: python-dateutil>=2.5.0 in /usr/local/lib/python3.5/dist-packages (from pandas->-r requirements.txt (line 1)) (2.7.5)\u001b[0m\n",
      "\u001b[31mRequirement already satisfied, skipping upgrade: six in /usr/local/lib/python3.5/dist-packages (from nltk->-r requirements.txt (line 3)) (1.11.0)\u001b[0m\n",
      "\u001b[31mCollecting soupsieve>=1.2 (from beautifulsoup4->-r requirements.txt (line 4))\n",
      "  Downloading https://files.pythonhosted.org/packages/35/e3/25079e8911085ab76a6f2facae0771078260c930216ab0b0c44dc5c9bf31/soupsieve-1.9.2-py2.py3-none-any.whl\u001b[0m\n",
      "\u001b[31mCollecting webencodings (from html5lib->-r requirements.txt (line 5))\n",
      "  Downloading https://files.pythonhosted.org/packages/f4/24/2a3e3df732393fed8b3ebf2ec078f05546de641fe1b667ee316ec1dcf3b7/webencodings-0.5.1-py2.py3-none-any.whl\u001b[0m\n",
      "\u001b[31mBuilding wheels for collected packages: nltk, train\n",
      "  Running setup.py bdist_wheel for nltk: started\n",
      "  Running setup.py bdist_wheel for nltk: finished with status 'done'\n",
      "  Stored in directory: /root/.cache/pip/wheels/41/c8/31/48ace4468e236e0e8435f30d33e43df48594e4d53e367cf061\n",
      "  Running setup.py bdist_wheel for train: started\u001b[0m\n",
      "\u001b[31m  Running setup.py bdist_wheel for train: finished with status 'done'\n",
      "  Stored in directory: /tmp/pip-ephem-wheel-cache-iyj7nclp/wheels/35/24/16/37574d11bf9bde50616c67372a334f94fa8356bc7164af8ca3\u001b[0m\n",
      "\u001b[31mSuccessfully built nltk train\u001b[0m\n",
      "\u001b[31mInstalling collected packages: pytz, numpy, pandas, nltk, soupsieve, beautifulsoup4, webencodings, html5lib, train\n",
      "  Found existing installation: numpy 1.15.4\n",
      "    Uninstalling numpy-1.15.4:\u001b[0m\n",
      "\u001b[31m      Successfully uninstalled numpy-1.15.4\u001b[0m\n",
      "\u001b[31mSuccessfully installed beautifulsoup4-4.8.0 html5lib-1.0.1 nltk-3.4.4 numpy-1.17.0 pandas-0.24.2 pytz-2019.1 soupsieve-1.9.2 train-1.0.0 webencodings-0.5.1\u001b[0m\n",
      "\u001b[31mYou are using pip version 18.1, however version 19.2.1 is available.\u001b[0m\n",
      "\u001b[31mYou should consider upgrading via the 'pip install --upgrade pip' command.\u001b[0m\n",
      "\u001b[31m2019-07-29 19:16:15,752 sagemaker-containers INFO     Invoking user script\n",
      "\u001b[0m\n",
      "\u001b[31mTraining Env:\n",
      "\u001b[0m\n",
      "\u001b[31m{\n",
      "    \"output_intermediate_dir\": \"/opt/ml/output/intermediate\",\n",
      "    \"input_data_config\": {\n",
      "        \"training\": {\n",
      "            \"TrainingInputMode\": \"File\",\n",
      "            \"RecordWrapperType\": \"None\",\n",
      "            \"S3DistributionType\": \"FullyReplicated\"\n",
      "        }\n",
      "    },\n",
      "    \"module_name\": \"train\",\n",
      "    \"num_gpus\": 1,\n",
      "    \"user_entry_point\": \"train.py\",\n",
      "    \"hyperparameters\": {\n",
      "        \"hidden_dim\": 200,\n",
      "        \"epochs\": 10\n",
      "    },\n",
      "    \"additional_framework_parameters\": {},\n",
      "    \"input_config_dir\": \"/opt/ml/input/config\",\n",
      "    \"model_dir\": \"/opt/ml/model\",\n",
      "    \"log_level\": 20,\n",
      "    \"channel_input_dirs\": {\n",
      "        \"training\": \"/opt/ml/input/data/training\"\n",
      "    },\n",
      "    \"job_name\": \"sagemaker-pytorch-2019-07-29-19-12-41-690\",\n",
      "    \"output_data_dir\": \"/opt/ml/output/data\",\n",
      "    \"input_dir\": \"/opt/ml/input\",\n",
      "    \"hosts\": [\n",
      "        \"algo-1\"\n",
      "    ],\n",
      "    \"module_dir\": \"s3://sagemaker-us-east-2-792956729049/sagemaker-pytorch-2019-07-29-19-12-41-690/source/sourcedir.tar.gz\",\n",
      "    \"resource_config\": {\n",
      "        \"current_host\": \"algo-1\",\n",
      "        \"hosts\": [\n",
      "            \"algo-1\"\n",
      "        ],\n",
      "        \"network_interface_name\": \"eth0\"\n",
      "    },\n",
      "    \"framework_module\": \"sagemaker_pytorch_container.training:main\",\n",
      "    \"current_host\": \"algo-1\",\n",
      "    \"num_cpus\": 4,\n",
      "    \"output_dir\": \"/opt/ml/output\",\n",
      "    \"network_interface_name\": \"eth0\"\u001b[0m\n",
      "\u001b[31m}\n",
      "\u001b[0m\n",
      "\u001b[31mEnvironment variables:\n",
      "\u001b[0m\n",
      "\u001b[31mPYTHONPATH=/usr/local/bin:/usr/lib/python35.zip:/usr/lib/python3.5:/usr/lib/python3.5/plat-x86_64-linux-gnu:/usr/lib/python3.5/lib-dynload:/usr/local/lib/python3.5/dist-packages:/usr/lib/python3/dist-packages\u001b[0m\n",
      "\u001b[31mSM_MODEL_DIR=/opt/ml/model\u001b[0m\n",
      "\u001b[31mSM_HP_EPOCHS=10\u001b[0m\n",
      "\u001b[31mSM_HP_HIDDEN_DIM=200\u001b[0m\n",
      "\u001b[31mSM_OUTPUT_INTERMEDIATE_DIR=/opt/ml/output/intermediate\u001b[0m\n",
      "\u001b[31mSM_HOSTS=[\"algo-1\"]\u001b[0m\n",
      "\u001b[31mSM_INPUT_DATA_CONFIG={\"training\":{\"RecordWrapperType\":\"None\",\"S3DistributionType\":\"FullyReplicated\",\"TrainingInputMode\":\"File\"}}\u001b[0m\n",
      "\u001b[31mSM_INPUT_DIR=/opt/ml/input\u001b[0m\n",
      "\u001b[31mSM_MODULE_NAME=train\u001b[0m\n",
      "\u001b[31mSM_OUTPUT_DATA_DIR=/opt/ml/output/data\u001b[0m\n",
      "\u001b[31mSM_NETWORK_INTERFACE_NAME=eth0\u001b[0m\n",
      "\u001b[31mSM_HPS={\"epochs\":10,\"hidden_dim\":200}\u001b[0m\n",
      "\u001b[31mSM_RESOURCE_CONFIG={\"current_host\":\"algo-1\",\"hosts\":[\"algo-1\"],\"network_interface_name\":\"eth0\"}\u001b[0m\n",
      "\u001b[31mSM_OUTPUT_DIR=/opt/ml/output\u001b[0m\n",
      "\u001b[31mSM_FRAMEWORK_MODULE=sagemaker_pytorch_container.training:main\u001b[0m\n",
      "\u001b[31mSM_NUM_GPUS=1\u001b[0m\n",
      "\u001b[31mSM_INPUT_CONFIG_DIR=/opt/ml/input/config\u001b[0m\n",
      "\u001b[31mSM_USER_ARGS=[\"--epochs\",\"10\",\"--hidden_dim\",\"200\"]\u001b[0m\n",
      "\u001b[31mSM_MODULE_DIR=s3://sagemaker-us-east-2-792956729049/sagemaker-pytorch-2019-07-29-19-12-41-690/source/sourcedir.tar.gz\u001b[0m\n",
      "\u001b[31mSM_NUM_CPUS=4\u001b[0m\n",
      "\u001b[31mSM_FRAMEWORK_PARAMS={}\u001b[0m\n",
      "\u001b[31mSM_CHANNELS=[\"training\"]\u001b[0m\n",
      "\u001b[31mSM_USER_ENTRY_POINT=train.py\u001b[0m\n",
      "\u001b[31mSM_CHANNEL_TRAINING=/opt/ml/input/data/training\u001b[0m\n",
      "\u001b[31mSM_TRAINING_ENV={\"additional_framework_parameters\":{},\"channel_input_dirs\":{\"training\":\"/opt/ml/input/data/training\"},\"current_host\":\"algo-1\",\"framework_module\":\"sagemaker_pytorch_container.training:main\",\"hosts\":[\"algo-1\"],\"hyperparameters\":{\"epochs\":10,\"hidden_dim\":200},\"input_config_dir\":\"/opt/ml/input/config\",\"input_data_config\":{\"training\":{\"RecordWrapperType\":\"None\",\"S3DistributionType\":\"FullyReplicated\",\"TrainingInputMode\":\"File\"}},\"input_dir\":\"/opt/ml/input\",\"job_name\":\"sagemaker-pytorch-2019-07-29-19-12-41-690\",\"log_level\":20,\"model_dir\":\"/opt/ml/model\",\"module_dir\":\"s3://sagemaker-us-east-2-792956729049/sagemaker-pytorch-2019-07-29-19-12-41-690/source/sourcedir.tar.gz\",\"module_name\":\"train\",\"network_interface_name\":\"eth0\",\"num_cpus\":4,\"num_gpus\":1,\"output_data_dir\":\"/opt/ml/output/data\",\"output_dir\":\"/opt/ml/output\",\"output_intermediate_dir\":\"/opt/ml/output/intermediate\",\"resource_config\":{\"current_host\":\"algo-1\",\"hosts\":[\"algo-1\"],\"network_interface_name\":\"eth0\"},\"user_entry_point\":\"train.py\"}\u001b[0m\n",
      "\u001b[31mSM_LOG_LEVEL=20\u001b[0m\n",
      "\u001b[31mSM_CURRENT_HOST=algo-1\n",
      "\u001b[0m\n",
      "\u001b[31mInvoking script with the following command:\n",
      "\u001b[0m\n",
      "\u001b[31m/usr/bin/python -m train --epochs 10 --hidden_dim 200\n",
      "\n",
      "\u001b[0m\n",
      "\u001b[31mUsing device cuda.\u001b[0m\n",
      "\u001b[31mGet train data loader.\u001b[0m\n"
     ]
    },
    {
     "name": "stdout",
     "output_type": "stream",
     "text": [
      "\u001b[31mModel loaded with embedding_dim 32, hidden_dim 200, vocab_size 5000.\u001b[0m\n",
      "\u001b[31mEpoch: 1, BCELoss: 0.6654357934484676\u001b[0m\n",
      "\u001b[31mEpoch: 2, BCELoss: 0.5681056605309857\u001b[0m\n",
      "\u001b[31mEpoch: 3, BCELoss: 0.4892809774194445\u001b[0m\n",
      "\u001b[31mEpoch: 4, BCELoss: 0.44574943732242195\u001b[0m\n",
      "\u001b[31mEpoch: 5, BCELoss: 0.4256531936781747\u001b[0m\n",
      "\u001b[31mEpoch: 6, BCELoss: 0.46504355814992165\u001b[0m\n",
      "\u001b[31mEpoch: 7, BCELoss: 0.3551240691116878\u001b[0m\n",
      "\u001b[31mEpoch: 8, BCELoss: 0.32002041473680615\u001b[0m\n",
      "\u001b[31mEpoch: 9, BCELoss: 0.29734865804107824\u001b[0m\n",
      "\u001b[31mEpoch: 10, BCELoss: 0.28080999729584677\u001b[0m\n",
      "\u001b[31m2019-07-29 19:19:22,742 sagemaker-containers INFO     Reporting training SUCCESS\u001b[0m\n",
      "\n",
      "2019-07-29 19:19:30 Uploading - Uploading generated training model\n",
      "2019-07-29 19:19:30 Completed - Training job completed\n",
      "Billable seconds: 267\n"
     ]
    }
   ],
   "source": [
    "estimator.fit({'training': input_data})"
   ]
  },
  {
   "cell_type": "markdown",
   "metadata": {},
   "source": [
    "## Step 5: Testing the model\n",
    "\n",
    "As mentioned at the top of this notebook, we will be testing this model by first deploying it and then sending the testing data to the deployed endpoint. We will do this so that we can make sure that the deployed model is working correctly.\n",
    "\n",
    "## Step 6: Deploy the model for testing\n",
    "\n",
    "Now that we have trained our model, we would like to test it to see how it performs. Currently our model takes input of the form `review_length, review[500]` where `review[500]` is a sequence of `500` integers which describe the words present in the review, encoded using `word_dict`. Fortunately for us, SageMaker provides built-in inference code for models with simple inputs such as this.\n",
    "\n",
    "There is one thing that we need to provide, however, and that is a function which loads the saved model. This function must be called `model_fn()` and takes as its only parameter a path to the directory where the model artifacts are stored. This function must also be present in the python file which we specified as the entry point. In our case the model loading function has been provided and so no changes need to be made.\n",
    "\n",
    "**NOTE**: When the built-in inference code is run it must import the `model_fn()` method from the `train.py` file. This is why the training code is wrapped in a main guard ( ie, `if __name__ == '__main__':` )\n",
    "\n",
    "Since we don't need to change anything in the code that was uploaded during training, we can simply deploy the current model as-is.\n",
    "\n",
    "**NOTE:** When deploying a model you are asking SageMaker to launch an compute instance that will wait for data to be sent to it. As a result, this compute instance will continue to run until *you* shut it down. This is important to know since the cost of a deployed endpoint depends on how long it has been running for.\n",
    "\n",
    "In other words **If you are no longer using a deployed endpoint, shut it down!**\n",
    "\n",
    "**TODO:** Deploy the trained model."
   ]
  },
  {
   "cell_type": "code",
   "execution_count": 30,
   "metadata": {},
   "outputs": [
    {
     "name": "stdout",
     "output_type": "stream",
     "text": [
      "--------------------------------------------------------------------------------------------------!"
     ]
    }
   ],
   "source": [
    "# TODO: Deploy the trained model\n",
    "predictor = estimator.deploy(initial_instance_count=1, instance_type='ml.p2.xlarge')\n",
    "\n"
   ]
  },
  {
   "cell_type": "markdown",
   "metadata": {},
   "source": [
    "## Step 7 - Use the model for testing\n",
    "\n",
    "Once deployed, we can read in the test data and send it off to our deployed model to get some results. Once we collect all of the results we can determine how accurate our model is."
   ]
  },
  {
   "cell_type": "code",
   "execution_count": 31,
   "metadata": {},
   "outputs": [],
   "source": [
    "test_X = pd.concat([pd.DataFrame(test_X_len), pd.DataFrame(test_X)], axis=1)"
   ]
  },
  {
   "cell_type": "code",
   "execution_count": 32,
   "metadata": {},
   "outputs": [],
   "source": [
    "# We split the data into chunks and send each chunk seperately, accumulating the results.\n",
    "\n",
    "def predict(data, rows=512):\n",
    "    split_array = np.array_split(data, int(data.shape[0] / float(rows) + 1))\n",
    "    predictions = np.array([])\n",
    "    for array in split_array:\n",
    "        predictions = np.append(predictions, predictor.predict(array))\n",
    "    \n",
    "    return predictions"
   ]
  },
  {
   "cell_type": "code",
   "execution_count": 33,
   "metadata": {},
   "outputs": [],
   "source": [
    "predictions = predict(test_X.values)\n",
    "predictions = [round(num) for num in predictions]"
   ]
  },
  {
   "cell_type": "code",
   "execution_count": 34,
   "metadata": {},
   "outputs": [
    {
     "data": {
      "text/plain": [
       "0.854"
      ]
     },
     "execution_count": 34,
     "metadata": {},
     "output_type": "execute_result"
    }
   ],
   "source": [
    "from sklearn.metrics import accuracy_score\n",
    "accuracy_score(test_y, predictions)"
   ]
  },
  {
   "cell_type": "markdown",
   "metadata": {},
   "source": [
    "**Question:** How does this model compare to the XGBoost model you created earlier? Why might these two models perform differently on this dataset? Which do *you* think is better for sentiment analysis?"
   ]
  },
  {
   "cell_type": "markdown",
   "metadata": {},
   "source": [
    "**Answer:**\n",
    "\n",
    "* This model uses another algorithm which is PyTorch, while the previous model uses XGBoost algorithm. They might perform differntly, if there were differences in the training set or the differences of the nature of each algorithm itself and how it creates the model and predict the outcomes."
   ]
  },
  {
   "cell_type": "markdown",
   "metadata": {},
   "source": [
    "### (TODO) More testing\n",
    "\n",
    "We now have a trained model which has been deployed and which we can send processed reviews to and which returns the predicted sentiment. However, ultimately we would like to be able to send our model an unprocessed review. That is, we would like to send the review itself as a string. For example, suppose we wish to send the following review to our model."
   ]
  },
  {
   "cell_type": "code",
   "execution_count": 35,
   "metadata": {},
   "outputs": [],
   "source": [
    "test_review = 'The simplest pleasures in life are the best, and this film is one of them. Combining a rather basic storyline of love and adventure this movie transcends the usual weekend fair with wit and unmitigated charm.'"
   ]
  },
  {
   "cell_type": "markdown",
   "metadata": {},
   "source": [
    "The question we now need to answer is, how do we send this review to our model?\n",
    "\n",
    "Recall in the first section of this notebook we did a bunch of data processing to the IMDb dataset. In particular, we did two specific things to the provided reviews.\n",
    " - Removed any html tags and stemmed the input\n",
    " - Encoded the review as a sequence of integers using `word_dict`\n",
    " \n",
    "In order process the review we will need to repeat these two steps.\n",
    "\n",
    "**TODO**: Using the `review_to_words` and `convert_and_pad` methods from section one, convert `test_review` into a numpy array `test_data` suitable to send to our model. Remember that our model expects input of the form `review_length, review[500]`."
   ]
  },
  {
   "cell_type": "code",
   "execution_count": 36,
   "metadata": {},
   "outputs": [
    {
     "name": "stdout",
     "output_type": "stream",
     "text": [
      "[array([   1, 1373,   50,   53,    3,    4,  878,  173,  392,  682,   29,\n",
      "        724,    2, 4432,  275, 2075, 1059,  760,    1,  581,    0,    0,\n",
      "          0,    0,    0,    0,    0,    0,    0,    0,    0,    0,    0,\n",
      "          0,    0,    0,    0,    0,    0,    0,    0,    0,    0,    0,\n",
      "          0,    0,    0,    0,    0,    0,    0,    0,    0,    0,    0,\n",
      "          0,    0,    0,    0,    0,    0,    0,    0,    0,    0,    0,\n",
      "          0,    0,    0,    0,    0,    0,    0,    0,    0,    0,    0,\n",
      "          0,    0,    0,    0,    0,    0,    0,    0,    0,    0,    0,\n",
      "          0,    0,    0,    0,    0,    0,    0,    0,    0,    0,    0,\n",
      "          0,    0,    0,    0,    0,    0,    0,    0,    0,    0,    0,\n",
      "          0,    0,    0,    0,    0,    0,    0,    0,    0,    0,    0,\n",
      "          0,    0,    0,    0,    0,    0,    0,    0,    0,    0,    0,\n",
      "          0,    0,    0,    0,    0,    0,    0,    0,    0,    0,    0,\n",
      "          0,    0,    0,    0,    0,    0,    0,    0,    0,    0,    0,\n",
      "          0,    0,    0,    0,    0,    0,    0,    0,    0,    0,    0,\n",
      "          0,    0,    0,    0,    0,    0,    0,    0,    0,    0,    0,\n",
      "          0,    0,    0,    0,    0,    0,    0,    0,    0,    0,    0,\n",
      "          0,    0,    0,    0,    0,    0,    0,    0,    0,    0,    0,\n",
      "          0,    0,    0,    0,    0,    0,    0,    0,    0,    0,    0,\n",
      "          0,    0,    0,    0,    0,    0,    0,    0,    0,    0,    0,\n",
      "          0,    0,    0,    0,    0,    0,    0,    0,    0,    0,    0,\n",
      "          0,    0,    0,    0,    0,    0,    0,    0,    0,    0,    0,\n",
      "          0,    0,    0,    0,    0,    0,    0,    0,    0,    0,    0,\n",
      "          0,    0,    0,    0,    0,    0,    0,    0,    0,    0,    0,\n",
      "          0,    0,    0,    0,    0,    0,    0,    0,    0,    0,    0,\n",
      "          0,    0,    0,    0,    0,    0,    0,    0,    0,    0,    0,\n",
      "          0,    0,    0,    0,    0,    0,    0,    0,    0,    0,    0,\n",
      "          0,    0,    0,    0,    0,    0,    0,    0,    0,    0,    0,\n",
      "          0,    0,    0,    0,    0,    0,    0,    0,    0,    0,    0,\n",
      "          0,    0,    0,    0,    0,    0,    0,    0,    0,    0,    0,\n",
      "          0,    0,    0,    0,    0,    0,    0,    0,    0,    0,    0,\n",
      "          0,    0,    0,    0,    0,    0,    0,    0,    0,    0,    0,\n",
      "          0,    0,    0,    0,    0,    0,    0,    0,    0,    0,    0,\n",
      "          0,    0,    0,    0,    0,    0,    0,    0,    0,    0,    0,\n",
      "          0,    0,    0,    0,    0,    0,    0,    0,    0,    0,    0,\n",
      "          0,    0,    0,    0,    0,    0,    0,    0,    0,    0,    0,\n",
      "          0,    0,    0,    0,    0,    0,    0,    0,    0,    0,    0,\n",
      "          0,    0,    0,    0,    0,    0,    0,    0,    0,    0,    0,\n",
      "          0,    0,    0,    0,    0,    0,    0,    0,    0,    0,    0,\n",
      "          0,    0,    0,    0,    0,    0,    0,    0,    0,    0,    0,\n",
      "          0,    0,    0,    0,    0,    0,    0,    0,    0,    0,    0,\n",
      "          0,    0,    0,    0,    0,    0,    0,    0,    0,    0,    0,\n",
      "          0,    0,    0,    0,    0,    0,    0,    0,    0,    0,    0,\n",
      "          0,    0,    0,    0,    0,    0,    0,    0,    0,    0,    0,\n",
      "          0,    0,    0,    0,    0,    0,    0,    0,    0,    0,    0,\n",
      "          0,    0,    0,    0,    0])]\n"
     ]
    }
   ],
   "source": [
    "# TODO: Convert test_review into a form usable by the model and save the results in test_data\n",
    "test_data_review_to_words = review_to_words(test_review)\n",
    "test_data = [np.array(convert_and_pad(word_dict, test_data_review_to_words)[0])]\n",
    "\n",
    "print(test_data)\n"
   ]
  },
  {
   "cell_type": "markdown",
   "metadata": {},
   "source": [
    "Now that we have processed the review, we can send the resulting array to our model to predict the sentiment of the review."
   ]
  },
  {
   "cell_type": "code",
   "execution_count": 37,
   "metadata": {},
   "outputs": [
    {
     "data": {
      "text/plain": [
       "array(0.40237075, dtype=float32)"
      ]
     },
     "execution_count": 37,
     "metadata": {},
     "output_type": "execute_result"
    }
   ],
   "source": [
    "predictor.predict(test_data)"
   ]
  },
  {
   "cell_type": "markdown",
   "metadata": {},
   "source": [
    "Since the return value of our model is close to `1`, we can be certain that the review we submitted is positive."
   ]
  },
  {
   "cell_type": "markdown",
   "metadata": {},
   "source": [
    "### Delete the endpoint\n",
    "\n",
    "Of course, just like in the XGBoost notebook, once we've deployed an endpoint it continues to run until we tell it to shut down. Since we are done using our endpoint for now, we can delete it."
   ]
  },
  {
   "cell_type": "code",
   "execution_count": 40,
   "metadata": {},
   "outputs": [],
   "source": [
    "estimator.delete_endpoint()"
   ]
  },
  {
   "cell_type": "markdown",
   "metadata": {},
   "source": [
    "## Step 6 (again) - Deploy the model for the web app\n",
    "\n",
    "Now that we know that our model is working, it's time to create some custom inference code so that we can send the model a review which has not been processed and have it determine the sentiment of the review.\n",
    "\n",
    "As we saw above, by default the estimator which we created, when deployed, will use the entry script and directory which we provided when creating the model. However, since we now wish to accept a string as input and our model expects a processed review, we need to write some custom inference code.\n",
    "\n",
    "We will store the code that we write in the `serve` directory. Provided in this directory is the `model.py` file that we used to construct our model, a `utils.py` file which contains the `review_to_words` and `convert_and_pad` pre-processing functions which we used during the initial data processing, and `predict.py`, the file which will contain our custom inference code. Note also that `requirements.txt` is present which will tell SageMaker what Python libraries are required by our custom inference code.\n",
    "\n",
    "When deploying a PyTorch model in SageMaker, you are expected to provide four functions which the SageMaker inference container will use.\n",
    " - `model_fn`: This function is the same function that we used in the training script and it tells SageMaker how to load our model.\n",
    " - `input_fn`: This function receives the raw serialized input that has been sent to the model's endpoint and its job is to de-serialize and make the input available for the inference code.\n",
    " - `output_fn`: This function takes the output of the inference code and its job is to serialize this output and return it to the caller of the model's endpoint.\n",
    " - `predict_fn`: The heart of the inference script, this is where the actual prediction is done and is the function which you will need to complete.\n",
    "\n",
    "For the simple website that we are constructing during this project, the `input_fn` and `output_fn` methods are relatively straightforward. We only require being able to accept a string as input and we expect to return a single value as output. You might imagine though that in a more complex application the input or output may be image data or some other binary data which would require some effort to serialize.\n",
    "\n",
    "### (TODO) Writing inference code\n",
    "\n",
    "Before writing our custom inference code, we will begin by taking a look at the code which has been provided."
   ]
  },
  {
   "cell_type": "code",
   "execution_count": 48,
   "metadata": {},
   "outputs": [
    {
     "name": "stdout",
     "output_type": "stream",
     "text": [
      "\u001b[34mimport\u001b[39;49;00m \u001b[04m\u001b[36margparse\u001b[39;49;00m\r\n",
      "\u001b[34mimport\u001b[39;49;00m \u001b[04m\u001b[36mjson\u001b[39;49;00m\r\n",
      "\u001b[34mimport\u001b[39;49;00m \u001b[04m\u001b[36mos\u001b[39;49;00m\r\n",
      "\u001b[34mimport\u001b[39;49;00m \u001b[04m\u001b[36mpickle\u001b[39;49;00m\r\n",
      "\u001b[34mimport\u001b[39;49;00m \u001b[04m\u001b[36msys\u001b[39;49;00m\r\n",
      "\u001b[34mimport\u001b[39;49;00m \u001b[04m\u001b[36msagemaker_containers\u001b[39;49;00m\r\n",
      "\u001b[34mimport\u001b[39;49;00m \u001b[04m\u001b[36mpandas\u001b[39;49;00m \u001b[34mas\u001b[39;49;00m \u001b[04m\u001b[36mpd\u001b[39;49;00m\r\n",
      "\u001b[34mimport\u001b[39;49;00m \u001b[04m\u001b[36mnumpy\u001b[39;49;00m \u001b[34mas\u001b[39;49;00m \u001b[04m\u001b[36mnp\u001b[39;49;00m\r\n",
      "\u001b[34mimport\u001b[39;49;00m \u001b[04m\u001b[36mtorch\u001b[39;49;00m\r\n",
      "\u001b[34mimport\u001b[39;49;00m \u001b[04m\u001b[36mtorch.nn\u001b[39;49;00m \u001b[34mas\u001b[39;49;00m \u001b[04m\u001b[36mnn\u001b[39;49;00m\r\n",
      "\u001b[34mimport\u001b[39;49;00m \u001b[04m\u001b[36mtorch.optim\u001b[39;49;00m \u001b[34mas\u001b[39;49;00m \u001b[04m\u001b[36moptim\u001b[39;49;00m\r\n",
      "\u001b[34mimport\u001b[39;49;00m \u001b[04m\u001b[36mtorch.utils.data\u001b[39;49;00m\r\n",
      "\r\n",
      "\u001b[34mfrom\u001b[39;49;00m \u001b[04m\u001b[36mmodel\u001b[39;49;00m \u001b[34mimport\u001b[39;49;00m LSTMClassifier\r\n",
      "\r\n",
      "\u001b[34mfrom\u001b[39;49;00m \u001b[04m\u001b[36mutils\u001b[39;49;00m \u001b[34mimport\u001b[39;49;00m review_to_words, convert_and_pad\r\n",
      "\r\n",
      "\u001b[34mdef\u001b[39;49;00m \u001b[32mmodel_fn\u001b[39;49;00m(model_dir):\r\n",
      "    \u001b[33m\"\"\"Load the PyTorch model from the `model_dir` directory.\"\"\"\u001b[39;49;00m\r\n",
      "    \u001b[34mprint\u001b[39;49;00m(\u001b[33m\"\u001b[39;49;00m\u001b[33mLoading model.\u001b[39;49;00m\u001b[33m\"\u001b[39;49;00m)\r\n",
      "\r\n",
      "    \u001b[37m# First, load the parameters used to create the model.\u001b[39;49;00m\r\n",
      "    model_info = {}\r\n",
      "    model_info_path = os.path.join(model_dir, \u001b[33m'\u001b[39;49;00m\u001b[33mmodel_info.pth\u001b[39;49;00m\u001b[33m'\u001b[39;49;00m)\r\n",
      "    \u001b[34mwith\u001b[39;49;00m \u001b[36mopen\u001b[39;49;00m(model_info_path, \u001b[33m'\u001b[39;49;00m\u001b[33mrb\u001b[39;49;00m\u001b[33m'\u001b[39;49;00m) \u001b[34mas\u001b[39;49;00m f:\r\n",
      "        model_info = torch.load(f)\r\n",
      "\r\n",
      "    \u001b[34mprint\u001b[39;49;00m(\u001b[33m\"\u001b[39;49;00m\u001b[33mmodel_info: {}\u001b[39;49;00m\u001b[33m\"\u001b[39;49;00m.format(model_info))\r\n",
      "\r\n",
      "    \u001b[37m# Determine the device and construct the model.\u001b[39;49;00m\r\n",
      "    device = torch.device(\u001b[33m\"\u001b[39;49;00m\u001b[33mcuda\u001b[39;49;00m\u001b[33m\"\u001b[39;49;00m \u001b[34mif\u001b[39;49;00m torch.cuda.is_available() \u001b[34melse\u001b[39;49;00m \u001b[33m\"\u001b[39;49;00m\u001b[33mcpu\u001b[39;49;00m\u001b[33m\"\u001b[39;49;00m)\r\n",
      "    model = LSTMClassifier(model_info[\u001b[33m'\u001b[39;49;00m\u001b[33membedding_dim\u001b[39;49;00m\u001b[33m'\u001b[39;49;00m], model_info[\u001b[33m'\u001b[39;49;00m\u001b[33mhidden_dim\u001b[39;49;00m\u001b[33m'\u001b[39;49;00m], model_info[\u001b[33m'\u001b[39;49;00m\u001b[33mvocab_size\u001b[39;49;00m\u001b[33m'\u001b[39;49;00m])\r\n",
      "\r\n",
      "    \u001b[37m# Load the store model parameters.\u001b[39;49;00m\r\n",
      "    model_path = os.path.join(model_dir, \u001b[33m'\u001b[39;49;00m\u001b[33mmodel.pth\u001b[39;49;00m\u001b[33m'\u001b[39;49;00m)\r\n",
      "    \u001b[34mwith\u001b[39;49;00m \u001b[36mopen\u001b[39;49;00m(model_path, \u001b[33m'\u001b[39;49;00m\u001b[33mrb\u001b[39;49;00m\u001b[33m'\u001b[39;49;00m) \u001b[34mas\u001b[39;49;00m f:\r\n",
      "        model.load_state_dict(torch.load(f))\r\n",
      "\r\n",
      "    \u001b[37m# Load the saved word_dict.\u001b[39;49;00m\r\n",
      "    word_dict_path = os.path.join(model_dir, \u001b[33m'\u001b[39;49;00m\u001b[33mword_dict.pkl\u001b[39;49;00m\u001b[33m'\u001b[39;49;00m)\r\n",
      "    \u001b[34mwith\u001b[39;49;00m \u001b[36mopen\u001b[39;49;00m(word_dict_path, \u001b[33m'\u001b[39;49;00m\u001b[33mrb\u001b[39;49;00m\u001b[33m'\u001b[39;49;00m) \u001b[34mas\u001b[39;49;00m f:\r\n",
      "        model.word_dict = pickle.load(f)\r\n",
      "\r\n",
      "    model.to(device).eval()\r\n",
      "\r\n",
      "    \u001b[34mprint\u001b[39;49;00m(\u001b[33m\"\u001b[39;49;00m\u001b[33mDone loading model.\u001b[39;49;00m\u001b[33m\"\u001b[39;49;00m)\r\n",
      "    \u001b[34mreturn\u001b[39;49;00m model\r\n",
      "\r\n",
      "\u001b[34mdef\u001b[39;49;00m \u001b[32minput_fn\u001b[39;49;00m(serialized_input_data, content_type):\r\n",
      "    \u001b[34mprint\u001b[39;49;00m(\u001b[33m'\u001b[39;49;00m\u001b[33mDeserializing the input data.\u001b[39;49;00m\u001b[33m'\u001b[39;49;00m)\r\n",
      "    \u001b[34mif\u001b[39;49;00m content_type == \u001b[33m'\u001b[39;49;00m\u001b[33mtext/plain\u001b[39;49;00m\u001b[33m'\u001b[39;49;00m:\r\n",
      "        data = serialized_input_data.decode(\u001b[33m'\u001b[39;49;00m\u001b[33mutf-8\u001b[39;49;00m\u001b[33m'\u001b[39;49;00m)\r\n",
      "        \u001b[34mreturn\u001b[39;49;00m data\r\n",
      "    \u001b[34mraise\u001b[39;49;00m \u001b[36mException\u001b[39;49;00m(\u001b[33m'\u001b[39;49;00m\u001b[33mRequested unsupported ContentType in content_type: \u001b[39;49;00m\u001b[33m'\u001b[39;49;00m + content_type)\r\n",
      "\r\n",
      "\u001b[34mdef\u001b[39;49;00m \u001b[32moutput_fn\u001b[39;49;00m(prediction_output, accept):\r\n",
      "    \u001b[34mprint\u001b[39;49;00m(\u001b[33m'\u001b[39;49;00m\u001b[33mSerializing the generated output.\u001b[39;49;00m\u001b[33m'\u001b[39;49;00m)\r\n",
      "    \u001b[34mreturn\u001b[39;49;00m \u001b[36mstr\u001b[39;49;00m(prediction_output)\r\n",
      "\r\n",
      "\u001b[34mdef\u001b[39;49;00m \u001b[32mpredict_fn\u001b[39;49;00m(input_data, model):\r\n",
      "    \u001b[34mprint\u001b[39;49;00m(\u001b[33m'\u001b[39;49;00m\u001b[33mInferring sentiment of input data.\u001b[39;49;00m\u001b[33m'\u001b[39;49;00m)\r\n",
      "\r\n",
      "    device = torch.device(\u001b[33m\"\u001b[39;49;00m\u001b[33mcuda\u001b[39;49;00m\u001b[33m\"\u001b[39;49;00m \u001b[34mif\u001b[39;49;00m torch.cuda.is_available() \u001b[34melse\u001b[39;49;00m \u001b[33m\"\u001b[39;49;00m\u001b[33mcpu\u001b[39;49;00m\u001b[33m\"\u001b[39;49;00m)\r\n",
      "    \r\n",
      "    \u001b[34mif\u001b[39;49;00m model.word_dict \u001b[35mis\u001b[39;49;00m \u001b[36mNone\u001b[39;49;00m:\r\n",
      "        \u001b[34mraise\u001b[39;49;00m \u001b[36mException\u001b[39;49;00m(\u001b[33m'\u001b[39;49;00m\u001b[33mModel has not been loaded properly, no word_dict.\u001b[39;49;00m\u001b[33m'\u001b[39;49;00m)\r\n",
      "    \r\n",
      "    \u001b[37m# TODO: Process input_data so that it is ready to be sent to our model.\u001b[39;49;00m\r\n",
      "    \u001b[37m#       You should produce two variables:\u001b[39;49;00m\r\n",
      "    \u001b[37m#         data_X   - A sequence of length 500 which represents the converted review\u001b[39;49;00m\r\n",
      "    \u001b[37m#         data_len - The length of the review\u001b[39;49;00m\r\n",
      "\r\n",
      "    test_data_review_to_words = review_to_words(input_data)\r\n",
      "    data_X, data_len = convert_and_pad(word_dict, test_data_review_to_words)\r\n",
      "\r\n",
      "    \u001b[37m# Using data_X and data_len we construct an appropriate input tensor. Remember\u001b[39;49;00m\r\n",
      "    \u001b[37m# that our model expects input data of the form 'len, review[500]'.\u001b[39;49;00m\r\n",
      "    data_pack = np.hstack((data_len, data_X))\r\n",
      "    data_pack = data_pack.reshape(\u001b[34m1\u001b[39;49;00m, -\u001b[34m1\u001b[39;49;00m)\r\n",
      "    \r\n",
      "    data = torch.from_numpy(data_pack)\r\n",
      "    data = data.to(device)\r\n",
      "\r\n",
      "    \u001b[37m# Make sure to put the model into evaluation mode\u001b[39;49;00m\r\n",
      "    model.eval()\r\n",
      "\r\n",
      "    \u001b[37m# TODO: Compute the result of applying the model to the input data. The variable `result` should\u001b[39;49;00m\r\n",
      "    \u001b[37m#       be a numpy array which contains a single integer which is either 1 or 0\u001b[39;49;00m\r\n",
      "\r\n",
      "    \u001b[34mwith\u001b[39;49;00m torch.no_grad():\r\n",
      "        output = model.forward(data)\r\n",
      "\r\n",
      "    result = np.round(output.numpy())\r\n",
      "\r\n",
      "    \u001b[34mreturn\u001b[39;49;00m result\r\n"
     ]
    }
   ],
   "source": [
    "!pygmentize serve/predict.py"
   ]
  },
  {
   "cell_type": "markdown",
   "metadata": {},
   "source": [
    "As mentioned earlier, the `model_fn` method is the same as the one provided in the training code and the `input_fn` and `output_fn` methods are very simple and your task will be to complete the `predict_fn` method. Make sure that you save the completed file as `predict.py` in the `serve` directory.\n",
    "\n",
    "**TODO**: Complete the `predict_fn()` method in the `serve/predict.py` file."
   ]
  },
  {
   "cell_type": "markdown",
   "metadata": {},
   "source": [
    "### Deploying the model\n",
    "\n",
    "Now that the custom inference code has been written, we will create and deploy our model. To begin with, we need to construct a new PyTorchModel object which points to the model artifacts created during training and also points to the inference code that we wish to use. Then we can call the deploy method to launch the deployment container.\n",
    "\n",
    "**NOTE**: The default behaviour for a deployed PyTorch model is to assume that any input passed to the predictor is a `numpy` array. In our case we want to send a string so we need to construct a simple wrapper around the `RealTimePredictor` class to accomodate simple strings. In a more complicated situation you may want to provide a serialization object, for example if you wanted to sent image data."
   ]
  },
  {
   "cell_type": "code",
   "execution_count": 49,
   "metadata": {},
   "outputs": [
    {
     "name": "stdout",
     "output_type": "stream",
     "text": [
      "---------------------------------------------------------------------------------------!"
     ]
    }
   ],
   "source": [
    "from sagemaker.predictor import RealTimePredictor\n",
    "from sagemaker.pytorch import PyTorchModel\n",
    "\n",
    "class StringPredictor(RealTimePredictor):\n",
    "    def __init__(self, endpoint_name, sagemaker_session):\n",
    "        super(StringPredictor, self).__init__(endpoint_name, sagemaker_session, content_type='text/plain')\n",
    "\n",
    "model = PyTorchModel(model_data=estimator.model_data,\n",
    "                     role = role,\n",
    "                     framework_version='0.4.0',\n",
    "                     entry_point='predict.py',\n",
    "                     source_dir='serve',\n",
    "                     predictor_cls=StringPredictor)\n",
    "predictor = model.deploy(initial_instance_count=1, instance_type='ml.m4.xlarge')"
   ]
  },
  {
   "cell_type": "markdown",
   "metadata": {},
   "source": [
    "### Testing the model\n",
    "\n",
    "Now that we have deployed our model with the custom inference code, we should test to see if everything is working. Here we test our model by loading the first `250` positive and negative reviews and send them to the endpoint, then collect the results. The reason for only sending some of the data is that the amount of time it takes for our model to process the input and then perform inference is quite long and so testing the entire data set would be prohibitive."
   ]
  },
  {
   "cell_type": "code",
   "execution_count": 50,
   "metadata": {},
   "outputs": [],
   "source": [
    "import glob\n",
    "\n",
    "def test_reviews(data_dir='../data/aclImdb', stop=250):\n",
    "    \n",
    "    results = []\n",
    "    ground = []\n",
    "    \n",
    "    # We make sure to test both positive and negative reviews    \n",
    "    for sentiment in ['pos', 'neg']:\n",
    "        \n",
    "        path = os.path.join(data_dir, 'test', sentiment, '*.txt')\n",
    "        files = glob.glob(path)\n",
    "        \n",
    "        files_read = 0\n",
    "        \n",
    "        print('Starting ', sentiment, ' files')\n",
    "        \n",
    "        # Iterate through the files and send them to the predictor\n",
    "        for f in files:\n",
    "            with open(f) as review:\n",
    "                # First, we store the ground truth (was the review positive or negative)\n",
    "                if sentiment == 'pos':\n",
    "                    ground.append(1)\n",
    "                else:\n",
    "                    ground.append(0)\n",
    "                # Read in the review and convert to 'utf-8' for transmission via HTTP\n",
    "                review_input = review.read().encode('utf-8')\n",
    "                # Send the review to the predictor and store the results\n",
    "                results.append(int(predictor.predict(review_input)))\n",
    "                \n",
    "            # Sending reviews to our endpoint one at a time takes a while so we\n",
    "            # only send a small number of reviews\n",
    "            files_read += 1\n",
    "            if files_read == stop:\n",
    "                break\n",
    "            \n",
    "    return ground, results"
   ]
  },
  {
   "cell_type": "code",
   "execution_count": 51,
   "metadata": {},
   "outputs": [
    {
     "name": "stdout",
     "output_type": "stream",
     "text": [
      "Starting  pos  files\n"
     ]
    },
    {
     "ename": "ModelError",
     "evalue": "An error occurred (ModelError) when calling the InvokeEndpoint operation: Received server error (500) from model with message \"<!DOCTYPE HTML PUBLIC \"-//W3C//DTD HTML 3.2 Final//EN\">\n<title>500 Internal Server Error</title>\n<h1>Internal Server Error</h1>\n<p>The server encountered an internal error and was unable to complete your request.  Either the server is overloaded or there is an error in the application.</p>\n\". See https://us-east-2.console.aws.amazon.com/cloudwatch/home?region=us-east-2#logEventViewer:group=/aws/sagemaker/Endpoints/sagemaker-pytorch-2019-07-29-20-28-33-755 in account 792956729049 for more information.",
     "output_type": "error",
     "traceback": [
      "\u001b[0;31m---------------------------------------------------------------------------\u001b[0m",
      "\u001b[0;31mModelError\u001b[0m                                Traceback (most recent call last)",
      "\u001b[0;32m<ipython-input-51-27d1fd4b7c7b>\u001b[0m in \u001b[0;36m<module>\u001b[0;34m()\u001b[0m\n\u001b[0;32m----> 1\u001b[0;31m \u001b[0mground\u001b[0m\u001b[0;34m,\u001b[0m \u001b[0mresults\u001b[0m \u001b[0;34m=\u001b[0m \u001b[0mtest_reviews\u001b[0m\u001b[0;34m(\u001b[0m\u001b[0;34m)\u001b[0m\u001b[0;34m\u001b[0m\u001b[0m\n\u001b[0m",
      "\u001b[0;32m<ipython-input-50-4c56d4ff716b>\u001b[0m in \u001b[0;36mtest_reviews\u001b[0;34m(data_dir, stop)\u001b[0m\n\u001b[1;32m     27\u001b[0m                 \u001b[0mreview_input\u001b[0m \u001b[0;34m=\u001b[0m \u001b[0mreview\u001b[0m\u001b[0;34m.\u001b[0m\u001b[0mread\u001b[0m\u001b[0;34m(\u001b[0m\u001b[0;34m)\u001b[0m\u001b[0;34m.\u001b[0m\u001b[0mencode\u001b[0m\u001b[0;34m(\u001b[0m\u001b[0;34m'utf-8'\u001b[0m\u001b[0;34m)\u001b[0m\u001b[0;34m\u001b[0m\u001b[0m\n\u001b[1;32m     28\u001b[0m                 \u001b[0;31m# Send the review to the predictor and store the results\u001b[0m\u001b[0;34m\u001b[0m\u001b[0;34m\u001b[0m\u001b[0m\n\u001b[0;32m---> 29\u001b[0;31m                 \u001b[0mresults\u001b[0m\u001b[0;34m.\u001b[0m\u001b[0mappend\u001b[0m\u001b[0;34m(\u001b[0m\u001b[0mint\u001b[0m\u001b[0;34m(\u001b[0m\u001b[0mpredictor\u001b[0m\u001b[0;34m.\u001b[0m\u001b[0mpredict\u001b[0m\u001b[0;34m(\u001b[0m\u001b[0mreview_input\u001b[0m\u001b[0;34m)\u001b[0m\u001b[0;34m)\u001b[0m\u001b[0;34m)\u001b[0m\u001b[0;34m\u001b[0m\u001b[0m\n\u001b[0m\u001b[1;32m     30\u001b[0m \u001b[0;34m\u001b[0m\u001b[0m\n\u001b[1;32m     31\u001b[0m             \u001b[0;31m# Sending reviews to our endpoint one at a time takes a while so we\u001b[0m\u001b[0;34m\u001b[0m\u001b[0;34m\u001b[0m\u001b[0m\n",
      "\u001b[0;32m~/anaconda3/envs/pytorch_p36/lib/python3.6/site-packages/sagemaker/predictor.py\u001b[0m in \u001b[0;36mpredict\u001b[0;34m(self, data, initial_args)\u001b[0m\n\u001b[1;32m     85\u001b[0m \u001b[0;34m\u001b[0m\u001b[0m\n\u001b[1;32m     86\u001b[0m         \u001b[0mrequest_args\u001b[0m \u001b[0;34m=\u001b[0m \u001b[0mself\u001b[0m\u001b[0;34m.\u001b[0m\u001b[0m_create_request_args\u001b[0m\u001b[0;34m(\u001b[0m\u001b[0mdata\u001b[0m\u001b[0;34m,\u001b[0m \u001b[0minitial_args\u001b[0m\u001b[0;34m)\u001b[0m\u001b[0;34m\u001b[0m\u001b[0m\n\u001b[0;32m---> 87\u001b[0;31m         \u001b[0mresponse\u001b[0m \u001b[0;34m=\u001b[0m \u001b[0mself\u001b[0m\u001b[0;34m.\u001b[0m\u001b[0msagemaker_session\u001b[0m\u001b[0;34m.\u001b[0m\u001b[0msagemaker_runtime_client\u001b[0m\u001b[0;34m.\u001b[0m\u001b[0minvoke_endpoint\u001b[0m\u001b[0;34m(\u001b[0m\u001b[0;34m**\u001b[0m\u001b[0mrequest_args\u001b[0m\u001b[0;34m)\u001b[0m\u001b[0;34m\u001b[0m\u001b[0m\n\u001b[0m\u001b[1;32m     88\u001b[0m         \u001b[0;32mreturn\u001b[0m \u001b[0mself\u001b[0m\u001b[0;34m.\u001b[0m\u001b[0m_handle_response\u001b[0m\u001b[0;34m(\u001b[0m\u001b[0mresponse\u001b[0m\u001b[0;34m)\u001b[0m\u001b[0;34m\u001b[0m\u001b[0m\n\u001b[1;32m     89\u001b[0m \u001b[0;34m\u001b[0m\u001b[0m\n",
      "\u001b[0;32m~/anaconda3/envs/pytorch_p36/lib/python3.6/site-packages/botocore/client.py\u001b[0m in \u001b[0;36m_api_call\u001b[0;34m(self, *args, **kwargs)\u001b[0m\n\u001b[1;32m    355\u001b[0m                     \"%s() only accepts keyword arguments.\" % py_operation_name)\n\u001b[1;32m    356\u001b[0m             \u001b[0;31m# The \"self\" in this scope is referring to the BaseClient.\u001b[0m\u001b[0;34m\u001b[0m\u001b[0;34m\u001b[0m\u001b[0m\n\u001b[0;32m--> 357\u001b[0;31m             \u001b[0;32mreturn\u001b[0m \u001b[0mself\u001b[0m\u001b[0;34m.\u001b[0m\u001b[0m_make_api_call\u001b[0m\u001b[0;34m(\u001b[0m\u001b[0moperation_name\u001b[0m\u001b[0;34m,\u001b[0m \u001b[0mkwargs\u001b[0m\u001b[0;34m)\u001b[0m\u001b[0;34m\u001b[0m\u001b[0m\n\u001b[0m\u001b[1;32m    358\u001b[0m \u001b[0;34m\u001b[0m\u001b[0m\n\u001b[1;32m    359\u001b[0m         \u001b[0m_api_call\u001b[0m\u001b[0;34m.\u001b[0m\u001b[0m__name__\u001b[0m \u001b[0;34m=\u001b[0m \u001b[0mstr\u001b[0m\u001b[0;34m(\u001b[0m\u001b[0mpy_operation_name\u001b[0m\u001b[0;34m)\u001b[0m\u001b[0;34m\u001b[0m\u001b[0m\n",
      "\u001b[0;32m~/anaconda3/envs/pytorch_p36/lib/python3.6/site-packages/botocore/client.py\u001b[0m in \u001b[0;36m_make_api_call\u001b[0;34m(self, operation_name, api_params)\u001b[0m\n\u001b[1;32m    659\u001b[0m             \u001b[0merror_code\u001b[0m \u001b[0;34m=\u001b[0m \u001b[0mparsed_response\u001b[0m\u001b[0;34m.\u001b[0m\u001b[0mget\u001b[0m\u001b[0;34m(\u001b[0m\u001b[0;34m\"Error\"\u001b[0m\u001b[0;34m,\u001b[0m \u001b[0;34m{\u001b[0m\u001b[0;34m}\u001b[0m\u001b[0;34m)\u001b[0m\u001b[0;34m.\u001b[0m\u001b[0mget\u001b[0m\u001b[0;34m(\u001b[0m\u001b[0;34m\"Code\"\u001b[0m\u001b[0;34m)\u001b[0m\u001b[0;34m\u001b[0m\u001b[0m\n\u001b[1;32m    660\u001b[0m             \u001b[0merror_class\u001b[0m \u001b[0;34m=\u001b[0m \u001b[0mself\u001b[0m\u001b[0;34m.\u001b[0m\u001b[0mexceptions\u001b[0m\u001b[0;34m.\u001b[0m\u001b[0mfrom_code\u001b[0m\u001b[0;34m(\u001b[0m\u001b[0merror_code\u001b[0m\u001b[0;34m)\u001b[0m\u001b[0;34m\u001b[0m\u001b[0m\n\u001b[0;32m--> 661\u001b[0;31m             \u001b[0;32mraise\u001b[0m \u001b[0merror_class\u001b[0m\u001b[0;34m(\u001b[0m\u001b[0mparsed_response\u001b[0m\u001b[0;34m,\u001b[0m \u001b[0moperation_name\u001b[0m\u001b[0;34m)\u001b[0m\u001b[0;34m\u001b[0m\u001b[0m\n\u001b[0m\u001b[1;32m    662\u001b[0m         \u001b[0;32melse\u001b[0m\u001b[0;34m:\u001b[0m\u001b[0;34m\u001b[0m\u001b[0m\n\u001b[1;32m    663\u001b[0m             \u001b[0;32mreturn\u001b[0m \u001b[0mparsed_response\u001b[0m\u001b[0;34m\u001b[0m\u001b[0m\n",
      "\u001b[0;31mModelError\u001b[0m: An error occurred (ModelError) when calling the InvokeEndpoint operation: Received server error (500) from model with message \"<!DOCTYPE HTML PUBLIC \"-//W3C//DTD HTML 3.2 Final//EN\">\n<title>500 Internal Server Error</title>\n<h1>Internal Server Error</h1>\n<p>The server encountered an internal error and was unable to complete your request.  Either the server is overloaded or there is an error in the application.</p>\n\". See https://us-east-2.console.aws.amazon.com/cloudwatch/home?region=us-east-2#logEventViewer:group=/aws/sagemaker/Endpoints/sagemaker-pytorch-2019-07-29-20-28-33-755 in account 792956729049 for more information."
     ]
    }
   ],
   "source": [
    "ground, results = test_reviews()"
   ]
  },
  {
   "cell_type": "code",
   "execution_count": 52,
   "metadata": {},
   "outputs": [
    {
     "ename": "NameError",
     "evalue": "name 'ground' is not defined",
     "output_type": "error",
     "traceback": [
      "\u001b[0;31m---------------------------------------------------------------------------\u001b[0m",
      "\u001b[0;31mNameError\u001b[0m                                 Traceback (most recent call last)",
      "\u001b[0;32m<ipython-input-52-f3e6875633e1>\u001b[0m in \u001b[0;36m<module>\u001b[0;34m()\u001b[0m\n\u001b[1;32m      1\u001b[0m \u001b[0;32mfrom\u001b[0m \u001b[0msklearn\u001b[0m\u001b[0;34m.\u001b[0m\u001b[0mmetrics\u001b[0m \u001b[0;32mimport\u001b[0m \u001b[0maccuracy_score\u001b[0m\u001b[0;34m\u001b[0m\u001b[0m\n\u001b[0;32m----> 2\u001b[0;31m \u001b[0maccuracy_score\u001b[0m\u001b[0;34m(\u001b[0m\u001b[0mground\u001b[0m\u001b[0;34m,\u001b[0m \u001b[0mresults\u001b[0m\u001b[0;34m)\u001b[0m\u001b[0;34m\u001b[0m\u001b[0m\n\u001b[0m",
      "\u001b[0;31mNameError\u001b[0m: name 'ground' is not defined"
     ]
    }
   ],
   "source": [
    "from sklearn.metrics import accuracy_score\n",
    "accuracy_score(ground, results)"
   ]
  },
  {
   "cell_type": "markdown",
   "metadata": {},
   "source": [
    "As an additional test, we can try sending the `test_review` that we looked at earlier."
   ]
  },
  {
   "cell_type": "code",
   "execution_count": null,
   "metadata": {},
   "outputs": [],
   "source": [
    "predictor.predict(test_review)"
   ]
  },
  {
   "cell_type": "markdown",
   "metadata": {},
   "source": [
    "Now that we know our endpoint is working as expected, we can set up the web page that will interact with it. If you don't have time to finish the project now, make sure to skip down to the end of this notebook and shut down your endpoint. You can deploy it again when you come back."
   ]
  },
  {
   "cell_type": "markdown",
   "metadata": {},
   "source": [
    "## Step 7 (again): Use the model for the web app\n",
    "\n",
    "> **TODO:** This entire section and the next contain tasks for you to complete, mostly using the AWS console.\n",
    "\n",
    "So far we have been accessing our model endpoint by constructing a predictor object which uses the endpoint and then just using the predictor object to perform inference. What if we wanted to create a web app which accessed our model? The way things are set up currently makes that not possible since in order to access a SageMaker endpoint the app would first have to authenticate with AWS using an IAM role which included access to SageMaker endpoints. However, there is an easier way! We just need to use some additional AWS services.\n",
    "\n",
    "<img src=\"Web App Diagram.svg\">\n",
    "\n",
    "The diagram above gives an overview of how the various services will work together. On the far right is the model which we trained above and which is deployed using SageMaker. On the far left is our web app that collects a user's movie review, sends it off and expects a positive or negative sentiment in return.\n",
    "\n",
    "In the middle is where some of the magic happens. We will construct a Lambda function, which you can think of as a straightforward Python function that can be executed whenever a specified event occurs. We will give this function permission to send and recieve data from a SageMaker endpoint.\n",
    "\n",
    "Lastly, the method we will use to execute the Lambda function is a new endpoint that we will create using API Gateway. This endpoint will be a url that listens for data to be sent to it. Once it gets some data it will pass that data on to the Lambda function and then return whatever the Lambda function returns. Essentially it will act as an interface that lets our web app communicate with the Lambda function.\n",
    "\n",
    "### Setting up a Lambda function\n",
    "\n",
    "The first thing we are going to do is set up a Lambda function. This Lambda function will be executed whenever our public API has data sent to it. When it is executed it will receive the data, perform any sort of processing that is required, send the data (the review) to the SageMaker endpoint we've created and then return the result.\n",
    "\n",
    "#### Part A: Create an IAM Role for the Lambda function\n",
    "\n",
    "Since we want the Lambda function to call a SageMaker endpoint, we need to make sure that it has permission to do so. To do this, we will construct a role that we can later give the Lambda function.\n",
    "\n",
    "Using the AWS Console, navigate to the **IAM** page and click on **Roles**. Then, click on **Create role**. Make sure that the **AWS service** is the type of trusted entity selected and choose **Lambda** as the service that will use this role, then click **Next: Permissions**.\n",
    "\n",
    "In the search box type `sagemaker` and select the check box next to the **AmazonSageMakerFullAccess** policy. Then, click on **Next: Review**.\n",
    "\n",
    "Lastly, give this role a name. Make sure you use a name that you will remember later on, for example `LambdaSageMakerRole`. Then, click on **Create role**.\n",
    "\n",
    "#### Part B: Create a Lambda function\n",
    "\n",
    "Now it is time to actually create the Lambda function.\n",
    "\n",
    "Using the AWS Console, navigate to the AWS Lambda page and click on **Create a function**. When you get to the next page, make sure that **Author from scratch** is selected. Now, name your Lambda function, using a name that you will remember later on, for example `sentiment_analysis_func`. Make sure that the **Python 3.6** runtime is selected and then choose the role that you created in the previous part. Then, click on **Create Function**.\n",
    "\n",
    "On the next page you will see some information about the Lambda function you've just created. If you scroll down you should see an editor in which you can write the code that will be executed when your Lambda function is triggered. In our example, we will use the code below. \n",
    "\n",
    "```python\n",
    "# We need to use the low-level library to interact with SageMaker since the SageMaker API\n",
    "# is not available natively through Lambda.\n",
    "import boto3\n",
    "\n",
    "def lambda_handler(event, context):\n",
    "\n",
    "    # The SageMaker runtime is what allows us to invoke the endpoint that we've created.\n",
    "    runtime = boto3.Session().client('sagemaker-runtime')\n",
    "\n",
    "    # Now we use the SageMaker runtime to invoke our endpoint, sending the review we were given\n",
    "    response = runtime.invoke_endpoint(EndpointName = '**ENDPOINT NAME HERE**',    # The name of the endpoint we created\n",
    "                                       ContentType = 'text/plain',                 # The data format that is expected\n",
    "                                       Body = event['body'])                       # The actual review\n",
    "\n",
    "    # The response is an HTTP response whose body contains the result of our inference\n",
    "    result = response['Body'].read().decode('utf-8')\n",
    "\n",
    "    return {\n",
    "        'statusCode' : 200,\n",
    "        'headers' : { 'Content-Type' : 'text/plain', 'Access-Control-Allow-Origin' : '*' },\n",
    "        'body' : result\n",
    "    }\n",
    "```\n",
    "\n",
    "Once you have copy and pasted the code above into the Lambda code editor, replace the `**ENDPOINT NAME HERE**` portion with the name of the endpoint that we deployed earlier. You can determine the name of the endpoint using the code cell below."
   ]
  },
  {
   "cell_type": "code",
   "execution_count": 53,
   "metadata": {},
   "outputs": [
    {
     "data": {
      "text/plain": [
       "'sagemaker-pytorch-2019-07-29-20-28-33-755'"
      ]
     },
     "execution_count": 53,
     "metadata": {},
     "output_type": "execute_result"
    }
   ],
   "source": [
    "predictor.endpoint"
   ]
  },
  {
   "cell_type": "markdown",
   "metadata": {},
   "source": [
    "Once you have added the endpoint name to the Lambda function, click on **Save**. Your Lambda function is now up and running. Next we need to create a way for our web app to execute the Lambda function.\n",
    "\n",
    "### Setting up API Gateway\n",
    "\n",
    "Now that our Lambda function is set up, it is time to create a new API using API Gateway that will trigger the Lambda function we have just created.\n",
    "\n",
    "Using AWS Console, navigate to **Amazon API Gateway** and then click on **Get started**.\n",
    "\n",
    "On the next page, make sure that **New API** is selected and give the new api a name, for example, `sentiment_analysis_api`. Then, click on **Create API**.\n",
    "\n",
    "Now we have created an API, however it doesn't currently do anything. What we want it to do is to trigger the Lambda function that we created earlier.\n",
    "\n",
    "Select the **Actions** dropdown menu and click **Create Method**. A new blank method will be created, select its dropdown menu and select **POST**, then click on the check mark beside it.\n",
    "\n",
    "For the integration point, make sure that **Lambda Function** is selected and click on the **Use Lambda Proxy integration**. This option makes sure that the data that is sent to the API is then sent directly to the Lambda function with no processing. It also means that the return value must be a proper response object as it will also not be processed by API Gateway.\n",
    "\n",
    "Type the name of the Lambda function you created earlier into the **Lambda Function** text entry box and then click on **Save**. Click on **OK** in the pop-up box that then appears, giving permission to API Gateway to invoke the Lambda function you created.\n",
    "\n",
    "The last step in creating the API Gateway is to select the **Actions** dropdown and click on **Deploy API**. You will need to create a new Deployment stage and name it anything you like, for example `prod`.\n",
    "\n",
    "You have now successfully set up a public API to access your SageMaker model. Make sure to copy or write down the URL provided to invoke your newly created public API as this will be needed in the next step. This URL can be found at the top of the page, highlighted in blue next to the text **Invoke URL**."
   ]
  },
  {
   "cell_type": "markdown",
   "metadata": {},
   "source": [
    "## Step 4: Deploying our web app\n",
    "\n",
    "Now that we have a publicly available API, we can start using it in a web app. For our purposes, we have provided a simple static html file which can make use of the public api you created earlier.\n",
    "\n",
    "In the `website` folder there should be a file called `index.html`. Download the file to your computer and open that file up in a text editor of your choice. There should be a line which contains **\\*\\*REPLACE WITH PUBLIC API URL\\*\\***. Replace this string with the url that you wrote down in the last step and then save the file.\n",
    "\n",
    "Now, if you open `index.html` on your local computer, your browser will behave as a local web server and you can use the provided site to interact with your SageMaker model.\n",
    "\n",
    "If you'd like to go further, you can host this html file anywhere you'd like, for example using github or hosting a static site on Amazon's S3. Once you have done this you can share the link with anyone you'd like and have them play with it too!\n",
    "\n",
    "> **Important Note** In order for the web app to communicate with the SageMaker endpoint, the endpoint has to actually be deployed and running. This means that you are paying for it. Make sure that the endpoint is running when you want to use the web app but that you shut it down when you don't need it, otherwise you will end up with a surprisingly large AWS bill.\n",
    "\n",
    "**TODO:** Make sure that you include the edited `index.html` file in your project submission."
   ]
  },
  {
   "cell_type": "markdown",
   "metadata": {},
   "source": [
    "Now that your web app is working, trying playing around with it and see how well it works.\n",
    "\n",
    "**Question**: Give an example of a review that you entered into your web app. What was the predicted sentiment of your example review?"
   ]
  },
  {
   "cell_type": "markdown",
   "metadata": {},
   "source": [
    "**Answer:**"
   ]
  },
  {
   "cell_type": "markdown",
   "metadata": {},
   "source": [
    "### Delete the endpoint\n",
    "\n",
    "Remember to always shut down your endpoint if you are no longer using it. You are charged for the length of time that the endpoint is running so if you forget and leave it on you could end up with an unexpectedly large bill."
   ]
  },
  {
   "cell_type": "code",
   "execution_count": null,
   "metadata": {},
   "outputs": [],
   "source": [
    "predictor.delete_endpoint()"
   ]
  },
  {
   "cell_type": "code",
   "execution_count": null,
   "metadata": {},
   "outputs": [],
   "source": []
  }
 ],
 "metadata": {
  "kernelspec": {
   "display_name": "conda_pytorch_p36",
   "language": "python",
   "name": "conda_pytorch_p36"
  },
  "language_info": {
   "codemirror_mode": {
    "name": "ipython",
    "version": 3
   },
   "file_extension": ".py",
   "mimetype": "text/x-python",
   "name": "python",
   "nbconvert_exporter": "python",
   "pygments_lexer": "ipython3",
   "version": "3.6.5"
  }
 },
 "nbformat": 4,
 "nbformat_minor": 2
}
